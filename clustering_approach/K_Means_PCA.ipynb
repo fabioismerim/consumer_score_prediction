{
 "cells": [
  {
   "cell_type": "code",
   "execution_count": 1,
   "metadata": {},
   "outputs": [],
   "source": [
    "#importando bibliotecas\n",
    "\n",
    "import pandas as pd\n",
    "import numpy as np\n",
    "import seaborn as sns\n",
    "import matplotlib.pyplot as plt\n",
    "import matplotlib.style as style\n",
    "from sklearn.cluster import KMeans\n",
    "from sklearn.metrics import silhouette_score\n",
    "from sklearn.preprocessing import StandardScaler\n",
    "from sklearn.decomposition import PCA\n",
    "import prince\n",
    "%matplotlib inline\n",
    "\n",
    "# setting up plot style \n",
    "plt.style.use('fivethirtyeight')\n",
    "\n",
    "pd.set_option('display.max_rows', 500)\n",
    "pd.set_option('display.max_columns', 500)\n",
    "pd.set_option('display.width', 1000)\n",
    "pd.set_option('display.expand_frame_repr', False)\n"
   ]
  },
  {
   "cell_type": "code",
   "execution_count": 2,
   "metadata": {},
   "outputs": [
    {
     "data": {
      "text/html": [
       "<div>\n",
       "<style scoped>\n",
       "    .dataframe tbody tr th:only-of-type {\n",
       "        vertical-align: middle;\n",
       "    }\n",
       "\n",
       "    .dataframe tbody tr th {\n",
       "        vertical-align: top;\n",
       "    }\n",
       "\n",
       "    .dataframe thead th {\n",
       "        text-align: right;\n",
       "    }\n",
       "</style>\n",
       "<table border=\"1\" class=\"dataframe\">\n",
       "  <thead>\n",
       "    <tr style=\"text-align: right;\">\n",
       "      <th></th>\n",
       "      <th>order_purchase_timestamp</th>\n",
       "      <th>order_approved_at</th>\n",
       "      <th>order_delivered_carrier_date</th>\n",
       "      <th>order_delivered_customer_date</th>\n",
       "      <th>order_estimated_delivery_date</th>\n",
       "      <th>review_score</th>\n",
       "      <th>valor_frete_real</th>\n",
       "      <th>product_weight_g</th>\n",
       "      <th>product_photos_qty</th>\n",
       "      <th>payment_value</th>\n",
       "      <th>payment_sequential</th>\n",
       "    </tr>\n",
       "  </thead>\n",
       "  <tbody>\n",
       "    <tr>\n",
       "      <th>0</th>\n",
       "      <td>2017-10-02 10:56:33</td>\n",
       "      <td>2017-10-02 11:07:15</td>\n",
       "      <td>2017-10-04 19:55:00</td>\n",
       "      <td>2017-10-10 21:25:13</td>\n",
       "      <td>2017-10-18 00:00:00</td>\n",
       "      <td>4</td>\n",
       "      <td>8.72</td>\n",
       "      <td>500.0</td>\n",
       "      <td>4.0</td>\n",
       "      <td>38.71</td>\n",
       "      <td>3.0</td>\n",
       "    </tr>\n",
       "    <tr>\n",
       "      <th>1</th>\n",
       "      <td>2018-07-24 20:41:37</td>\n",
       "      <td>2018-07-26 03:24:27</td>\n",
       "      <td>2018-07-26 14:31:00</td>\n",
       "      <td>2018-08-07 15:27:45</td>\n",
       "      <td>2018-08-13 00:00:00</td>\n",
       "      <td>4</td>\n",
       "      <td>22.76</td>\n",
       "      <td>400.0</td>\n",
       "      <td>1.0</td>\n",
       "      <td>141.46</td>\n",
       "      <td>1.0</td>\n",
       "    </tr>\n",
       "    <tr>\n",
       "      <th>2</th>\n",
       "      <td>2018-08-08 08:38:49</td>\n",
       "      <td>2018-08-08 08:55:23</td>\n",
       "      <td>2018-08-08 13:50:00</td>\n",
       "      <td>2018-08-17 18:06:29</td>\n",
       "      <td>2018-09-04 00:00:00</td>\n",
       "      <td>5</td>\n",
       "      <td>19.22</td>\n",
       "      <td>420.0</td>\n",
       "      <td>1.0</td>\n",
       "      <td>179.12</td>\n",
       "      <td>1.0</td>\n",
       "    </tr>\n",
       "    <tr>\n",
       "      <th>3</th>\n",
       "      <td>2017-11-18 19:28:06</td>\n",
       "      <td>2017-11-18 19:45:59</td>\n",
       "      <td>2017-11-22 13:39:59</td>\n",
       "      <td>2017-12-02 00:28:42</td>\n",
       "      <td>2017-12-15 00:00:00</td>\n",
       "      <td>5</td>\n",
       "      <td>27.20</td>\n",
       "      <td>450.0</td>\n",
       "      <td>3.0</td>\n",
       "      <td>72.20</td>\n",
       "      <td>1.0</td>\n",
       "    </tr>\n",
       "    <tr>\n",
       "      <th>4</th>\n",
       "      <td>2018-02-13 21:18:39</td>\n",
       "      <td>2018-02-13 22:20:29</td>\n",
       "      <td>2018-02-14 19:46:34</td>\n",
       "      <td>2018-02-16 18:17:02</td>\n",
       "      <td>2018-02-26 00:00:00</td>\n",
       "      <td>5</td>\n",
       "      <td>8.72</td>\n",
       "      <td>250.0</td>\n",
       "      <td>4.0</td>\n",
       "      <td>28.62</td>\n",
       "      <td>1.0</td>\n",
       "    </tr>\n",
       "  </tbody>\n",
       "</table>\n",
       "</div>"
      ],
      "text/plain": [
       "  order_purchase_timestamp    order_approved_at order_delivered_carrier_date order_delivered_customer_date order_estimated_delivery_date  review_score  valor_frete_real  product_weight_g  product_photos_qty  payment_value  payment_sequential\n",
       "0      2017-10-02 10:56:33  2017-10-02 11:07:15          2017-10-04 19:55:00           2017-10-10 21:25:13           2017-10-18 00:00:00             4              8.72             500.0                 4.0          38.71                 3.0\n",
       "1      2018-07-24 20:41:37  2018-07-26 03:24:27          2018-07-26 14:31:00           2018-08-07 15:27:45           2018-08-13 00:00:00             4             22.76             400.0                 1.0         141.46                 1.0\n",
       "2      2018-08-08 08:38:49  2018-08-08 08:55:23          2018-08-08 13:50:00           2018-08-17 18:06:29           2018-09-04 00:00:00             5             19.22             420.0                 1.0         179.12                 1.0\n",
       "3      2017-11-18 19:28:06  2017-11-18 19:45:59          2017-11-22 13:39:59           2017-12-02 00:28:42           2017-12-15 00:00:00             5             27.20             450.0                 3.0          72.20                 1.0\n",
       "4      2018-02-13 21:18:39  2018-02-13 22:20:29          2018-02-14 19:46:34           2018-02-16 18:17:02           2018-02-26 00:00:00             5              8.72             250.0                 4.0          28.62                 1.0"
      ]
     },
     "execution_count": 2,
     "metadata": {},
     "output_type": "execute_result"
    }
   ],
   "source": [
    "#import dataset\n",
    "\n",
    "df = pd.read_csv('../datasets/data_to_pca.csv')\n",
    "#df.drop(columns = 'not_defined', inplace = True)\n",
    "df.head()"
   ]
  },
  {
   "cell_type": "code",
   "execution_count": 4,
   "metadata": {},
   "outputs": [
    {
     "name": "stdout",
     "output_type": "stream",
     "text": [
      "<class 'pandas.core.frame.DataFrame'>\n",
      "RangeIndex: 96455 entries, 0 to 96454\n",
      "Data columns (total 11 columns):\n",
      " #   Column                         Non-Null Count  Dtype  \n",
      "---  ------                         --------------  -----  \n",
      " 0   order_purchase_timestamp       96455 non-null  object \n",
      " 1   order_approved_at              96455 non-null  object \n",
      " 2   order_delivered_carrier_date   96455 non-null  object \n",
      " 3   order_delivered_customer_date  96455 non-null  object \n",
      " 4   order_estimated_delivery_date  96455 non-null  object \n",
      " 5   review_score                   96455 non-null  int64  \n",
      " 6   valor_frete_real               96455 non-null  float64\n",
      " 7   product_weight_g               96455 non-null  float64\n",
      " 8   product_photos_qty             96455 non-null  float64\n",
      " 9   payment_value                  96454 non-null  float64\n",
      " 10  payment_sequential             96454 non-null  float64\n",
      "dtypes: float64(5), int64(1), object(5)\n",
      "memory usage: 8.1+ MB\n"
     ]
    }
   ],
   "source": [
    "df.info()"
   ]
  },
  {
   "cell_type": "markdown",
   "metadata": {},
   "source": [
    "# Feature Engineering"
   ]
  },
  {
   "cell_type": "markdown",
   "metadata": {},
   "source": [
    "## Date Columns\n",
    "\n",
    "Add columns that are the difference between `order purchase` and anothers date columns"
   ]
  },
  {
   "cell_type": "code",
   "execution_count": 5,
   "metadata": {},
   "outputs": [],
   "source": [
    "df['order_purchase_timestamp'] = pd.to_datetime(df['order_purchase_timestamp'])\n",
    "df['order_approved_at'] = pd.to_datetime(df['order_approved_at'])\n",
    "df['order_delivered_carrier_date'] = pd.to_datetime(df['order_delivered_carrier_date'])\n",
    "df['order_delivered_customer_date'] = pd.to_datetime(df['order_delivered_customer_date'])\n",
    "df['order_estimated_delivery_date'] = pd.to_datetime(df['order_estimated_delivery_date'])"
   ]
  },
  {
   "cell_type": "code",
   "execution_count": 8,
   "metadata": {},
   "outputs": [
    {
     "data": {
      "text/html": [
       "<div>\n",
       "<style scoped>\n",
       "    .dataframe tbody tr th:only-of-type {\n",
       "        vertical-align: middle;\n",
       "    }\n",
       "\n",
       "    .dataframe tbody tr th {\n",
       "        vertical-align: top;\n",
       "    }\n",
       "\n",
       "    .dataframe thead th {\n",
       "        text-align: right;\n",
       "    }\n",
       "</style>\n",
       "<table border=\"1\" class=\"dataframe\">\n",
       "  <thead>\n",
       "    <tr style=\"text-align: right;\">\n",
       "      <th></th>\n",
       "      <th>order_purchase_timestamp</th>\n",
       "      <th>order_approved_at</th>\n",
       "      <th>order_delivered_carrier_date</th>\n",
       "      <th>order_delivered_customer_date</th>\n",
       "      <th>order_estimated_delivery_date</th>\n",
       "      <th>review_score</th>\n",
       "      <th>valor_frete_real</th>\n",
       "      <th>product_weight_g</th>\n",
       "      <th>product_photos_qty</th>\n",
       "      <th>payment_value</th>\n",
       "      <th>payment_sequential</th>\n",
       "      <th>diff_approved</th>\n",
       "      <th>diff_carrier</th>\n",
       "      <th>diff_customer</th>\n",
       "      <th>diff_estimate</th>\n",
       "      <th>diff_est_del</th>\n",
       "      <th>diff_purchase_delivered</th>\n",
       "    </tr>\n",
       "  </thead>\n",
       "  <tbody>\n",
       "    <tr>\n",
       "      <th>0</th>\n",
       "      <td>2017-10-02 10:56:33</td>\n",
       "      <td>2017-10-02 11:07:15</td>\n",
       "      <td>2017-10-04 19:55:00</td>\n",
       "      <td>2017-10-10 21:25:13</td>\n",
       "      <td>2017-10-18</td>\n",
       "      <td>4</td>\n",
       "      <td>8.72</td>\n",
       "      <td>500.0</td>\n",
       "      <td>4.0</td>\n",
       "      <td>38.71</td>\n",
       "      <td>3.0</td>\n",
       "      <td>0.007431</td>\n",
       "      <td>2.373924</td>\n",
       "      <td>8.436574</td>\n",
       "      <td>15.544063</td>\n",
       "      <td>7.107488</td>\n",
       "      <td>8.436574</td>\n",
       "    </tr>\n",
       "    <tr>\n",
       "      <th>1</th>\n",
       "      <td>2018-07-24 20:41:37</td>\n",
       "      <td>2018-07-26 03:24:27</td>\n",
       "      <td>2018-07-26 14:31:00</td>\n",
       "      <td>2018-08-07 15:27:45</td>\n",
       "      <td>2018-08-13</td>\n",
       "      <td>4</td>\n",
       "      <td>22.76</td>\n",
       "      <td>400.0</td>\n",
       "      <td>1.0</td>\n",
       "      <td>141.46</td>\n",
       "      <td>1.0</td>\n",
       "      <td>1.279745</td>\n",
       "      <td>1.742627</td>\n",
       "      <td>13.782037</td>\n",
       "      <td>19.137766</td>\n",
       "      <td>5.355729</td>\n",
       "      <td>13.782037</td>\n",
       "    </tr>\n",
       "    <tr>\n",
       "      <th>2</th>\n",
       "      <td>2018-08-08 08:38:49</td>\n",
       "      <td>2018-08-08 08:55:23</td>\n",
       "      <td>2018-08-08 13:50:00</td>\n",
       "      <td>2018-08-17 18:06:29</td>\n",
       "      <td>2018-09-04</td>\n",
       "      <td>5</td>\n",
       "      <td>19.22</td>\n",
       "      <td>420.0</td>\n",
       "      <td>1.0</td>\n",
       "      <td>179.12</td>\n",
       "      <td>1.0</td>\n",
       "      <td>0.011505</td>\n",
       "      <td>0.216100</td>\n",
       "      <td>9.394213</td>\n",
       "      <td>26.639711</td>\n",
       "      <td>17.245498</td>\n",
       "      <td>9.394213</td>\n",
       "    </tr>\n",
       "    <tr>\n",
       "      <th>3</th>\n",
       "      <td>2017-11-18 19:28:06</td>\n",
       "      <td>2017-11-18 19:45:59</td>\n",
       "      <td>2017-11-22 13:39:59</td>\n",
       "      <td>2017-12-02 00:28:42</td>\n",
       "      <td>2017-12-15</td>\n",
       "      <td>5</td>\n",
       "      <td>27.20</td>\n",
       "      <td>450.0</td>\n",
       "      <td>3.0</td>\n",
       "      <td>72.20</td>\n",
       "      <td>1.0</td>\n",
       "      <td>0.012419</td>\n",
       "      <td>3.758252</td>\n",
       "      <td>13.208750</td>\n",
       "      <td>26.188819</td>\n",
       "      <td>12.980069</td>\n",
       "      <td>13.208750</td>\n",
       "    </tr>\n",
       "    <tr>\n",
       "      <th>4</th>\n",
       "      <td>2018-02-13 21:18:39</td>\n",
       "      <td>2018-02-13 22:20:29</td>\n",
       "      <td>2018-02-14 19:46:34</td>\n",
       "      <td>2018-02-16 18:17:02</td>\n",
       "      <td>2018-02-26</td>\n",
       "      <td>5</td>\n",
       "      <td>8.72</td>\n",
       "      <td>250.0</td>\n",
       "      <td>4.0</td>\n",
       "      <td>28.62</td>\n",
       "      <td>1.0</td>\n",
       "      <td>0.042940</td>\n",
       "      <td>0.936053</td>\n",
       "      <td>2.873877</td>\n",
       "      <td>12.112049</td>\n",
       "      <td>9.238171</td>\n",
       "      <td>2.873877</td>\n",
       "    </tr>\n",
       "  </tbody>\n",
       "</table>\n",
       "</div>"
      ],
      "text/plain": [
       "  order_purchase_timestamp   order_approved_at order_delivered_carrier_date order_delivered_customer_date order_estimated_delivery_date  review_score  valor_frete_real  product_weight_g  product_photos_qty  payment_value  payment_sequential  diff_approved  diff_carrier  diff_customer  diff_estimate  diff_est_del  diff_purchase_delivered\n",
       "0      2017-10-02 10:56:33 2017-10-02 11:07:15          2017-10-04 19:55:00           2017-10-10 21:25:13                    2017-10-18             4              8.72             500.0                 4.0          38.71                 3.0       0.007431      2.373924       8.436574      15.544063      7.107488                 8.436574\n",
       "1      2018-07-24 20:41:37 2018-07-26 03:24:27          2018-07-26 14:31:00           2018-08-07 15:27:45                    2018-08-13             4             22.76             400.0                 1.0         141.46                 1.0       1.279745      1.742627      13.782037      19.137766      5.355729                13.782037\n",
       "2      2018-08-08 08:38:49 2018-08-08 08:55:23          2018-08-08 13:50:00           2018-08-17 18:06:29                    2018-09-04             5             19.22             420.0                 1.0         179.12                 1.0       0.011505      0.216100       9.394213      26.639711     17.245498                 9.394213\n",
       "3      2017-11-18 19:28:06 2017-11-18 19:45:59          2017-11-22 13:39:59           2017-12-02 00:28:42                    2017-12-15             5             27.20             450.0                 3.0          72.20                 1.0       0.012419      3.758252      13.208750      26.188819     12.980069                13.208750\n",
       "4      2018-02-13 21:18:39 2018-02-13 22:20:29          2018-02-14 19:46:34           2018-02-16 18:17:02                    2018-02-26             5              8.72             250.0                 4.0          28.62                 1.0       0.042940      0.936053       2.873877      12.112049      9.238171                 2.873877"
      ]
     },
     "execution_count": 8,
     "metadata": {},
     "output_type": "execute_result"
    }
   ],
   "source": [
    "df['diff_approved'] = df['order_approved_at'] - df['order_purchase_timestamp'] #diff data aprovação da compra - data da compra\n",
    "df['diff_carrier'] = df['order_delivered_carrier_date'] - df['order_purchase_timestamp']\n",
    "df['diff_customer'] = df['order_delivered_customer_date'] - df['order_purchase_timestamp']\n",
    "df['diff_estimate'] = df['order_estimated_delivery_date'] - df['order_purchase_timestamp']\n",
    "df['diff_est_del'] = df['order_estimated_delivery_date'] - df['order_delivered_customer_date']\n",
    "df['diff_purchase_delivered'] = df['order_delivered_customer_date'] - df['order_purchase_timestamp']\n",
    "\n",
    "\n",
    "#transforming the values in days difference\n",
    "df['diff_approved']=df['diff_approved']/np.timedelta64(1,'D')\n",
    "df['diff_carrier']=df['diff_carrier']/np.timedelta64(1,'D')\n",
    "df['diff_customer']=df['diff_customer']/np.timedelta64(1,'D')\n",
    "df['diff_estimate']=df['diff_estimate']/np.timedelta64(1,'D')\n",
    "df['diff_est_del']=df['diff_est_del']/np.timedelta64(1,'D')\n",
    "df['diff_purchase_delivered']=df['diff_purchase_delivered']/np.timedelta64(1,'D')\n",
    "\n",
    "df.head()"
   ]
  },
  {
   "cell_type": "code",
   "execution_count": 9,
   "metadata": {},
   "outputs": [
    {
     "data": {
      "text/html": [
       "<div>\n",
       "<style scoped>\n",
       "    .dataframe tbody tr th:only-of-type {\n",
       "        vertical-align: middle;\n",
       "    }\n",
       "\n",
       "    .dataframe tbody tr th {\n",
       "        vertical-align: top;\n",
       "    }\n",
       "\n",
       "    .dataframe thead th {\n",
       "        text-align: right;\n",
       "    }\n",
       "</style>\n",
       "<table border=\"1\" class=\"dataframe\">\n",
       "  <thead>\n",
       "    <tr style=\"text-align: right;\">\n",
       "      <th></th>\n",
       "      <th>review_score</th>\n",
       "      <th>valor_frete_real</th>\n",
       "      <th>product_weight_g</th>\n",
       "      <th>product_photos_qty</th>\n",
       "      <th>payment_value</th>\n",
       "      <th>payment_sequential</th>\n",
       "      <th>diff_approved</th>\n",
       "      <th>diff_carrier</th>\n",
       "      <th>diff_customer</th>\n",
       "      <th>diff_estimate</th>\n",
       "      <th>diff_est_del</th>\n",
       "      <th>diff_purchase_delivered</th>\n",
       "    </tr>\n",
       "  </thead>\n",
       "  <tbody>\n",
       "    <tr>\n",
       "      <th>0</th>\n",
       "      <td>4</td>\n",
       "      <td>8.72</td>\n",
       "      <td>500.0</td>\n",
       "      <td>4.0</td>\n",
       "      <td>38.71</td>\n",
       "      <td>3.0</td>\n",
       "      <td>0.007431</td>\n",
       "      <td>2.373924</td>\n",
       "      <td>8.436574</td>\n",
       "      <td>15.544063</td>\n",
       "      <td>7.107488</td>\n",
       "      <td>8.436574</td>\n",
       "    </tr>\n",
       "    <tr>\n",
       "      <th>1</th>\n",
       "      <td>4</td>\n",
       "      <td>22.76</td>\n",
       "      <td>400.0</td>\n",
       "      <td>1.0</td>\n",
       "      <td>141.46</td>\n",
       "      <td>1.0</td>\n",
       "      <td>1.279745</td>\n",
       "      <td>1.742627</td>\n",
       "      <td>13.782037</td>\n",
       "      <td>19.137766</td>\n",
       "      <td>5.355729</td>\n",
       "      <td>13.782037</td>\n",
       "    </tr>\n",
       "    <tr>\n",
       "      <th>2</th>\n",
       "      <td>5</td>\n",
       "      <td>19.22</td>\n",
       "      <td>420.0</td>\n",
       "      <td>1.0</td>\n",
       "      <td>179.12</td>\n",
       "      <td>1.0</td>\n",
       "      <td>0.011505</td>\n",
       "      <td>0.216100</td>\n",
       "      <td>9.394213</td>\n",
       "      <td>26.639711</td>\n",
       "      <td>17.245498</td>\n",
       "      <td>9.394213</td>\n",
       "    </tr>\n",
       "    <tr>\n",
       "      <th>3</th>\n",
       "      <td>5</td>\n",
       "      <td>27.20</td>\n",
       "      <td>450.0</td>\n",
       "      <td>3.0</td>\n",
       "      <td>72.20</td>\n",
       "      <td>1.0</td>\n",
       "      <td>0.012419</td>\n",
       "      <td>3.758252</td>\n",
       "      <td>13.208750</td>\n",
       "      <td>26.188819</td>\n",
       "      <td>12.980069</td>\n",
       "      <td>13.208750</td>\n",
       "    </tr>\n",
       "    <tr>\n",
       "      <th>4</th>\n",
       "      <td>5</td>\n",
       "      <td>8.72</td>\n",
       "      <td>250.0</td>\n",
       "      <td>4.0</td>\n",
       "      <td>28.62</td>\n",
       "      <td>1.0</td>\n",
       "      <td>0.042940</td>\n",
       "      <td>0.936053</td>\n",
       "      <td>2.873877</td>\n",
       "      <td>12.112049</td>\n",
       "      <td>9.238171</td>\n",
       "      <td>2.873877</td>\n",
       "    </tr>\n",
       "  </tbody>\n",
       "</table>\n",
       "</div>"
      ],
      "text/plain": [
       "   review_score  valor_frete_real  product_weight_g  product_photos_qty  payment_value  payment_sequential  diff_approved  diff_carrier  diff_customer  diff_estimate  diff_est_del  diff_purchase_delivered\n",
       "0             4              8.72             500.0                 4.0          38.71                 3.0       0.007431      2.373924       8.436574      15.544063      7.107488                 8.436574\n",
       "1             4             22.76             400.0                 1.0         141.46                 1.0       1.279745      1.742627      13.782037      19.137766      5.355729                13.782037\n",
       "2             5             19.22             420.0                 1.0         179.12                 1.0       0.011505      0.216100       9.394213      26.639711     17.245498                 9.394213\n",
       "3             5             27.20             450.0                 3.0          72.20                 1.0       0.012419      3.758252      13.208750      26.188819     12.980069                13.208750\n",
       "4             5              8.72             250.0                 4.0          28.62                 1.0       0.042940      0.936053       2.873877      12.112049      9.238171                 2.873877"
      ]
     },
     "execution_count": 9,
     "metadata": {},
     "output_type": "execute_result"
    }
   ],
   "source": [
    "#drop date columns\n",
    "cols = ['order_purchase_timestamp', 'order_approved_at', 'order_delivered_carrier_date',\n",
    "        'order_delivered_customer_date', 'order_estimated_delivery_date']\n",
    "\n",
    "df.drop(columns = cols, axis= 1, inplace = True)\n",
    "df.head()"
   ]
  },
  {
   "cell_type": "code",
   "execution_count": 10,
   "metadata": {},
   "outputs": [
    {
     "name": "stdout",
     "output_type": "stream",
     "text": [
      "<class 'pandas.core.frame.DataFrame'>\n",
      "RangeIndex: 96455 entries, 0 to 96454\n",
      "Data columns (total 12 columns):\n",
      " #   Column                   Non-Null Count  Dtype  \n",
      "---  ------                   --------------  -----  \n",
      " 0   review_score             96455 non-null  int64  \n",
      " 1   valor_frete_real         96455 non-null  float64\n",
      " 2   product_weight_g         96455 non-null  float64\n",
      " 3   product_photos_qty       96455 non-null  float64\n",
      " 4   payment_value            96454 non-null  float64\n",
      " 5   payment_sequential       96454 non-null  float64\n",
      " 6   diff_approved            96455 non-null  float64\n",
      " 7   diff_carrier             96455 non-null  float64\n",
      " 8   diff_customer            96455 non-null  float64\n",
      " 9   diff_estimate            96455 non-null  float64\n",
      " 10  diff_est_del             96455 non-null  float64\n",
      " 11  diff_purchase_delivered  96455 non-null  float64\n",
      "dtypes: float64(11), int64(1)\n",
      "memory usage: 8.8 MB\n"
     ]
    }
   ],
   "source": [
    "df.info()"
   ]
  },
  {
   "cell_type": "code",
   "execution_count": null,
   "metadata": {},
   "outputs": [],
   "source": []
  },
  {
   "cell_type": "markdown",
   "metadata": {},
   "source": [
    "# Model"
   ]
  },
  {
   "cell_type": "code",
   "execution_count": 11,
   "metadata": {},
   "outputs": [
    {
     "data": {
      "image/png": "[encoded data removed]",
      "text/plain": [
       "<Figure size 1080x576 with 2 Axes>"
      ]
     },
     "metadata": {},
     "output_type": "display_data"
    }
   ],
   "source": [
    "plt.figure(figsize = (15,8))\n",
    "heatmap = sns.heatmap(df.corr(), vmin=-1, vmax=1, annot=True)\n",
    "\n",
    "heatmap.set_title('Correlation Heatmap', fontdict={'fontsize':12}, pad=12)\n",
    "plt.show()"
   ]
  },
  {
   "cell_type": "code",
   "execution_count": 13,
   "metadata": {},
   "outputs": [
    {
     "data": {
      "text/plain": [
       "array([[-0.11172061, -0.72850473, -0.39548304, ..., -0.93498888,\n",
       "        -0.39958243, -0.43171463],\n",
       "       [-0.11172061,  0.16645393, -0.41644855, ..., -0.52474486,\n",
       "        -0.57159509,  0.12825822],\n",
       "       [ 0.66058726, -0.05919804, -0.41225544, ...,  0.33164957,\n",
       "         0.59591159, -0.33139558],\n",
       "       ...,\n",
       "       [ 0.66058726,  2.86025399,  2.28810175, ...,  0.75910953,\n",
       "        -0.55499299,  1.28868799],\n",
       "       [-1.65633636,  1.30300043,  2.24617074, ...,  1.52635632,\n",
       "         0.86823578,  0.47441472],\n",
       "       [ 0.66058726, -0.11401745, -0.46886231, ...,  0.15893395,\n",
       "         0.6162312 , -0.51156733]])"
      ]
     },
     "execution_count": 13,
     "metadata": {},
     "output_type": "execute_result"
    }
   ],
   "source": [
    "scaler = StandardScaler()\n",
    "\n",
    "Xs = scaler.fit_transform(df)\n",
    "#X = df.loc[:,:]\n",
    "Xs"
   ]
  },
  {
   "cell_type": "markdown",
   "metadata": {},
   "source": [
    "### Elbow Curve"
   ]
  },
  {
   "cell_type": "code",
   "execution_count": 14,
   "metadata": {},
   "outputs": [
    {
     "ename": "ValueError",
     "evalue": "Input contains NaN, infinity or a value too large for dtype('float64').",
     "output_type": "error",
     "traceback": [
      "\u001b[1;31m---------------------------------------------------------------------------\u001b[0m",
      "\u001b[1;31mValueError\u001b[0m                                Traceback (most recent call last)",
      "\u001b[1;32m<ipython-input-14-f781634d6fa8>\u001b[0m in \u001b[0;36m<module>\u001b[1;34m\u001b[0m\n\u001b[0;32m      8\u001b[0m \u001b[1;32mfor\u001b[0m \u001b[0mk\u001b[0m \u001b[1;32min\u001b[0m \u001b[0mrange\u001b[0m\u001b[1;33m(\u001b[0m\u001b[1;36m1\u001b[0m\u001b[1;33m,\u001b[0m \u001b[1;36m11\u001b[0m\u001b[1;33m)\u001b[0m\u001b[1;33m:\u001b[0m\u001b[1;33m\u001b[0m\u001b[1;33m\u001b[0m\u001b[0m\n\u001b[0;32m      9\u001b[0m     \u001b[0mkmeans\u001b[0m \u001b[1;33m=\u001b[0m \u001b[0mKMeans\u001b[0m\u001b[1;33m(\u001b[0m\u001b[0mn_clusters\u001b[0m\u001b[1;33m=\u001b[0m\u001b[0mk\u001b[0m\u001b[1;33m,\u001b[0m \u001b[1;33m**\u001b[0m\u001b[0mkmeans_kwargs\u001b[0m\u001b[1;33m)\u001b[0m\u001b[1;33m\u001b[0m\u001b[1;33m\u001b[0m\u001b[0m\n\u001b[1;32m---> 10\u001b[1;33m     \u001b[0mkmeans\u001b[0m\u001b[1;33m.\u001b[0m\u001b[0mfit\u001b[0m\u001b[1;33m(\u001b[0m\u001b[0mXs\u001b[0m\u001b[1;33m)\u001b[0m\u001b[1;33m\u001b[0m\u001b[1;33m\u001b[0m\u001b[0m\n\u001b[0m\u001b[0;32m     11\u001b[0m     \u001b[0msse\u001b[0m\u001b[1;33m.\u001b[0m\u001b[0mappend\u001b[0m\u001b[1;33m(\u001b[0m\u001b[0mkmeans\u001b[0m\u001b[1;33m.\u001b[0m\u001b[0minertia_\u001b[0m\u001b[1;33m)\u001b[0m\u001b[1;33m\u001b[0m\u001b[1;33m\u001b[0m\u001b[0m\n",
      "\u001b[1;32mC:\\ProgramData\\Anaconda3\\lib\\site-packages\\sklearn\\cluster\\_kmeans.py\u001b[0m in \u001b[0;36mfit\u001b[1;34m(self, X, y, sample_weight)\u001b[0m\n\u001b[0;32m   1135\u001b[0m             \u001b[0mFitted\u001b[0m \u001b[0mestimator\u001b[0m\u001b[1;33m.\u001b[0m\u001b[1;33m\u001b[0m\u001b[1;33m\u001b[0m\u001b[0m\n\u001b[0;32m   1136\u001b[0m         \"\"\"\n\u001b[1;32m-> 1137\u001b[1;33m         X = self._validate_data(\n\u001b[0m\u001b[0;32m   1138\u001b[0m             \u001b[0mX\u001b[0m\u001b[1;33m,\u001b[0m\u001b[1;33m\u001b[0m\u001b[1;33m\u001b[0m\u001b[0m\n\u001b[0;32m   1139\u001b[0m             \u001b[0maccept_sparse\u001b[0m\u001b[1;33m=\u001b[0m\u001b[1;34m\"csr\"\u001b[0m\u001b[1;33m,\u001b[0m\u001b[1;33m\u001b[0m\u001b[1;33m\u001b[0m\u001b[0m\n",
      "\u001b[1;32mC:\\ProgramData\\Anaconda3\\lib\\site-packages\\sklearn\\base.py\u001b[0m in \u001b[0;36m_validate_data\u001b[1;34m(self, X, y, reset, validate_separately, **check_params)\u001b[0m\n\u001b[0;32m    564\u001b[0m             \u001b[1;32mraise\u001b[0m \u001b[0mValueError\u001b[0m\u001b[1;33m(\u001b[0m\u001b[1;34m\"Validation should be done on X, y or both.\"\u001b[0m\u001b[1;33m)\u001b[0m\u001b[1;33m\u001b[0m\u001b[1;33m\u001b[0m\u001b[0m\n\u001b[0;32m    565\u001b[0m         \u001b[1;32melif\u001b[0m \u001b[1;32mnot\u001b[0m \u001b[0mno_val_X\u001b[0m \u001b[1;32mand\u001b[0m \u001b[0mno_val_y\u001b[0m\u001b[1;33m:\u001b[0m\u001b[1;33m\u001b[0m\u001b[1;33m\u001b[0m\u001b[0m\n\u001b[1;32m--> 566\u001b[1;33m             \u001b[0mX\u001b[0m \u001b[1;33m=\u001b[0m \u001b[0mcheck_array\u001b[0m\u001b[1;33m(\u001b[0m\u001b[0mX\u001b[0m\u001b[1;33m,\u001b[0m \u001b[1;33m**\u001b[0m\u001b[0mcheck_params\u001b[0m\u001b[1;33m)\u001b[0m\u001b[1;33m\u001b[0m\u001b[1;33m\u001b[0m\u001b[0m\n\u001b[0m\u001b[0;32m    567\u001b[0m             \u001b[0mout\u001b[0m \u001b[1;33m=\u001b[0m \u001b[0mX\u001b[0m\u001b[1;33m\u001b[0m\u001b[1;33m\u001b[0m\u001b[0m\n\u001b[0;32m    568\u001b[0m         \u001b[1;32melif\u001b[0m \u001b[0mno_val_X\u001b[0m \u001b[1;32mand\u001b[0m \u001b[1;32mnot\u001b[0m \u001b[0mno_val_y\u001b[0m\u001b[1;33m:\u001b[0m\u001b[1;33m\u001b[0m\u001b[1;33m\u001b[0m\u001b[0m\n",
      "\u001b[1;32mC:\\ProgramData\\Anaconda3\\lib\\site-packages\\sklearn\\utils\\validation.py\u001b[0m in \u001b[0;36mcheck_array\u001b[1;34m(array, accept_sparse, accept_large_sparse, dtype, order, copy, force_all_finite, ensure_2d, allow_nd, ensure_min_samples, ensure_min_features, estimator)\u001b[0m\n\u001b[0;32m    798\u001b[0m \u001b[1;33m\u001b[0m\u001b[0m\n\u001b[0;32m    799\u001b[0m         \u001b[1;32mif\u001b[0m \u001b[0mforce_all_finite\u001b[0m\u001b[1;33m:\u001b[0m\u001b[1;33m\u001b[0m\u001b[1;33m\u001b[0m\u001b[0m\n\u001b[1;32m--> 800\u001b[1;33m             \u001b[0m_assert_all_finite\u001b[0m\u001b[1;33m(\u001b[0m\u001b[0marray\u001b[0m\u001b[1;33m,\u001b[0m \u001b[0mallow_nan\u001b[0m\u001b[1;33m=\u001b[0m\u001b[0mforce_all_finite\u001b[0m \u001b[1;33m==\u001b[0m \u001b[1;34m\"allow-nan\"\u001b[0m\u001b[1;33m)\u001b[0m\u001b[1;33m\u001b[0m\u001b[1;33m\u001b[0m\u001b[0m\n\u001b[0m\u001b[0;32m    801\u001b[0m \u001b[1;33m\u001b[0m\u001b[0m\n\u001b[0;32m    802\u001b[0m     \u001b[1;32mif\u001b[0m \u001b[0mensure_min_samples\u001b[0m \u001b[1;33m>\u001b[0m \u001b[1;36m0\u001b[0m\u001b[1;33m:\u001b[0m\u001b[1;33m\u001b[0m\u001b[1;33m\u001b[0m\u001b[0m\n",
      "\u001b[1;32mC:\\ProgramData\\Anaconda3\\lib\\site-packages\\sklearn\\utils\\validation.py\u001b[0m in \u001b[0;36m_assert_all_finite\u001b[1;34m(X, allow_nan, msg_dtype)\u001b[0m\n\u001b[0;32m    112\u001b[0m         ):\n\u001b[0;32m    113\u001b[0m             \u001b[0mtype_err\u001b[0m \u001b[1;33m=\u001b[0m \u001b[1;34m\"infinity\"\u001b[0m \u001b[1;32mif\u001b[0m \u001b[0mallow_nan\u001b[0m \u001b[1;32melse\u001b[0m \u001b[1;34m\"NaN, infinity\"\u001b[0m\u001b[1;33m\u001b[0m\u001b[1;33m\u001b[0m\u001b[0m\n\u001b[1;32m--> 114\u001b[1;33m             raise ValueError(\n\u001b[0m\u001b[0;32m    115\u001b[0m                 msg_err.format(\n\u001b[0;32m    116\u001b[0m                     \u001b[0mtype_err\u001b[0m\u001b[1;33m,\u001b[0m \u001b[0mmsg_dtype\u001b[0m \u001b[1;32mif\u001b[0m \u001b[0mmsg_dtype\u001b[0m \u001b[1;32mis\u001b[0m \u001b[1;32mnot\u001b[0m \u001b[1;32mNone\u001b[0m \u001b[1;32melse\u001b[0m \u001b[0mX\u001b[0m\u001b[1;33m.\u001b[0m\u001b[0mdtype\u001b[0m\u001b[1;33m\u001b[0m\u001b[1;33m\u001b[0m\u001b[0m\n",
      "\u001b[1;31mValueError\u001b[0m: Input contains NaN, infinity or a value too large for dtype('float64')."
     ]
    }
   ],
   "source": [
    "kmeans_kwargs = {\n",
    "    \"init\": \"random\",\n",
    "    \"n_init\": 10,\n",
    "    \"max_iter\": 300,\n",
    "    \"random_state\": 42}\n",
    "# A list holds the SSE values for each k\n",
    "sse = []\n",
    "for k in range(1, 11):\n",
    "    kmeans = KMeans(n_clusters=k, **kmeans_kwargs)\n",
    "    kmeans.fit(Xs)\n",
    "    sse.append(kmeans.inertia_)\n"
   ]
  },
  {
   "cell_type": "code",
   "execution_count": null,
   "metadata": {},
   "outputs": [],
   "source": [
    "plt.plot(range(1, 11), sse)\n",
    "plt.xticks(range(1, 11))\n",
    "plt.xlabel(\"Número de Clusters\")\n",
    "plt.title('Curva de Elbow')\n",
    "plt.ylabel(\"SSE\")\n",
    "plt.show()"
   ]
  },
  {
   "cell_type": "code",
   "execution_count": null,
   "metadata": {},
   "outputs": [],
   "source": [
    "kmeans = KMeans(n_clusters=6,\n",
    "                init='random',\n",
    "                n_init = 10,\n",
    "                max_iter = 300,\n",
    "                random_state = 42)\n",
    "kmeans.fit(Xs)\n",
    "y_kmeans = kmeans.predict(Xs)\n"
   ]
  },
  {
   "cell_type": "code",
   "execution_count": null,
   "metadata": {},
   "outputs": [],
   "source": [
    "df_cluster = df.copy()\n",
    "df_cluster['cluster'] = y_kmeans\n",
    "df_cluster.head()"
   ]
  },
  {
   "cell_type": "code",
   "execution_count": null,
   "metadata": {
    "scrolled": true
   },
   "outputs": [],
   "source": [
    "for c in df:\n",
    "    grid = sns.FacetGrid(df_cluster, col='cluster')\n",
    "    grid.map(plt.hist, c)"
   ]
  },
  {
   "cell_type": "markdown",
   "metadata": {},
   "source": [
    "------------------------------------"
   ]
  },
  {
   "cell_type": "markdown",
   "metadata": {},
   "source": [
    "## Applying PCA"
   ]
  },
  {
   "cell_type": "code",
   "execution_count": null,
   "metadata": {},
   "outputs": [],
   "source": [
    "pca = prince.PCA(\n",
    "    n_components=2,\n",
    "    n_iter=3,\n",
    "    rescale_with_mean=True,\n",
    "    rescale_with_std=True,\n",
    "    copy=True,\n",
    "    check_input=True,\n",
    "    engine='auto',\n",
    "    random_state=42\n",
    ")\n",
    "pca = pca.fit(df)"
   ]
  },
  {
   "cell_type": "code",
   "execution_count": null,
   "metadata": {},
   "outputs": [],
   "source": [
    "pca.transform(df).head()"
   ]
  },
  {
   "cell_type": "code",
   "execution_count": null,
   "metadata": {},
   "outputs": [],
   "source": [
    "ax = pca.plot_row_coordinates(\n",
    "    df,\n",
    "    ax=None,\n",
    "    figsize=(6, 6),\n",
    "    x_component=0,\n",
    "    y_component=1,\n",
    "    labels=None,\n",
    "    ellipse_outline=False,\n",
    "    ellipse_fill=True,\n",
    "    show_points=True\n",
    ")"
   ]
  },
  {
   "cell_type": "code",
   "execution_count": null,
   "metadata": {},
   "outputs": [],
   "source": []
  },
  {
   "cell_type": "code",
   "execution_count": null,
   "metadata": {},
   "outputs": [],
   "source": []
  },
  {
   "cell_type": "code",
   "execution_count": null,
   "metadata": {},
   "outputs": [],
   "source": [
    "# applying PCA in dataset\n",
    "\n",
    "pca = PCA(n_components=min(Xs.shape[0],Xs.shape[1]))\n",
    "d=pca.fit_transform(Xs)"
   ]
  },
  {
   "cell_type": "code",
   "execution_count": null,
   "metadata": {},
   "outputs": [],
   "source": [
    "scree = pca.explained_variance_ratio_\n",
    "nbr_pca=0\n",
    "N=110\n",
    "for i in range(N):\n",
    "    a = scree.cumsum()[i]\n",
    "    if a >= 0.80:\n",
    "        print(\"{} principal components explain at least 80% of the total variance\".format(i))\n",
    "        print(\"Exact value of variance explained: {}%\".format(round(a*100,2)))\n",
    "        nbr_pca=i\n",
    "        break\n",
    "pca = PCA(n_components=nbr_pca)\n",
    "d=pca.fit_transform(Xs)"
   ]
  },
  {
   "cell_type": "code",
   "execution_count": null,
   "metadata": {},
   "outputs": [],
   "source": [
    "data_pca=pd.DataFrame(d)\n",
    "col=[\"pca \"+ str(n+1) for n in data_pca.columns]\n",
    "data_pca.columns=col\n",
    "data_pca.head()"
   ]
  },
  {
   "cell_type": "code",
   "execution_count": null,
   "metadata": {},
   "outputs": [],
   "source": [
    "fig=plt.figure(figsize=[8,6])\n",
    "fig.patch.set_facecolor('#E0E0E0')\n",
    "fig.patch.set_alpha(0.7)\n",
    "plt.title(\"Projection of the {} customers on the 1st PCA plan\".format(data_pca.shape[0]))\n",
    "plt.scatter(data=data_pca,x=\"pca 1\",y=\"pca 2\")\n",
    "plt.grid()"
   ]
  },
  {
   "cell_type": "code",
   "execution_count": null,
   "metadata": {},
   "outputs": [],
   "source": [
    "pca = PCA(n_components=5)\n",
    "principalComponents  = pca.fit_transform(Xs)"
   ]
  },
  {
   "cell_type": "code",
   "execution_count": null,
   "metadata": {},
   "outputs": [],
   "source": [
    "principalComponents"
   ]
  },
  {
   "cell_type": "code",
   "execution_count": null,
   "metadata": {},
   "outputs": [],
   "source": [
    "# Plotting the variances for each PC\n",
    "plt.style.use(\"fivethirtyeight\")\n",
    "PC = range(1, pca.n_components_+1)\n",
    "plt.bar(PC, pca.explained_variance_ratio_, color='gold')\n",
    "plt.xlabel('Principal Components')\n",
    "plt.ylabel('Variance %')\n",
    "plt.title('Principal Component Analysis')\n",
    "plt.xticks(PC)\n",
    "\n",
    "# Putting components in a dataframe for later\n",
    "PCA_components = pd.DataFrame(principalComponents)\n"
   ]
  },
  {
   "cell_type": "code",
   "execution_count": null,
   "metadata": {},
   "outputs": [],
   "source": [
    "PCA_components.head()"
   ]
  },
  {
   "cell_type": "code",
   "execution_count": null,
   "metadata": {},
   "outputs": [],
   "source": [
    "pca.explained_variance_ratio_.sum()"
   ]
  },
  {
   "cell_type": "code",
   "execution_count": null,
   "metadata": {},
   "outputs": [],
   "source": [
    "plt.scatter(PCA_components[0], PCA_components[1], alpha=.3, color='gold')\n",
    "plt.xlabel('PCA 1')\n",
    "plt.ylabel('PCA 2')\n",
    "plt.show()\n"
   ]
  },
  {
   "cell_type": "code",
   "execution_count": null,
   "metadata": {},
   "outputs": [],
   "source": [
    "kmeans_kwargs = {\n",
    "    \"init\": \"random\",\n",
    "    \"n_init\": 10,\n",
    "    \"max_iter\": 300,\n",
    "    \"random_state\": 42}\n",
    "# A list holds the SSE values for each k\n",
    "sse = []\n",
    "for k in range(1, 11):\n",
    "    kmeans = KMeans(n_clusters=k, **kmeans_kwargs)\n",
    "    kmeans.fit(PCA_components)\n",
    "    sse.append(kmeans.inertia_)\n",
    "\n",
    "#plot:\n",
    "    \n",
    "plt.style.use(\"fivethirtyeight\")\n",
    "plt.plot(range(1, 11), sse)\n",
    "plt.xticks(range(1, 11))\n",
    "plt.xlabel(\"Número de Clusters\")\n",
    "plt.ylabel(\"SSE\")\n",
    "plt.title('Curva de Elbow')\n",
    "plt.show()\n",
    "    \n"
   ]
  },
  {
   "cell_type": "code",
   "execution_count": null,
   "metadata": {},
   "outputs": [],
   "source": [
    "model = KMeans(n_clusters=5)\n",
    "model.fit(PCA_components.iloc[:,:2])\n",
    "\n",
    "labels = model.predict(PCA_components.iloc[:,:2])\n",
    "\n",
    "#plot\n",
    "plt.scatter(PCA_components[0], PCA_components[1], c=labels)\n",
    "centers = np.array(model.cluster_centers_)\n",
    "plt.scatter(centers[:,0], centers[:,1], marker=\"x\", color='r')\n",
    "\n",
    "plt.show()\n"
   ]
  },
  {
   "cell_type": "code",
   "execution_count": null,
   "metadata": {},
   "outputs": [],
   "source": [
    "kmeans = KMeans(n_clusters=5,\n",
    "                init='random',\n",
    "                n_init = 10,\n",
    "                max_iter = 300,\n",
    "                random_state = 42)\n",
    "kmeans.fit(PCA_components)\n",
    "y_kmeans = kmeans.predict(PCA_components)\n",
    "\n"
   ]
  },
  {
   "cell_type": "code",
   "execution_count": null,
   "metadata": {},
   "outputs": [],
   "source": [
    "df_with_clusters = df.copy()\n",
    "df_with_clusters['cluster'] = y_kmeans\n",
    "df_with_clusters.head()"
   ]
  },
  {
   "cell_type": "markdown",
   "metadata": {},
   "source": [
    "## Clusters EDA"
   ]
  },
  {
   "cell_type": "code",
   "execution_count": null,
   "metadata": {},
   "outputs": [],
   "source": [
    "conditions = [\n",
    "    df_with_clusters['cluster'] == 0,\n",
    "    df_with_clusters['cluster'] == 1,\n",
    "    df_with_clusters['cluster'] == 2,\n",
    "    df_with_clusters['cluster'] == 3,\n",
    "    df_with_clusters['cluster'] == 4\n",
    "]\n",
    "\n",
    "values = ['Cluster 1', 'Cluster 2', 'Cluster 3', 'Cluster 4', 'Cluster 5']\n",
    "\n",
    "df_with_clusters['cluster_name'] = np.select(conditions,values)\n",
    "df_with_clusters.head()"
   ]
  },
  {
   "cell_type": "code",
   "execution_count": null,
   "metadata": {},
   "outputs": [],
   "source": [
    "df_with_clusters['cluster_name'].value_counts()"
   ]
  },
  {
   "cell_type": "code",
   "execution_count": null,
   "metadata": {},
   "outputs": [],
   "source": [
    "cluster_1 = df_with_clusters[df_with_clusters['cluster'] == 0]\n",
    "cluster_2 = df_with_clusters[df_with_clusters['cluster'] == 1]\n",
    "cluster_3 = df_with_clusters[df_with_clusters['cluster'] == 2]\n",
    "cluster_4 = df_with_clusters[df_with_clusters['cluster'] == 3]\n",
    "cluster_5 = df_with_clusters[df_with_clusters['cluster'] == 4]"
   ]
  },
  {
   "cell_type": "code",
   "execution_count": null,
   "metadata": {
    "scrolled": false
   },
   "outputs": [],
   "source": [
    "for c in df_with_clusters:\n",
    "    grid = sns.FacetGrid(df_with_clusters, col='cluster')\n",
    "    grid.map(plt.hist, c)"
   ]
  },
  {
   "cell_type": "markdown",
   "metadata": {},
   "source": [
    "### Reviews"
   ]
  },
  {
   "cell_type": "code",
   "execution_count": null,
   "metadata": {},
   "outputs": [],
   "source": [
    "rs_prop_1 = cluster_1['review_score'].value_counts(normalize=True).reset_index().rename(columns = {'review_score': 'percent',\n",
    "                                                                                                   'index':'review_score'})\n",
    "rs_prop_1['Cluster'] = 'Cluster 1'\n",
    "\n",
    "rs_prop_2 = cluster_2['review_score'].value_counts(normalize=True).reset_index().rename(columns = {'review_score': 'percent',\n",
    "                                                                                                   'index':'review_score'})\n",
    "rs_prop_2['Cluster'] = 'Cluster 2'\n",
    "\n",
    "rs_prop_3 = cluster_3['review_score'].value_counts(normalize=True).reset_index().rename(columns = {'review_score': 'percent',\n",
    "                                                                                                   'index':'review_score'})\n",
    "rs_prop_3['Cluster'] = 'Cluster 3'\n",
    "\n",
    "rs_prop_4 = cluster_4['review_score'].value_counts(normalize=True).reset_index().rename(columns = {'review_score': 'percent',\n",
    "                                                                                                   'index':'review_score'})\n",
    "rs_prop_4['Cluster'] = 'Cluster 4'\n",
    "\n",
    "rs_prop_5 = cluster_5['review_score'].value_counts(normalize=True).reset_index().rename(columns = {'review_score': 'percent',\n",
    "                                                                                                   'index':'review_score'})\n",
    "rs_prop_5['Cluster'] = 'Cluster 5'\n",
    "\n",
    "rs_prop_6 = cluster_6['review_score'].value_counts(normalize=True).reset_index().rename(columns = {'review_score': 'percent',\n",
    "                                                                                                   'index':'review_score'})\n",
    "rs_prop_6['Cluster'] = 'Cluster 6'\n",
    "\n",
    "rs_prop = pd.concat([rs_prop_1,rs_prop_2, rs_prop_3, rs_prop_4, rs_prop_5, rs_prop_6])\n",
    "rs_prop"
   ]
  },
  {
   "cell_type": "code",
   "execution_count": null,
   "metadata": {},
   "outputs": [],
   "source": [
    "sns.barplot(x='review_score',\n",
    "            y = 'percent',\n",
    "            hue = 'Cluster',\n",
    "            data = rs_prop,\n",
    "            palette = 'mako')\n",
    "plt.show()"
   ]
  },
  {
   "cell_type": "markdown",
   "metadata": {},
   "source": [
    "### Price"
   ]
  },
  {
   "cell_type": "code",
   "execution_count": null,
   "metadata": {},
   "outputs": [],
   "source": [
    "ax = sns.boxplot(y = 'price',\n",
    "                 x = 'cluster_name',\n",
    "                 data = df_with_clusters,\n",
    "                 palette = 'viridis',\n",
    "                 order=['Cluster 1', 'Cluster 2', 'Cluster 3', 'Cluster 4', 'Cluster 5', 'Cluster 6'])\n",
    "plt.show()"
   ]
  },
  {
   "cell_type": "code",
   "execution_count": null,
   "metadata": {},
   "outputs": [],
   "source": [
    "ax = sns.boxplot(y = 'freight_value',\n",
    "            x = 'cluster_name',\n",
    "            data = df_with_clusters,\n",
    "            palette = 'mako',\n",
    "            order=['Cluster 1', 'Cluster 2', 'Cluster 3', 'Cluster 4', 'Cluster 5', 'Cluster 6'])\n",
    "plt.show()"
   ]
  },
  {
   "cell_type": "markdown",
   "metadata": {},
   "source": [
    "### Payment type"
   ]
  },
  {
   "cell_type": "code",
   "execution_count": null,
   "metadata": {},
   "outputs": [],
   "source": [
    "pmt_type = df_with_clusters[['boleto','credit_card', 'debit_card', 'cluster_name']]\n",
    "pmt_type.head()"
   ]
  },
  {
   "cell_type": "code",
   "execution_count": null,
   "metadata": {},
   "outputs": [],
   "source": [
    "pmt_type.groupby('cluster_name').sum()"
   ]
  },
  {
   "cell_type": "markdown",
   "metadata": {},
   "source": [
    "Não há diferença entre grupos em relação a tipo de pagamento."
   ]
  },
  {
   "cell_type": "markdown",
   "metadata": {},
   "source": [
    "### Região"
   ]
  },
  {
   "cell_type": "code",
   "execution_count": null,
   "metadata": {},
   "outputs": [],
   "source": [
    "df_regiao = df_with_clusters[['customer_region_centro_oeste',\n",
    "                              'customer_region_nordeste',\n",
    "                              'customer_region_norte',\n",
    "                              'customer_region_sudeste',\n",
    "                              'customer_region_sul',\n",
    "                              'cluster_name']]"
   ]
  },
  {
   "cell_type": "code",
   "execution_count": null,
   "metadata": {},
   "outputs": [],
   "source": [
    "df_regiao.head()"
   ]
  },
  {
   "cell_type": "code",
   "execution_count": null,
   "metadata": {},
   "outputs": [],
   "source": [
    "regiao_grouped = df_regiao.groupby('cluster_name').sum()\n",
    "regiao_grouped"
   ]
  },
  {
   "cell_type": "code",
   "execution_count": null,
   "metadata": {},
   "outputs": [],
   "source": [
    "regiao_grouped.idxmax(axis=1)"
   ]
  },
  {
   "cell_type": "markdown",
   "metadata": {},
   "source": [
    "#### Capital"
   ]
  },
  {
   "cell_type": "code",
   "execution_count": null,
   "metadata": {},
   "outputs": [],
   "source": [
    "capital_prop_1 = cluster_1['customer_capital'].value_counts(normalize=True).reset_index().rename(columns = {'customer_capital': 'percent',\n",
    "                                                                                                   'index':'customer_capital'})\n",
    "capital_prop_1['Cluster'] = 'Cluster 1'\n",
    "\n",
    "capital_prop_2 = cluster_2['customer_capital'].value_counts(normalize=True).reset_index().rename(columns = {'customer_capital': 'percent',\n",
    "                                                                                                   'index':'customer_capital'})\n",
    "capital_prop_2['Cluster'] = 'Cluster 2'\n",
    "\n",
    "capital_prop_3 = cluster_3['customer_capital'].value_counts(normalize=True).reset_index().rename(columns = {'customer_capital': 'percent',\n",
    "                                                                                                   'index':'customer_capital'})\n",
    "capital_prop_3['Cluster'] = 'Cluster 3'\n",
    "\n",
    "capital_prop_4 = cluster_4['customer_capital'].value_counts(normalize=True).reset_index().rename(columns = {'customer_capital': 'percent',\n",
    "                                                                                                   'index':'customer_capital'})\n",
    "capital_prop_4['Cluster'] = 'Cluster 4'\n",
    "\n",
    "capital_prop = pd.concat([capital_prop_1,capital_prop_2, capital_prop_3, capital_prop_4])\n",
    "capital_prop"
   ]
  },
  {
   "cell_type": "code",
   "execution_count": null,
   "metadata": {},
   "outputs": [],
   "source": [
    "#Plot capital\n",
    "\n",
    "sns.barplot(x='customer_capital',\n",
    "            y = 'percent',\n",
    "            hue = 'Cluster',\n",
    "            data = capital_prop,\n",
    "            palette = 'viridis')\n",
    "plt.show()"
   ]
  },
  {
   "cell_type": "markdown",
   "metadata": {},
   "source": [
    "### Categoria de Produtos"
   ]
  },
  {
   "cell_type": "code",
   "execution_count": null,
   "metadata": {},
   "outputs": [],
   "source": [
    "categ_prod = df_with_clusters[['product_category_name_bebes',\n",
    "'product_category_name_beleza_saude',\n",
    "'product_category_name_brinquedos',\n",
    "'product_category_name_cama_mesa_banho',\n",
    "'product_category_name_consoles_games',\n",
    "'product_category_name_construcao_ferramentas_construcao',\n",
    "'product_category_name_cool_stuff',\n",
    "'product_category_name_eletrodomesticos',\n",
    "'product_category_name_eletronicos',\n",
    "'product_category_name_eletroportateis',\n",
    "'product_category_name_esporte_lazer',\n",
    "'product_category_name_fashion_bolsas_e_acessorios',\n",
    "'product_category_name_ferramentas_jardim',\n",
    "'product_category_name_informatica_acessorios',\n",
    "'product_category_name_instrumentos_musicais',\n",
    "'product_category_name_livros_interesse_geral',\n",
    "'product_category_name_malas_acessorios',\n",
    "'product_category_name_moveis_decoracao',\n",
    "'product_category_name_moveis_escritorio',\n",
    "'product_category_name_no info',\n",
    "'product_category_name_papelaria',\n",
    "'product_category_name_perfumaria',\n",
    "'product_category_name_pet_shop',\n",
    "'product_category_name_relogios_presentes',\n",
    "'product_category_name_telefonia',\n",
    "'product_category_name_utilidades_domesticas',\n",
    "'cluster_name']]"
   ]
  },
  {
   "cell_type": "code",
   "execution_count": null,
   "metadata": {},
   "outputs": [],
   "source": [
    "categ_prod.head()"
   ]
  },
  {
   "cell_type": "code",
   "execution_count": null,
   "metadata": {},
   "outputs": [],
   "source": [
    "categ_grouped = categ_prod.groupby('cluster_name').sum()\n",
    "categ_grouped"
   ]
  },
  {
   "cell_type": "code",
   "execution_count": null,
   "metadata": {},
   "outputs": [],
   "source": [
    "categ_grouped.idxmax(axis=1)"
   ]
  },
  {
   "cell_type": "code",
   "execution_count": null,
   "metadata": {},
   "outputs": [],
   "source": [
    "df_with_clusters.head()"
   ]
  },
  {
   "cell_type": "markdown",
   "metadata": {},
   "source": [
    "### Tempo de entrega"
   ]
  },
  {
   "cell_type": "code",
   "execution_count": null,
   "metadata": {},
   "outputs": [],
   "source": [
    "time_delivered = df_with_clusters[['diff_approved', \n",
    "                                   'diff_carrier',\n",
    "                                   'diff_customer',\n",
    "                                   'diff_estimate',\n",
    "                                   'diff_est_del',\n",
    "                                   'cluster_name']]\n",
    "\n",
    "time_delivered.head()"
   ]
  },
  {
   "cell_type": "code",
   "execution_count": null,
   "metadata": {},
   "outputs": [],
   "source": [
    "time_del_grouped = time_delivered.groupby('cluster_name').mean().reset_index()\n",
    "time_del_grouped"
   ]
  },
  {
   "cell_type": "code",
   "execution_count": null,
   "metadata": {},
   "outputs": [],
   "source": [
    "tidy_time_del_grouped = time_del_grouped.melt(id_vars='cluster_name').rename(columns=str.title)\n",
    "tidy_time_del_grouped"
   ]
  },
  {
   "cell_type": "code",
   "execution_count": null,
   "metadata": {},
   "outputs": [],
   "source": [
    "ax = fig, ax = plt.subplots(figsize=(15, 8))\n",
    "ax = sns.barplot(x='Cluster_Name', \n",
    "                 y='Value', \n",
    "                 hue='Variable', \n",
    "                 data=tidy_time_del_grouped, \n",
    "                 ax=ax,\n",
    "                 palette = 'mako',\n",
    "                 order = ['Cluster 1', 'Cluster 2', 'Cluster 3', 'CLuster 4', 'Cluster 5', 'Cluster 6'])\n",
    "sns.despine(fig)"
   ]
  },
  {
   "cell_type": "code",
   "execution_count": null,
   "metadata": {},
   "outputs": [],
   "source": []
  }
 ],
 "metadata": {
  "kernelspec": {
   "display_name": "Python 3",
   "language": "python",
   "name": "python3"
  },
  "language_info": {
   "codemirror_mode": {
    "name": "ipython",
    "version": 3
   },
   "file_extension": ".py",
   "mimetype": "text/x-python",
   "name": "python",
   "nbconvert_exporter": "python",
   "pygments_lexer": "ipython3",
   "version": "3.8.8"
  }
 },
 "nbformat": 4,
 "nbformat_minor": 4
}
