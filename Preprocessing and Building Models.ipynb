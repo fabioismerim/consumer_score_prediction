{
 "cells": [
  {
   "cell_type": "code",
   "execution_count": 1,
   "metadata": {},
   "outputs": [
    {
     "ename": "ImportError",
     "evalue": "cannot import name 'rcParams' from 'matplotlib' (C:\\Users\\Fabio\\anaconda3\\lib\\site-packages\\matplotlib\\__init__.py)",
     "output_type": "error",
     "traceback": [
      "\u001b[1;31m---------------------------------------------------------------------------\u001b[0m",
      "\u001b[1;31mImportError\u001b[0m                               Traceback (most recent call last)",
      "\u001b[1;32m<ipython-input-1-08ab852442b2>\u001b[0m in \u001b[0;36m<module>\u001b[1;34m\u001b[0m\n\u001b[0;32m      3\u001b[0m \u001b[1;32mimport\u001b[0m \u001b[0mpandas\u001b[0m \u001b[1;32mas\u001b[0m \u001b[0mpd\u001b[0m\u001b[1;33m\u001b[0m\u001b[1;33m\u001b[0m\u001b[0m\n\u001b[0;32m      4\u001b[0m \u001b[1;32mimport\u001b[0m \u001b[0mnumpy\u001b[0m \u001b[1;32mas\u001b[0m \u001b[0mnp\u001b[0m\u001b[1;33m\u001b[0m\u001b[1;33m\u001b[0m\u001b[0m\n\u001b[1;32m----> 5\u001b[1;33m \u001b[1;32mimport\u001b[0m \u001b[0mseaborn\u001b[0m \u001b[1;32mas\u001b[0m \u001b[0msns\u001b[0m\u001b[1;33m\u001b[0m\u001b[1;33m\u001b[0m\u001b[0m\n\u001b[0m\u001b[0;32m      6\u001b[0m \u001b[1;32mimport\u001b[0m \u001b[0mmatplotlib\u001b[0m\u001b[1;33m.\u001b[0m\u001b[0mpyplot\u001b[0m \u001b[1;32mas\u001b[0m \u001b[0mplt\u001b[0m\u001b[1;33m\u001b[0m\u001b[1;33m\u001b[0m\u001b[0m\n\u001b[0;32m      7\u001b[0m \u001b[1;32mimport\u001b[0m \u001b[0mmatplotlib\u001b[0m\u001b[1;33m.\u001b[0m\u001b[0mstyle\u001b[0m \u001b[1;32mas\u001b[0m \u001b[0mstyle\u001b[0m\u001b[1;33m\u001b[0m\u001b[1;33m\u001b[0m\u001b[0m\n",
      "\u001b[1;32m~\\anaconda3\\lib\\site-packages\\seaborn\\__init__.py\u001b[0m in \u001b[0;36m<module>\u001b[1;34m\u001b[0m\n\u001b[0;32m      1\u001b[0m \u001b[1;31m# Capture the original matplotlib rcParams\u001b[0m\u001b[1;33m\u001b[0m\u001b[1;33m\u001b[0m\u001b[1;33m\u001b[0m\u001b[0m\n\u001b[1;32m----> 2\u001b[1;33m \u001b[1;32mimport\u001b[0m \u001b[0mmatplotlib\u001b[0m \u001b[1;32mas\u001b[0m \u001b[0mmpl\u001b[0m\u001b[1;33m\u001b[0m\u001b[1;33m\u001b[0m\u001b[0m\n\u001b[0m\u001b[0;32m      3\u001b[0m \u001b[0m_orig_rc_params\u001b[0m \u001b[1;33m=\u001b[0m \u001b[0mmpl\u001b[0m\u001b[1;33m.\u001b[0m\u001b[0mrcParams\u001b[0m\u001b[1;33m.\u001b[0m\u001b[0mcopy\u001b[0m\u001b[1;33m(\u001b[0m\u001b[1;33m)\u001b[0m\u001b[1;33m\u001b[0m\u001b[1;33m\u001b[0m\u001b[0m\n\u001b[0;32m      4\u001b[0m \u001b[1;33m\u001b[0m\u001b[0m\n\u001b[0;32m      5\u001b[0m \u001b[1;31m# Import seaborn objects\u001b[0m\u001b[1;33m\u001b[0m\u001b[1;33m\u001b[0m\u001b[1;33m\u001b[0m\u001b[0m\n",
      "\u001b[1;32m~\\anaconda3\\lib\\site-packages\\matplotlib\\__init__.py\u001b[0m in \u001b[0;36m<module>\u001b[1;34m\u001b[0m\n\u001b[0;32m    105\u001b[0m \u001b[1;31m# cbook must import matplotlib only within function\u001b[0m\u001b[1;33m\u001b[0m\u001b[1;33m\u001b[0m\u001b[1;33m\u001b[0m\u001b[0m\n\u001b[0;32m    106\u001b[0m \u001b[1;31m# definitions, so it is safe to import from it here.\u001b[0m\u001b[1;33m\u001b[0m\u001b[1;33m\u001b[0m\u001b[1;33m\u001b[0m\u001b[0m\n\u001b[1;32m--> 107\u001b[1;33m \u001b[1;32mfrom\u001b[0m \u001b[1;33m.\u001b[0m \u001b[1;32mimport\u001b[0m \u001b[0mcbook\u001b[0m\u001b[1;33m,\u001b[0m \u001b[0mrcsetup\u001b[0m\u001b[1;33m\u001b[0m\u001b[1;33m\u001b[0m\u001b[0m\n\u001b[0m\u001b[0;32m    108\u001b[0m \u001b[1;32mfrom\u001b[0m \u001b[0mmatplotlib\u001b[0m\u001b[1;33m.\u001b[0m\u001b[0mcbook\u001b[0m \u001b[1;32mimport\u001b[0m \u001b[0mMatplotlibDeprecationWarning\u001b[0m\u001b[1;33m,\u001b[0m \u001b[0msanitize_sequence\u001b[0m\u001b[1;33m\u001b[0m\u001b[1;33m\u001b[0m\u001b[0m\n\u001b[0;32m    109\u001b[0m \u001b[1;32mfrom\u001b[0m \u001b[0mmatplotlib\u001b[0m\u001b[1;33m.\u001b[0m\u001b[0mcbook\u001b[0m \u001b[1;32mimport\u001b[0m \u001b[0mmplDeprecation\u001b[0m  \u001b[1;31m# deprecated\u001b[0m\u001b[1;33m\u001b[0m\u001b[1;33m\u001b[0m\u001b[0m\n",
      "\u001b[1;32m~\\anaconda3\\lib\\site-packages\\matplotlib\\rcsetup.py\u001b[0m in \u001b[0;36m<module>\u001b[1;34m\u001b[0m\n\u001b[0;32m     24\u001b[0m \u001b[1;32mimport\u001b[0m \u001b[0mnumpy\u001b[0m \u001b[1;32mas\u001b[0m \u001b[0mnp\u001b[0m\u001b[1;33m\u001b[0m\u001b[1;33m\u001b[0m\u001b[0m\n\u001b[0;32m     25\u001b[0m \u001b[1;33m\u001b[0m\u001b[0m\n\u001b[1;32m---> 26\u001b[1;33m \u001b[1;32mfrom\u001b[0m \u001b[0mmatplotlib\u001b[0m \u001b[1;32mimport\u001b[0m \u001b[0manimation\u001b[0m\u001b[1;33m,\u001b[0m \u001b[0mcbook\u001b[0m\u001b[1;33m\u001b[0m\u001b[1;33m\u001b[0m\u001b[0m\n\u001b[0m\u001b[0;32m     27\u001b[0m \u001b[1;32mfrom\u001b[0m \u001b[0mmatplotlib\u001b[0m\u001b[1;33m.\u001b[0m\u001b[0mcbook\u001b[0m \u001b[1;32mimport\u001b[0m \u001b[0mls_mapper\u001b[0m\u001b[1;33m\u001b[0m\u001b[1;33m\u001b[0m\u001b[0m\n\u001b[0;32m     28\u001b[0m \u001b[1;32mfrom\u001b[0m \u001b[0mmatplotlib\u001b[0m\u001b[1;33m.\u001b[0m\u001b[0mfontconfig_pattern\u001b[0m \u001b[1;32mimport\u001b[0m \u001b[0mparse_fontconfig_pattern\u001b[0m\u001b[1;33m\u001b[0m\u001b[1;33m\u001b[0m\u001b[0m\n",
      "\u001b[1;32m~\\anaconda3\\lib\\site-packages\\matplotlib\\animation.py\u001b[0m in \u001b[0;36m<module>\u001b[1;34m\u001b[0m\n\u001b[0;32m     37\u001b[0m from matplotlib._animation_data import (\n\u001b[0;32m     38\u001b[0m     DISPLAY_TEMPLATE, INCLUDED_FRAMES, JS_INCLUDE, STYLE_INCLUDE)\n\u001b[1;32m---> 39\u001b[1;33m \u001b[1;32mfrom\u001b[0m \u001b[0mmatplotlib\u001b[0m \u001b[1;32mimport\u001b[0m \u001b[0mcbook\u001b[0m\u001b[1;33m,\u001b[0m \u001b[0mrcParams\u001b[0m\u001b[1;33m,\u001b[0m \u001b[0mrcParamsDefault\u001b[0m\u001b[1;33m,\u001b[0m \u001b[0mrc_context\u001b[0m\u001b[1;33m\u001b[0m\u001b[1;33m\u001b[0m\u001b[0m\n\u001b[0m\u001b[0;32m     40\u001b[0m \u001b[1;33m\u001b[0m\u001b[0m\n\u001b[0;32m     41\u001b[0m \u001b[1;33m\u001b[0m\u001b[0m\n",
      "\u001b[1;31mImportError\u001b[0m: cannot import name 'rcParams' from 'matplotlib' (C:\\Users\\Fabio\\anaconda3\\lib\\site-packages\\matplotlib\\__init__.py)"
     ]
    }
   ],
   "source": [
    "#importando bibliotecas\n",
    "\n",
    "import pandas as pd\n",
    "import numpy as np\n",
    "import seaborn as sns\n",
    "import matplotlib.pyplot as plt\n",
    "import matplotlib.style as style\n",
    "from sklearn.metrics import (accuracy_score, precision_score,recall_score, f1_score,\n",
    "                             roc_auc_score, roc_curve, classification_report,\n",
    "                             confusion_matrix, plot_confusion_matrix)\n",
    "\n",
    "import sklearn.metrics as metrics\n",
    "from sklearn.model_selection import RepeatedStratifiedKFold\n",
    "from sklearn.model_selection import train_test_split\n",
    "from sklearn.dummy import DummyClassifier\n",
    "from sklearn.model_selection import GridSearchCV\n",
    "from sklearn.linear_model import LogisticRegression\n",
    "from sklearn.ensemble import RandomForestClassifier\n",
    "from sklearn.svm import SVC\n",
    "import xgboost as xgb\n",
    "from imblearn.over_sampling import SMOTE\n",
    "from sklearn.preprocessing import StandardScaler\n",
    "from sklearn.neighbors import KNeighborsClassifier\n",
    "%matplotlib inline\n",
    "\n",
    "# setting up plot style \n",
    "style.use('seaborn-poster')\n",
    "style.use('fivethirtyeight')\n",
    "\n",
    "\n",
    "\n",
    "pd.set_option('display.max_rows', 500)\n",
    "pd.set_option('display.max_columns', 500)\n",
    "pd.set_option('display.width', 1000)\n",
    "pd.set_option('display.expand_frame_repr', False)\n",
    "\n"
   ]
  },
  {
   "cell_type": "code",
   "execution_count": 2,
   "metadata": {},
   "outputs": [
    {
     "data": {
      "text/html": [
       "<div>\n",
       "<style scoped>\n",
       "    .dataframe tbody tr th:only-of-type {\n",
       "        vertical-align: middle;\n",
       "    }\n",
       "\n",
       "    .dataframe tbody tr th {\n",
       "        vertical-align: top;\n",
       "    }\n",
       "\n",
       "    .dataframe thead th {\n",
       "        text-align: right;\n",
       "    }\n",
       "</style>\n",
       "<table border=\"1\" class=\"dataframe\">\n",
       "  <thead>\n",
       "    <tr style=\"text-align: right;\">\n",
       "      <th></th>\n",
       "      <th>order_purchase_timestamp</th>\n",
       "      <th>order_approved_at</th>\n",
       "      <th>order_delivered_carrier_date</th>\n",
       "      <th>order_delivered_customer_date</th>\n",
       "      <th>order_estimated_delivery_date</th>\n",
       "      <th>customer_city</th>\n",
       "      <th>customer_state</th>\n",
       "      <th>review_score</th>\n",
       "      <th>price</th>\n",
       "      <th>freight_value</th>\n",
       "      <th>product_category_name</th>\n",
       "      <th>product_name_lenght</th>\n",
       "      <th>product_description_lenght</th>\n",
       "      <th>product_photos_qty</th>\n",
       "      <th>boleto</th>\n",
       "      <th>credit_card</th>\n",
       "      <th>debit_card</th>\n",
       "      <th>not_defined</th>\n",
       "      <th>voucher</th>\n",
       "    </tr>\n",
       "  </thead>\n",
       "  <tbody>\n",
       "    <tr>\n",
       "      <th>0</th>\n",
       "      <td>2017-10-02 10:56:33</td>\n",
       "      <td>2017-10-02 11:07:15</td>\n",
       "      <td>2017-10-04 19:55:00</td>\n",
       "      <td>2017-10-10 21:25:13</td>\n",
       "      <td>2017-10-18 00:00:00</td>\n",
       "      <td>sao paulo</td>\n",
       "      <td>SP</td>\n",
       "      <td>4.0</td>\n",
       "      <td>29.99</td>\n",
       "      <td>8.72</td>\n",
       "      <td>utilidades_domesticas</td>\n",
       "      <td>40.0</td>\n",
       "      <td>268.0</td>\n",
       "      <td>4.0</td>\n",
       "      <td>0.0</td>\n",
       "      <td>1.0</td>\n",
       "      <td>0.0</td>\n",
       "      <td>0.0</td>\n",
       "      <td>2.0</td>\n",
       "    </tr>\n",
       "    <tr>\n",
       "      <th>1</th>\n",
       "      <td>2018-07-24 20:41:37</td>\n",
       "      <td>2018-07-26 03:24:27</td>\n",
       "      <td>2018-07-26 14:31:00</td>\n",
       "      <td>2018-08-07 15:27:45</td>\n",
       "      <td>2018-08-13 00:00:00</td>\n",
       "      <td>barreiras</td>\n",
       "      <td>BA</td>\n",
       "      <td>4.0</td>\n",
       "      <td>118.70</td>\n",
       "      <td>22.76</td>\n",
       "      <td>perfumaria</td>\n",
       "      <td>29.0</td>\n",
       "      <td>178.0</td>\n",
       "      <td>1.0</td>\n",
       "      <td>1.0</td>\n",
       "      <td>0.0</td>\n",
       "      <td>0.0</td>\n",
       "      <td>0.0</td>\n",
       "      <td>0.0</td>\n",
       "    </tr>\n",
       "    <tr>\n",
       "      <th>2</th>\n",
       "      <td>2018-08-08 08:38:49</td>\n",
       "      <td>2018-08-08 08:55:23</td>\n",
       "      <td>2018-08-08 13:50:00</td>\n",
       "      <td>2018-08-17 18:06:29</td>\n",
       "      <td>2018-09-04 00:00:00</td>\n",
       "      <td>vianopolis</td>\n",
       "      <td>GO</td>\n",
       "      <td>5.0</td>\n",
       "      <td>159.90</td>\n",
       "      <td>19.22</td>\n",
       "      <td>automotivo</td>\n",
       "      <td>46.0</td>\n",
       "      <td>232.0</td>\n",
       "      <td>1.0</td>\n",
       "      <td>0.0</td>\n",
       "      <td>3.0</td>\n",
       "      <td>0.0</td>\n",
       "      <td>0.0</td>\n",
       "      <td>0.0</td>\n",
       "    </tr>\n",
       "    <tr>\n",
       "      <th>3</th>\n",
       "      <td>2017-11-18 19:28:06</td>\n",
       "      <td>2017-11-18 19:45:59</td>\n",
       "      <td>2017-11-22 13:39:59</td>\n",
       "      <td>2017-12-02 00:28:42</td>\n",
       "      <td>2017-12-15 00:00:00</td>\n",
       "      <td>sao goncalo do amarante</td>\n",
       "      <td>RN</td>\n",
       "      <td>5.0</td>\n",
       "      <td>45.00</td>\n",
       "      <td>27.20</td>\n",
       "      <td>pet_shop</td>\n",
       "      <td>59.0</td>\n",
       "      <td>468.0</td>\n",
       "      <td>3.0</td>\n",
       "      <td>0.0</td>\n",
       "      <td>1.0</td>\n",
       "      <td>0.0</td>\n",
       "      <td>0.0</td>\n",
       "      <td>0.0</td>\n",
       "    </tr>\n",
       "    <tr>\n",
       "      <th>4</th>\n",
       "      <td>2018-02-13 21:18:39</td>\n",
       "      <td>2018-02-13 22:20:29</td>\n",
       "      <td>2018-02-14 19:46:34</td>\n",
       "      <td>2018-02-16 18:17:02</td>\n",
       "      <td>2018-02-26 00:00:00</td>\n",
       "      <td>santo andre</td>\n",
       "      <td>SP</td>\n",
       "      <td>5.0</td>\n",
       "      <td>19.90</td>\n",
       "      <td>8.72</td>\n",
       "      <td>papelaria</td>\n",
       "      <td>38.0</td>\n",
       "      <td>316.0</td>\n",
       "      <td>4.0</td>\n",
       "      <td>0.0</td>\n",
       "      <td>1.0</td>\n",
       "      <td>0.0</td>\n",
       "      <td>0.0</td>\n",
       "      <td>0.0</td>\n",
       "    </tr>\n",
       "  </tbody>\n",
       "</table>\n",
       "</div>"
      ],
      "text/plain": [
       "  order_purchase_timestamp    order_approved_at order_delivered_carrier_date order_delivered_customer_date order_estimated_delivery_date            customer_city customer_state  review_score   price  freight_value  product_category_name  product_name_lenght  product_description_lenght  product_photos_qty  boleto  credit_card  debit_card  not_defined  voucher\n",
       "0      2017-10-02 10:56:33  2017-10-02 11:07:15          2017-10-04 19:55:00           2017-10-10 21:25:13           2017-10-18 00:00:00                sao paulo             SP           4.0   29.99           8.72  utilidades_domesticas                 40.0                       268.0                 4.0     0.0          1.0         0.0          0.0      2.0\n",
       "1      2018-07-24 20:41:37  2018-07-26 03:24:27          2018-07-26 14:31:00           2018-08-07 15:27:45           2018-08-13 00:00:00                barreiras             BA           4.0  118.70          22.76             perfumaria                 29.0                       178.0                 1.0     1.0          0.0         0.0          0.0      0.0\n",
       "2      2018-08-08 08:38:49  2018-08-08 08:55:23          2018-08-08 13:50:00           2018-08-17 18:06:29           2018-09-04 00:00:00               vianopolis             GO           5.0  159.90          19.22             automotivo                 46.0                       232.0                 1.0     0.0          3.0         0.0          0.0      0.0\n",
       "3      2017-11-18 19:28:06  2017-11-18 19:45:59          2017-11-22 13:39:59           2017-12-02 00:28:42           2017-12-15 00:00:00  sao goncalo do amarante             RN           5.0   45.00          27.20               pet_shop                 59.0                       468.0                 3.0     0.0          1.0         0.0          0.0      0.0\n",
       "4      2018-02-13 21:18:39  2018-02-13 22:20:29          2018-02-14 19:46:34           2018-02-16 18:17:02           2018-02-26 00:00:00              santo andre             SP           5.0   19.90           8.72              papelaria                 38.0                       316.0                 4.0     0.0          1.0         0.0          0.0      0.0"
      ]
     },
     "execution_count": 2,
     "metadata": {},
     "output_type": "execute_result"
    }
   ],
   "source": [
    "#import dataset\n",
    "\n",
    "df = pd.read_csv('satisfaction.csv')\n",
    "df.head()"
   ]
  },
  {
   "cell_type": "code",
   "execution_count": 3,
   "metadata": {},
   "outputs": [
    {
     "name": "stdout",
     "output_type": "stream",
     "text": [
      "<class 'pandas.core.frame.DataFrame'>\n",
      "RangeIndex: 92309 entries, 0 to 92308\n",
      "Data columns (total 19 columns):\n",
      " #   Column                         Non-Null Count  Dtype  \n",
      "---  ------                         --------------  -----  \n",
      " 0   order_purchase_timestamp       92309 non-null  object \n",
      " 1   order_approved_at              92309 non-null  object \n",
      " 2   order_delivered_carrier_date   92309 non-null  object \n",
      " 3   order_delivered_customer_date  92309 non-null  object \n",
      " 4   order_estimated_delivery_date  92309 non-null  object \n",
      " 5   customer_city                  92309 non-null  object \n",
      " 6   customer_state                 92309 non-null  object \n",
      " 7   review_score                   92309 non-null  float64\n",
      " 8   price                          92309 non-null  float64\n",
      " 9   freight_value                  92309 non-null  float64\n",
      " 10  product_category_name          92309 non-null  object \n",
      " 11  product_name_lenght            92309 non-null  float64\n",
      " 12  product_description_lenght     92309 non-null  float64\n",
      " 13  product_photos_qty             92309 non-null  float64\n",
      " 14  boleto                         92309 non-null  float64\n",
      " 15  credit_card                    92309 non-null  float64\n",
      " 16  debit_card                     92309 non-null  float64\n",
      " 17  not_defined                    92309 non-null  float64\n",
      " 18  voucher                        92309 non-null  float64\n",
      "dtypes: float64(11), object(8)\n",
      "memory usage: 13.4+ MB\n"
     ]
    }
   ],
   "source": [
    "df.info()"
   ]
  },
  {
   "cell_type": "markdown",
   "metadata": {},
   "source": [
    "# Feature Engineering"
   ]
  },
  {
   "cell_type": "markdown",
   "metadata": {},
   "source": [
    "## Date Columns\n",
    "\n",
    "Add columns that are the difference between `order purchase` and anothers date columns"
   ]
  },
  {
   "cell_type": "code",
   "execution_count": 4,
   "metadata": {},
   "outputs": [],
   "source": [
    "df['order_purchase_timestamp'] = pd.to_datetime(df['order_purchase_timestamp'])\n",
    "df['order_approved_at'] = pd.to_datetime(df['order_approved_at'])\n",
    "df['order_delivered_carrier_date'] = pd.to_datetime(df['order_delivered_carrier_date'])\n",
    "df['order_delivered_customer_date'] = pd.to_datetime(df['order_delivered_customer_date'])\n",
    "df['order_estimated_delivery_date'] = pd.to_datetime(df['order_estimated_delivery_date'])"
   ]
  },
  {
   "cell_type": "code",
   "execution_count": 5,
   "metadata": {},
   "outputs": [
    {
     "data": {
      "text/html": [
       "<div>\n",
       "<style scoped>\n",
       "    .dataframe tbody tr th:only-of-type {\n",
       "        vertical-align: middle;\n",
       "    }\n",
       "\n",
       "    .dataframe tbody tr th {\n",
       "        vertical-align: top;\n",
       "    }\n",
       "\n",
       "    .dataframe thead th {\n",
       "        text-align: right;\n",
       "    }\n",
       "</style>\n",
       "<table border=\"1\" class=\"dataframe\">\n",
       "  <thead>\n",
       "    <tr style=\"text-align: right;\">\n",
       "      <th></th>\n",
       "      <th>order_purchase_timestamp</th>\n",
       "      <th>order_approved_at</th>\n",
       "      <th>order_delivered_carrier_date</th>\n",
       "      <th>order_delivered_customer_date</th>\n",
       "      <th>order_estimated_delivery_date</th>\n",
       "      <th>customer_city</th>\n",
       "      <th>customer_state</th>\n",
       "      <th>review_score</th>\n",
       "      <th>price</th>\n",
       "      <th>freight_value</th>\n",
       "      <th>product_category_name</th>\n",
       "      <th>product_name_lenght</th>\n",
       "      <th>product_description_lenght</th>\n",
       "      <th>product_photos_qty</th>\n",
       "      <th>boleto</th>\n",
       "      <th>credit_card</th>\n",
       "      <th>debit_card</th>\n",
       "      <th>not_defined</th>\n",
       "      <th>voucher</th>\n",
       "      <th>diff_approved</th>\n",
       "      <th>diff_carrier</th>\n",
       "      <th>diff_customer</th>\n",
       "      <th>diff_estimate</th>\n",
       "      <th>diff_est_del</th>\n",
       "    </tr>\n",
       "  </thead>\n",
       "  <tbody>\n",
       "    <tr>\n",
       "      <th>0</th>\n",
       "      <td>2017-10-02 10:56:33</td>\n",
       "      <td>2017-10-02 11:07:15</td>\n",
       "      <td>2017-10-04 19:55:00</td>\n",
       "      <td>2017-10-10 21:25:13</td>\n",
       "      <td>2017-10-18</td>\n",
       "      <td>sao paulo</td>\n",
       "      <td>SP</td>\n",
       "      <td>4.0</td>\n",
       "      <td>29.99</td>\n",
       "      <td>8.72</td>\n",
       "      <td>utilidades_domesticas</td>\n",
       "      <td>40.0</td>\n",
       "      <td>268.0</td>\n",
       "      <td>4.0</td>\n",
       "      <td>0.0</td>\n",
       "      <td>1.0</td>\n",
       "      <td>0.0</td>\n",
       "      <td>0.0</td>\n",
       "      <td>2.0</td>\n",
       "      <td>0.007431</td>\n",
       "      <td>2.373924</td>\n",
       "      <td>8.436574</td>\n",
       "      <td>15.544063</td>\n",
       "      <td>7.107488</td>\n",
       "    </tr>\n",
       "    <tr>\n",
       "      <th>1</th>\n",
       "      <td>2018-07-24 20:41:37</td>\n",
       "      <td>2018-07-26 03:24:27</td>\n",
       "      <td>2018-07-26 14:31:00</td>\n",
       "      <td>2018-08-07 15:27:45</td>\n",
       "      <td>2018-08-13</td>\n",
       "      <td>barreiras</td>\n",
       "      <td>BA</td>\n",
       "      <td>4.0</td>\n",
       "      <td>118.70</td>\n",
       "      <td>22.76</td>\n",
       "      <td>perfumaria</td>\n",
       "      <td>29.0</td>\n",
       "      <td>178.0</td>\n",
       "      <td>1.0</td>\n",
       "      <td>1.0</td>\n",
       "      <td>0.0</td>\n",
       "      <td>0.0</td>\n",
       "      <td>0.0</td>\n",
       "      <td>0.0</td>\n",
       "      <td>1.279745</td>\n",
       "      <td>1.742627</td>\n",
       "      <td>13.782037</td>\n",
       "      <td>19.137766</td>\n",
       "      <td>5.355729</td>\n",
       "    </tr>\n",
       "    <tr>\n",
       "      <th>2</th>\n",
       "      <td>2018-08-08 08:38:49</td>\n",
       "      <td>2018-08-08 08:55:23</td>\n",
       "      <td>2018-08-08 13:50:00</td>\n",
       "      <td>2018-08-17 18:06:29</td>\n",
       "      <td>2018-09-04</td>\n",
       "      <td>vianopolis</td>\n",
       "      <td>GO</td>\n",
       "      <td>5.0</td>\n",
       "      <td>159.90</td>\n",
       "      <td>19.22</td>\n",
       "      <td>automotivo</td>\n",
       "      <td>46.0</td>\n",
       "      <td>232.0</td>\n",
       "      <td>1.0</td>\n",
       "      <td>0.0</td>\n",
       "      <td>3.0</td>\n",
       "      <td>0.0</td>\n",
       "      <td>0.0</td>\n",
       "      <td>0.0</td>\n",
       "      <td>0.011505</td>\n",
       "      <td>0.216100</td>\n",
       "      <td>9.394213</td>\n",
       "      <td>26.639711</td>\n",
       "      <td>17.245498</td>\n",
       "    </tr>\n",
       "    <tr>\n",
       "      <th>3</th>\n",
       "      <td>2017-11-18 19:28:06</td>\n",
       "      <td>2017-11-18 19:45:59</td>\n",
       "      <td>2017-11-22 13:39:59</td>\n",
       "      <td>2017-12-02 00:28:42</td>\n",
       "      <td>2017-12-15</td>\n",
       "      <td>sao goncalo do amarante</td>\n",
       "      <td>RN</td>\n",
       "      <td>5.0</td>\n",
       "      <td>45.00</td>\n",
       "      <td>27.20</td>\n",
       "      <td>pet_shop</td>\n",
       "      <td>59.0</td>\n",
       "      <td>468.0</td>\n",
       "      <td>3.0</td>\n",
       "      <td>0.0</td>\n",
       "      <td>1.0</td>\n",
       "      <td>0.0</td>\n",
       "      <td>0.0</td>\n",
       "      <td>0.0</td>\n",
       "      <td>0.012419</td>\n",
       "      <td>3.758252</td>\n",
       "      <td>13.208750</td>\n",
       "      <td>26.188819</td>\n",
       "      <td>12.980069</td>\n",
       "    </tr>\n",
       "    <tr>\n",
       "      <th>4</th>\n",
       "      <td>2018-02-13 21:18:39</td>\n",
       "      <td>2018-02-13 22:20:29</td>\n",
       "      <td>2018-02-14 19:46:34</td>\n",
       "      <td>2018-02-16 18:17:02</td>\n",
       "      <td>2018-02-26</td>\n",
       "      <td>santo andre</td>\n",
       "      <td>SP</td>\n",
       "      <td>5.0</td>\n",
       "      <td>19.90</td>\n",
       "      <td>8.72</td>\n",
       "      <td>papelaria</td>\n",
       "      <td>38.0</td>\n",
       "      <td>316.0</td>\n",
       "      <td>4.0</td>\n",
       "      <td>0.0</td>\n",
       "      <td>1.0</td>\n",
       "      <td>0.0</td>\n",
       "      <td>0.0</td>\n",
       "      <td>0.0</td>\n",
       "      <td>0.042940</td>\n",
       "      <td>0.936053</td>\n",
       "      <td>2.873877</td>\n",
       "      <td>12.112049</td>\n",
       "      <td>9.238171</td>\n",
       "    </tr>\n",
       "  </tbody>\n",
       "</table>\n",
       "</div>"
      ],
      "text/plain": [
       "  order_purchase_timestamp   order_approved_at order_delivered_carrier_date order_delivered_customer_date order_estimated_delivery_date            customer_city customer_state  review_score   price  freight_value  product_category_name  product_name_lenght  product_description_lenght  product_photos_qty  boleto  credit_card  debit_card  not_defined  voucher  diff_approved  diff_carrier  diff_customer  diff_estimate  diff_est_del\n",
       "0      2017-10-02 10:56:33 2017-10-02 11:07:15          2017-10-04 19:55:00           2017-10-10 21:25:13                    2017-10-18                sao paulo             SP           4.0   29.99           8.72  utilidades_domesticas                 40.0                       268.0                 4.0     0.0          1.0         0.0          0.0      2.0       0.007431      2.373924       8.436574      15.544063      7.107488\n",
       "1      2018-07-24 20:41:37 2018-07-26 03:24:27          2018-07-26 14:31:00           2018-08-07 15:27:45                    2018-08-13                barreiras             BA           4.0  118.70          22.76             perfumaria                 29.0                       178.0                 1.0     1.0          0.0         0.0          0.0      0.0       1.279745      1.742627      13.782037      19.137766      5.355729\n",
       "2      2018-08-08 08:38:49 2018-08-08 08:55:23          2018-08-08 13:50:00           2018-08-17 18:06:29                    2018-09-04               vianopolis             GO           5.0  159.90          19.22             automotivo                 46.0                       232.0                 1.0     0.0          3.0         0.0          0.0      0.0       0.011505      0.216100       9.394213      26.639711     17.245498\n",
       "3      2017-11-18 19:28:06 2017-11-18 19:45:59          2017-11-22 13:39:59           2017-12-02 00:28:42                    2017-12-15  sao goncalo do amarante             RN           5.0   45.00          27.20               pet_shop                 59.0                       468.0                 3.0     0.0          1.0         0.0          0.0      0.0       0.012419      3.758252      13.208750      26.188819     12.980069\n",
       "4      2018-02-13 21:18:39 2018-02-13 22:20:29          2018-02-14 19:46:34           2018-02-16 18:17:02                    2018-02-26              santo andre             SP           5.0   19.90           8.72              papelaria                 38.0                       316.0                 4.0     0.0          1.0         0.0          0.0      0.0       0.042940      0.936053       2.873877      12.112049      9.238171"
      ]
     },
     "execution_count": 5,
     "metadata": {},
     "output_type": "execute_result"
    }
   ],
   "source": [
    "df['diff_approved'] = df['order_approved_at'] - df['order_purchase_timestamp']\n",
    "df['diff_carrier'] = df['order_delivered_carrier_date'] - df['order_purchase_timestamp']\n",
    "df['diff_customer'] = df['order_delivered_customer_date'] - df['order_purchase_timestamp']\n",
    "df['diff_estimate'] = df['order_estimated_delivery_date'] - df['order_purchase_timestamp']\n",
    "df['diff_est_del'] = df['order_estimated_delivery_date'] - df['order_delivered_customer_date']\n",
    "\n",
    "#transforming the values in days difference\n",
    "df['diff_approved']=df['diff_approved']/np.timedelta64(1,'D')\n",
    "df['diff_carrier']=df['diff_carrier']/np.timedelta64(1,'D')\n",
    "df['diff_customer']=df['diff_customer']/np.timedelta64(1,'D')\n",
    "df['diff_estimate']=df['diff_estimate']/np.timedelta64(1,'D')\n",
    "df['diff_est_del']=df['diff_est_del']/np.timedelta64(1,'D')\n",
    "\n",
    "df.head()"
   ]
  },
  {
   "cell_type": "code",
   "execution_count": 6,
   "metadata": {},
   "outputs": [
    {
     "data": {
      "text/html": [
       "<div>\n",
       "<style scoped>\n",
       "    .dataframe tbody tr th:only-of-type {\n",
       "        vertical-align: middle;\n",
       "    }\n",
       "\n",
       "    .dataframe tbody tr th {\n",
       "        vertical-align: top;\n",
       "    }\n",
       "\n",
       "    .dataframe thead th {\n",
       "        text-align: right;\n",
       "    }\n",
       "</style>\n",
       "<table border=\"1\" class=\"dataframe\">\n",
       "  <thead>\n",
       "    <tr style=\"text-align: right;\">\n",
       "      <th></th>\n",
       "      <th>customer_city</th>\n",
       "      <th>customer_state</th>\n",
       "      <th>review_score</th>\n",
       "      <th>price</th>\n",
       "      <th>freight_value</th>\n",
       "      <th>product_category_name</th>\n",
       "      <th>product_name_lenght</th>\n",
       "      <th>product_description_lenght</th>\n",
       "      <th>product_photos_qty</th>\n",
       "      <th>boleto</th>\n",
       "      <th>credit_card</th>\n",
       "      <th>debit_card</th>\n",
       "      <th>not_defined</th>\n",
       "      <th>voucher</th>\n",
       "      <th>diff_approved</th>\n",
       "      <th>diff_carrier</th>\n",
       "      <th>diff_customer</th>\n",
       "      <th>diff_estimate</th>\n",
       "      <th>diff_est_del</th>\n",
       "    </tr>\n",
       "  </thead>\n",
       "  <tbody>\n",
       "    <tr>\n",
       "      <th>0</th>\n",
       "      <td>sao paulo</td>\n",
       "      <td>SP</td>\n",
       "      <td>4.0</td>\n",
       "      <td>29.99</td>\n",
       "      <td>8.72</td>\n",
       "      <td>utilidades_domesticas</td>\n",
       "      <td>40.0</td>\n",
       "      <td>268.0</td>\n",
       "      <td>4.0</td>\n",
       "      <td>0.0</td>\n",
       "      <td>1.0</td>\n",
       "      <td>0.0</td>\n",
       "      <td>0.0</td>\n",
       "      <td>2.0</td>\n",
       "      <td>0.007431</td>\n",
       "      <td>2.373924</td>\n",
       "      <td>8.436574</td>\n",
       "      <td>15.544063</td>\n",
       "      <td>7.107488</td>\n",
       "    </tr>\n",
       "    <tr>\n",
       "      <th>1</th>\n",
       "      <td>barreiras</td>\n",
       "      <td>BA</td>\n",
       "      <td>4.0</td>\n",
       "      <td>118.70</td>\n",
       "      <td>22.76</td>\n",
       "      <td>perfumaria</td>\n",
       "      <td>29.0</td>\n",
       "      <td>178.0</td>\n",
       "      <td>1.0</td>\n",
       "      <td>1.0</td>\n",
       "      <td>0.0</td>\n",
       "      <td>0.0</td>\n",
       "      <td>0.0</td>\n",
       "      <td>0.0</td>\n",
       "      <td>1.279745</td>\n",
       "      <td>1.742627</td>\n",
       "      <td>13.782037</td>\n",
       "      <td>19.137766</td>\n",
       "      <td>5.355729</td>\n",
       "    </tr>\n",
       "    <tr>\n",
       "      <th>2</th>\n",
       "      <td>vianopolis</td>\n",
       "      <td>GO</td>\n",
       "      <td>5.0</td>\n",
       "      <td>159.90</td>\n",
       "      <td>19.22</td>\n",
       "      <td>automotivo</td>\n",
       "      <td>46.0</td>\n",
       "      <td>232.0</td>\n",
       "      <td>1.0</td>\n",
       "      <td>0.0</td>\n",
       "      <td>3.0</td>\n",
       "      <td>0.0</td>\n",
       "      <td>0.0</td>\n",
       "      <td>0.0</td>\n",
       "      <td>0.011505</td>\n",
       "      <td>0.216100</td>\n",
       "      <td>9.394213</td>\n",
       "      <td>26.639711</td>\n",
       "      <td>17.245498</td>\n",
       "    </tr>\n",
       "    <tr>\n",
       "      <th>3</th>\n",
       "      <td>sao goncalo do amarante</td>\n",
       "      <td>RN</td>\n",
       "      <td>5.0</td>\n",
       "      <td>45.00</td>\n",
       "      <td>27.20</td>\n",
       "      <td>pet_shop</td>\n",
       "      <td>59.0</td>\n",
       "      <td>468.0</td>\n",
       "      <td>3.0</td>\n",
       "      <td>0.0</td>\n",
       "      <td>1.0</td>\n",
       "      <td>0.0</td>\n",
       "      <td>0.0</td>\n",
       "      <td>0.0</td>\n",
       "      <td>0.012419</td>\n",
       "      <td>3.758252</td>\n",
       "      <td>13.208750</td>\n",
       "      <td>26.188819</td>\n",
       "      <td>12.980069</td>\n",
       "    </tr>\n",
       "    <tr>\n",
       "      <th>4</th>\n",
       "      <td>santo andre</td>\n",
       "      <td>SP</td>\n",
       "      <td>5.0</td>\n",
       "      <td>19.90</td>\n",
       "      <td>8.72</td>\n",
       "      <td>papelaria</td>\n",
       "      <td>38.0</td>\n",
       "      <td>316.0</td>\n",
       "      <td>4.0</td>\n",
       "      <td>0.0</td>\n",
       "      <td>1.0</td>\n",
       "      <td>0.0</td>\n",
       "      <td>0.0</td>\n",
       "      <td>0.0</td>\n",
       "      <td>0.042940</td>\n",
       "      <td>0.936053</td>\n",
       "      <td>2.873877</td>\n",
       "      <td>12.112049</td>\n",
       "      <td>9.238171</td>\n",
       "    </tr>\n",
       "  </tbody>\n",
       "</table>\n",
       "</div>"
      ],
      "text/plain": [
       "             customer_city customer_state  review_score   price  freight_value  product_category_name  product_name_lenght  product_description_lenght  product_photos_qty  boleto  credit_card  debit_card  not_defined  voucher  diff_approved  diff_carrier  diff_customer  diff_estimate  diff_est_del\n",
       "0                sao paulo             SP           4.0   29.99           8.72  utilidades_domesticas                 40.0                       268.0                 4.0     0.0          1.0         0.0          0.0      2.0       0.007431      2.373924       8.436574      15.544063      7.107488\n",
       "1                barreiras             BA           4.0  118.70          22.76             perfumaria                 29.0                       178.0                 1.0     1.0          0.0         0.0          0.0      0.0       1.279745      1.742627      13.782037      19.137766      5.355729\n",
       "2               vianopolis             GO           5.0  159.90          19.22             automotivo                 46.0                       232.0                 1.0     0.0          3.0         0.0          0.0      0.0       0.011505      0.216100       9.394213      26.639711     17.245498\n",
       "3  sao goncalo do amarante             RN           5.0   45.00          27.20               pet_shop                 59.0                       468.0                 3.0     0.0          1.0         0.0          0.0      0.0       0.012419      3.758252      13.208750      26.188819     12.980069\n",
       "4              santo andre             SP           5.0   19.90           8.72              papelaria                 38.0                       316.0                 4.0     0.0          1.0         0.0          0.0      0.0       0.042940      0.936053       2.873877      12.112049      9.238171"
      ]
     },
     "execution_count": 6,
     "metadata": {},
     "output_type": "execute_result"
    }
   ],
   "source": [
    "#drop date columns\n",
    "cols = ['order_purchase_timestamp', 'order_approved_at', 'order_delivered_carrier_date',\n",
    "        'order_delivered_customer_date', 'order_estimated_delivery_date']\n",
    "\n",
    "df.drop(columns = cols, axis= 1, inplace = True)\n",
    "df.head()"
   ]
  },
  {
   "cell_type": "code",
   "execution_count": 7,
   "metadata": {},
   "outputs": [
    {
     "name": "stdout",
     "output_type": "stream",
     "text": [
      "<class 'pandas.core.frame.DataFrame'>\n",
      "RangeIndex: 92309 entries, 0 to 92308\n",
      "Data columns (total 19 columns):\n",
      " #   Column                      Non-Null Count  Dtype  \n",
      "---  ------                      --------------  -----  \n",
      " 0   customer_city               92309 non-null  object \n",
      " 1   customer_state              92309 non-null  object \n",
      " 2   review_score                92309 non-null  float64\n",
      " 3   price                       92309 non-null  float64\n",
      " 4   freight_value               92309 non-null  float64\n",
      " 5   product_category_name       92309 non-null  object \n",
      " 6   product_name_lenght         92309 non-null  float64\n",
      " 7   product_description_lenght  92309 non-null  float64\n",
      " 8   product_photos_qty          92309 non-null  float64\n",
      " 9   boleto                      92309 non-null  float64\n",
      " 10  credit_card                 92309 non-null  float64\n",
      " 11  debit_card                  92309 non-null  float64\n",
      " 12  not_defined                 92309 non-null  float64\n",
      " 13  voucher                     92309 non-null  float64\n",
      " 14  diff_approved               92309 non-null  float64\n",
      " 15  diff_carrier                92309 non-null  float64\n",
      " 16  diff_customer               92309 non-null  float64\n",
      " 17  diff_estimate               92309 non-null  float64\n",
      " 18  diff_est_del                92309 non-null  float64\n",
      "dtypes: float64(16), object(3)\n",
      "memory usage: 13.4+ MB\n"
     ]
    }
   ],
   "source": [
    "df.info()"
   ]
  },
  {
   "cell_type": "markdown",
   "metadata": {},
   "source": [
    "## Customer city columns"
   ]
  },
  {
   "cell_type": "code",
   "execution_count": 8,
   "metadata": {},
   "outputs": [
    {
     "data": {
      "text/plain": [
       "sao paulo         14545\n",
       "rio de janeiro     6338\n",
       "belo horizonte     2571\n",
       "brasilia           1998\n",
       "curitiba           1414\n",
       "                  ...  \n",
       "riacho da cruz        1\n",
       "coreau                1\n",
       "guimaraes             1\n",
       "buriti alegre         1\n",
       "croata                1\n",
       "Name: customer_city, Length: 3990, dtype: int64"
      ]
     },
     "execution_count": 8,
     "metadata": {},
     "output_type": "execute_result"
    }
   ],
   "source": [
    "df['customer_city'].value_counts()"
   ]
  },
  {
   "cell_type": "code",
   "execution_count": 9,
   "metadata": {},
   "outputs": [],
   "source": [
    "#list of capitals:\n",
    "\n",
    "capitals = [\"rio branco\",\n",
    "\"maceio\",\n",
    "\"macapa\",\n",
    "\"manaus\",\n",
    "\"salvador\",\n",
    "\"fortaleza\",\n",
    "\"brasilia\",\n",
    "\"vitria\",\n",
    "\"goiania\",\n",
    "\"sao luis\",\n",
    "\"cuiaba\",\n",
    "\"campo grande\",\n",
    "\"belo horizonte\",\n",
    "\"belem\",\n",
    "\"joao pessoa\",\n",
    "\"curitiba\",\n",
    "\"recife\",\n",
    "\"teresina\",\n",
    "\"rio de janeiro\",\n",
    "\"natal\",\n",
    "\"porto alegre\",\n",
    "\"porto velho\",\n",
    "\"boa vista\",\n",
    "\"florianopolis\",\n",
    "\"sao paulo\",\n",
    "\"aracaju\",\n",
    "\"palmas\" ]"
   ]
  },
  {
   "cell_type": "code",
   "execution_count": 10,
   "metadata": {},
   "outputs": [],
   "source": [
    "#create a new column based capitals list\n",
    "def cap (row):\n",
    "    if row['customer_city'] in capitals:\n",
    "        val = 1\n",
    "    else:\n",
    "        val = 0\n",
    "    return val"
   ]
  },
  {
   "cell_type": "code",
   "execution_count": 11,
   "metadata": {
    "scrolled": true
   },
   "outputs": [
    {
     "data": {
      "text/html": [
       "<div>\n",
       "<style scoped>\n",
       "    .dataframe tbody tr th:only-of-type {\n",
       "        vertical-align: middle;\n",
       "    }\n",
       "\n",
       "    .dataframe tbody tr th {\n",
       "        vertical-align: top;\n",
       "    }\n",
       "\n",
       "    .dataframe thead th {\n",
       "        text-align: right;\n",
       "    }\n",
       "</style>\n",
       "<table border=\"1\" class=\"dataframe\">\n",
       "  <thead>\n",
       "    <tr style=\"text-align: right;\">\n",
       "      <th></th>\n",
       "      <th>customer_city</th>\n",
       "      <th>customer_state</th>\n",
       "      <th>review_score</th>\n",
       "      <th>price</th>\n",
       "      <th>freight_value</th>\n",
       "      <th>product_category_name</th>\n",
       "      <th>product_name_lenght</th>\n",
       "      <th>product_description_lenght</th>\n",
       "      <th>product_photos_qty</th>\n",
       "      <th>boleto</th>\n",
       "      <th>credit_card</th>\n",
       "      <th>debit_card</th>\n",
       "      <th>not_defined</th>\n",
       "      <th>voucher</th>\n",
       "      <th>diff_approved</th>\n",
       "      <th>diff_carrier</th>\n",
       "      <th>diff_customer</th>\n",
       "      <th>diff_estimate</th>\n",
       "      <th>diff_est_del</th>\n",
       "      <th>customer_capital</th>\n",
       "    </tr>\n",
       "  </thead>\n",
       "  <tbody>\n",
       "    <tr>\n",
       "      <th>0</th>\n",
       "      <td>sao paulo</td>\n",
       "      <td>SP</td>\n",
       "      <td>4.0</td>\n",
       "      <td>29.99</td>\n",
       "      <td>8.72</td>\n",
       "      <td>utilidades_domesticas</td>\n",
       "      <td>40.0</td>\n",
       "      <td>268.0</td>\n",
       "      <td>4.0</td>\n",
       "      <td>0.0</td>\n",
       "      <td>1.0</td>\n",
       "      <td>0.0</td>\n",
       "      <td>0.0</td>\n",
       "      <td>2.0</td>\n",
       "      <td>0.007431</td>\n",
       "      <td>2.373924</td>\n",
       "      <td>8.436574</td>\n",
       "      <td>15.544063</td>\n",
       "      <td>7.107488</td>\n",
       "      <td>1</td>\n",
       "    </tr>\n",
       "    <tr>\n",
       "      <th>1</th>\n",
       "      <td>barreiras</td>\n",
       "      <td>BA</td>\n",
       "      <td>4.0</td>\n",
       "      <td>118.70</td>\n",
       "      <td>22.76</td>\n",
       "      <td>perfumaria</td>\n",
       "      <td>29.0</td>\n",
       "      <td>178.0</td>\n",
       "      <td>1.0</td>\n",
       "      <td>1.0</td>\n",
       "      <td>0.0</td>\n",
       "      <td>0.0</td>\n",
       "      <td>0.0</td>\n",
       "      <td>0.0</td>\n",
       "      <td>1.279745</td>\n",
       "      <td>1.742627</td>\n",
       "      <td>13.782037</td>\n",
       "      <td>19.137766</td>\n",
       "      <td>5.355729</td>\n",
       "      <td>0</td>\n",
       "    </tr>\n",
       "    <tr>\n",
       "      <th>2</th>\n",
       "      <td>vianopolis</td>\n",
       "      <td>GO</td>\n",
       "      <td>5.0</td>\n",
       "      <td>159.90</td>\n",
       "      <td>19.22</td>\n",
       "      <td>automotivo</td>\n",
       "      <td>46.0</td>\n",
       "      <td>232.0</td>\n",
       "      <td>1.0</td>\n",
       "      <td>0.0</td>\n",
       "      <td>3.0</td>\n",
       "      <td>0.0</td>\n",
       "      <td>0.0</td>\n",
       "      <td>0.0</td>\n",
       "      <td>0.011505</td>\n",
       "      <td>0.216100</td>\n",
       "      <td>9.394213</td>\n",
       "      <td>26.639711</td>\n",
       "      <td>17.245498</td>\n",
       "      <td>0</td>\n",
       "    </tr>\n",
       "    <tr>\n",
       "      <th>3</th>\n",
       "      <td>sao goncalo do amarante</td>\n",
       "      <td>RN</td>\n",
       "      <td>5.0</td>\n",
       "      <td>45.00</td>\n",
       "      <td>27.20</td>\n",
       "      <td>pet_shop</td>\n",
       "      <td>59.0</td>\n",
       "      <td>468.0</td>\n",
       "      <td>3.0</td>\n",
       "      <td>0.0</td>\n",
       "      <td>1.0</td>\n",
       "      <td>0.0</td>\n",
       "      <td>0.0</td>\n",
       "      <td>0.0</td>\n",
       "      <td>0.012419</td>\n",
       "      <td>3.758252</td>\n",
       "      <td>13.208750</td>\n",
       "      <td>26.188819</td>\n",
       "      <td>12.980069</td>\n",
       "      <td>0</td>\n",
       "    </tr>\n",
       "    <tr>\n",
       "      <th>4</th>\n",
       "      <td>santo andre</td>\n",
       "      <td>SP</td>\n",
       "      <td>5.0</td>\n",
       "      <td>19.90</td>\n",
       "      <td>8.72</td>\n",
       "      <td>papelaria</td>\n",
       "      <td>38.0</td>\n",
       "      <td>316.0</td>\n",
       "      <td>4.0</td>\n",
       "      <td>0.0</td>\n",
       "      <td>1.0</td>\n",
       "      <td>0.0</td>\n",
       "      <td>0.0</td>\n",
       "      <td>0.0</td>\n",
       "      <td>0.042940</td>\n",
       "      <td>0.936053</td>\n",
       "      <td>2.873877</td>\n",
       "      <td>12.112049</td>\n",
       "      <td>9.238171</td>\n",
       "      <td>0</td>\n",
       "    </tr>\n",
       "  </tbody>\n",
       "</table>\n",
       "</div>"
      ],
      "text/plain": [
       "             customer_city customer_state  review_score   price  freight_value  product_category_name  product_name_lenght  product_description_lenght  product_photos_qty  boleto  credit_card  debit_card  not_defined  voucher  diff_approved  diff_carrier  diff_customer  diff_estimate  diff_est_del  customer_capital\n",
       "0                sao paulo             SP           4.0   29.99           8.72  utilidades_domesticas                 40.0                       268.0                 4.0     0.0          1.0         0.0          0.0      2.0       0.007431      2.373924       8.436574      15.544063      7.107488                 1\n",
       "1                barreiras             BA           4.0  118.70          22.76             perfumaria                 29.0                       178.0                 1.0     1.0          0.0         0.0          0.0      0.0       1.279745      1.742627      13.782037      19.137766      5.355729                 0\n",
       "2               vianopolis             GO           5.0  159.90          19.22             automotivo                 46.0                       232.0                 1.0     0.0          3.0         0.0          0.0      0.0       0.011505      0.216100       9.394213      26.639711     17.245498                 0\n",
       "3  sao goncalo do amarante             RN           5.0   45.00          27.20               pet_shop                 59.0                       468.0                 3.0     0.0          1.0         0.0          0.0      0.0       0.012419      3.758252      13.208750      26.188819     12.980069                 0\n",
       "4              santo andre             SP           5.0   19.90           8.72              papelaria                 38.0                       316.0                 4.0     0.0          1.0         0.0          0.0      0.0       0.042940      0.936053       2.873877      12.112049      9.238171                 0"
      ]
     },
     "execution_count": 11,
     "metadata": {},
     "output_type": "execute_result"
    }
   ],
   "source": [
    "df['customer_capital'] = df.apply(cap, axis = 1)\n",
    "df.head()"
   ]
  },
  {
   "cell_type": "code",
   "execution_count": 12,
   "metadata": {},
   "outputs": [
    {
     "data": {
      "text/html": [
       "<div>\n",
       "<style scoped>\n",
       "    .dataframe tbody tr th:only-of-type {\n",
       "        vertical-align: middle;\n",
       "    }\n",
       "\n",
       "    .dataframe tbody tr th {\n",
       "        vertical-align: top;\n",
       "    }\n",
       "\n",
       "    .dataframe thead th {\n",
       "        text-align: right;\n",
       "    }\n",
       "</style>\n",
       "<table border=\"1\" class=\"dataframe\">\n",
       "  <thead>\n",
       "    <tr style=\"text-align: right;\">\n",
       "      <th></th>\n",
       "      <th>customer_state</th>\n",
       "      <th>review_score</th>\n",
       "      <th>price</th>\n",
       "      <th>freight_value</th>\n",
       "      <th>product_category_name</th>\n",
       "      <th>product_name_lenght</th>\n",
       "      <th>product_description_lenght</th>\n",
       "      <th>product_photos_qty</th>\n",
       "      <th>boleto</th>\n",
       "      <th>credit_card</th>\n",
       "      <th>debit_card</th>\n",
       "      <th>not_defined</th>\n",
       "      <th>voucher</th>\n",
       "      <th>diff_approved</th>\n",
       "      <th>diff_carrier</th>\n",
       "      <th>diff_customer</th>\n",
       "      <th>diff_estimate</th>\n",
       "      <th>diff_est_del</th>\n",
       "      <th>customer_capital</th>\n",
       "    </tr>\n",
       "  </thead>\n",
       "  <tbody>\n",
       "    <tr>\n",
       "      <th>0</th>\n",
       "      <td>SP</td>\n",
       "      <td>4.0</td>\n",
       "      <td>29.99</td>\n",
       "      <td>8.72</td>\n",
       "      <td>utilidades_domesticas</td>\n",
       "      <td>40.0</td>\n",
       "      <td>268.0</td>\n",
       "      <td>4.0</td>\n",
       "      <td>0.0</td>\n",
       "      <td>1.0</td>\n",
       "      <td>0.0</td>\n",
       "      <td>0.0</td>\n",
       "      <td>2.0</td>\n",
       "      <td>0.007431</td>\n",
       "      <td>2.373924</td>\n",
       "      <td>8.436574</td>\n",
       "      <td>15.544063</td>\n",
       "      <td>7.107488</td>\n",
       "      <td>1</td>\n",
       "    </tr>\n",
       "    <tr>\n",
       "      <th>1</th>\n",
       "      <td>BA</td>\n",
       "      <td>4.0</td>\n",
       "      <td>118.70</td>\n",
       "      <td>22.76</td>\n",
       "      <td>perfumaria</td>\n",
       "      <td>29.0</td>\n",
       "      <td>178.0</td>\n",
       "      <td>1.0</td>\n",
       "      <td>1.0</td>\n",
       "      <td>0.0</td>\n",
       "      <td>0.0</td>\n",
       "      <td>0.0</td>\n",
       "      <td>0.0</td>\n",
       "      <td>1.279745</td>\n",
       "      <td>1.742627</td>\n",
       "      <td>13.782037</td>\n",
       "      <td>19.137766</td>\n",
       "      <td>5.355729</td>\n",
       "      <td>0</td>\n",
       "    </tr>\n",
       "    <tr>\n",
       "      <th>2</th>\n",
       "      <td>GO</td>\n",
       "      <td>5.0</td>\n",
       "      <td>159.90</td>\n",
       "      <td>19.22</td>\n",
       "      <td>automotivo</td>\n",
       "      <td>46.0</td>\n",
       "      <td>232.0</td>\n",
       "      <td>1.0</td>\n",
       "      <td>0.0</td>\n",
       "      <td>3.0</td>\n",
       "      <td>0.0</td>\n",
       "      <td>0.0</td>\n",
       "      <td>0.0</td>\n",
       "      <td>0.011505</td>\n",
       "      <td>0.216100</td>\n",
       "      <td>9.394213</td>\n",
       "      <td>26.639711</td>\n",
       "      <td>17.245498</td>\n",
       "      <td>0</td>\n",
       "    </tr>\n",
       "    <tr>\n",
       "      <th>3</th>\n",
       "      <td>RN</td>\n",
       "      <td>5.0</td>\n",
       "      <td>45.00</td>\n",
       "      <td>27.20</td>\n",
       "      <td>pet_shop</td>\n",
       "      <td>59.0</td>\n",
       "      <td>468.0</td>\n",
       "      <td>3.0</td>\n",
       "      <td>0.0</td>\n",
       "      <td>1.0</td>\n",
       "      <td>0.0</td>\n",
       "      <td>0.0</td>\n",
       "      <td>0.0</td>\n",
       "      <td>0.012419</td>\n",
       "      <td>3.758252</td>\n",
       "      <td>13.208750</td>\n",
       "      <td>26.188819</td>\n",
       "      <td>12.980069</td>\n",
       "      <td>0</td>\n",
       "    </tr>\n",
       "    <tr>\n",
       "      <th>4</th>\n",
       "      <td>SP</td>\n",
       "      <td>5.0</td>\n",
       "      <td>19.90</td>\n",
       "      <td>8.72</td>\n",
       "      <td>papelaria</td>\n",
       "      <td>38.0</td>\n",
       "      <td>316.0</td>\n",
       "      <td>4.0</td>\n",
       "      <td>0.0</td>\n",
       "      <td>1.0</td>\n",
       "      <td>0.0</td>\n",
       "      <td>0.0</td>\n",
       "      <td>0.0</td>\n",
       "      <td>0.042940</td>\n",
       "      <td>0.936053</td>\n",
       "      <td>2.873877</td>\n",
       "      <td>12.112049</td>\n",
       "      <td>9.238171</td>\n",
       "      <td>0</td>\n",
       "    </tr>\n",
       "  </tbody>\n",
       "</table>\n",
       "</div>"
      ],
      "text/plain": [
       "  customer_state  review_score   price  freight_value  product_category_name  product_name_lenght  product_description_lenght  product_photos_qty  boleto  credit_card  debit_card  not_defined  voucher  diff_approved  diff_carrier  diff_customer  diff_estimate  diff_est_del  customer_capital\n",
       "0             SP           4.0   29.99           8.72  utilidades_domesticas                 40.0                       268.0                 4.0     0.0          1.0         0.0          0.0      2.0       0.007431      2.373924       8.436574      15.544063      7.107488                 1\n",
       "1             BA           4.0  118.70          22.76             perfumaria                 29.0                       178.0                 1.0     1.0          0.0         0.0          0.0      0.0       1.279745      1.742627      13.782037      19.137766      5.355729                 0\n",
       "2             GO           5.0  159.90          19.22             automotivo                 46.0                       232.0                 1.0     0.0          3.0         0.0          0.0      0.0       0.011505      0.216100       9.394213      26.639711     17.245498                 0\n",
       "3             RN           5.0   45.00          27.20               pet_shop                 59.0                       468.0                 3.0     0.0          1.0         0.0          0.0      0.0       0.012419      3.758252      13.208750      26.188819     12.980069                 0\n",
       "4             SP           5.0   19.90           8.72              papelaria                 38.0                       316.0                 4.0     0.0          1.0         0.0          0.0      0.0       0.042940      0.936053       2.873877      12.112049      9.238171                 0"
      ]
     },
     "execution_count": 12,
     "metadata": {},
     "output_type": "execute_result"
    }
   ],
   "source": [
    "#drop the city column\n",
    "df.drop(columns = 'customer_city', axis = 1, inplace = True)\n",
    "df.head()"
   ]
  },
  {
   "cell_type": "markdown",
   "metadata": {},
   "source": [
    "## Customer State"
   ]
  },
  {
   "cell_type": "code",
   "execution_count": 13,
   "metadata": {},
   "outputs": [
    {
     "data": {
      "text/plain": [
       "SP    38964\n",
       "RJ    11812\n",
       "MG    10856\n",
       "RS     5123\n",
       "PR     4708\n",
       "SC     3351\n",
       "BA     3048\n",
       "DF     2006\n",
       "ES     1891\n",
       "GO     1868\n",
       "PE     1514\n",
       "CE     1190\n",
       "PA      889\n",
       "MT      857\n",
       "MS      681\n",
       "MA      676\n",
       "PB      485\n",
       "RN      455\n",
       "PI      446\n",
       "AL      379\n",
       "SE      312\n",
       "TO      260\n",
       "RO      227\n",
       "AM      143\n",
       "AC       73\n",
       "AP       61\n",
       "RR       34\n",
       "Name: customer_state, dtype: int64"
      ]
     },
     "execution_count": 13,
     "metadata": {},
     "output_type": "execute_result"
    }
   ],
   "source": [
    "df.customer_state.value_counts()"
   ]
  },
  {
   "cell_type": "code",
   "execution_count": 14,
   "metadata": {},
   "outputs": [],
   "source": [
    "#create a regions list\n",
    "norte = ['AM', 'RR', 'AP', 'PA', 'TO', 'RO', 'AC']\n",
    "nordeste = ['MA', 'PI', 'CE', 'RN', 'PE', 'PB', 'SE', 'AL', 'BA']\n",
    "centro_oeste = ['MT', 'MS', 'GO']\n",
    "sul = ['PR', 'RS', 'SC']\n",
    "sudeste = ['SP', 'RJ', 'ES', 'MG']"
   ]
  },
  {
   "cell_type": "code",
   "execution_count": 15,
   "metadata": {},
   "outputs": [],
   "source": [
    "#create a new feature based in region list\n",
    "def region (row):\n",
    "    val = \"\"\n",
    "    if row['customer_state'] in norte:\n",
    "        val = 'norte'\n",
    "    elif row['customer_state'] in nordeste:\n",
    "        val = 'nordeste'\n",
    "    elif row['customer_state'] in centro_oeste:\n",
    "        val = 'centro_oeste'\n",
    "    elif row['customer_state'] in sul:\n",
    "        val = 'sul'\n",
    "    elif row['customer_state'] in sudeste:\n",
    "        val = 'sudeste'\n",
    "    return val"
   ]
  },
  {
   "cell_type": "code",
   "execution_count": 16,
   "metadata": {},
   "outputs": [],
   "source": [
    "df['customer_region'] = df.apply(region, axis = 1)"
   ]
  },
  {
   "cell_type": "code",
   "execution_count": 17,
   "metadata": {},
   "outputs": [
    {
     "data": {
      "text/html": [
       "<div>\n",
       "<style scoped>\n",
       "    .dataframe tbody tr th:only-of-type {\n",
       "        vertical-align: middle;\n",
       "    }\n",
       "\n",
       "    .dataframe tbody tr th {\n",
       "        vertical-align: top;\n",
       "    }\n",
       "\n",
       "    .dataframe thead th {\n",
       "        text-align: right;\n",
       "    }\n",
       "</style>\n",
       "<table border=\"1\" class=\"dataframe\">\n",
       "  <thead>\n",
       "    <tr style=\"text-align: right;\">\n",
       "      <th></th>\n",
       "      <th>review_score</th>\n",
       "      <th>price</th>\n",
       "      <th>freight_value</th>\n",
       "      <th>product_category_name</th>\n",
       "      <th>product_name_lenght</th>\n",
       "      <th>product_description_lenght</th>\n",
       "      <th>product_photos_qty</th>\n",
       "      <th>boleto</th>\n",
       "      <th>credit_card</th>\n",
       "      <th>debit_card</th>\n",
       "      <th>not_defined</th>\n",
       "      <th>voucher</th>\n",
       "      <th>diff_approved</th>\n",
       "      <th>diff_carrier</th>\n",
       "      <th>diff_customer</th>\n",
       "      <th>diff_estimate</th>\n",
       "      <th>diff_est_del</th>\n",
       "      <th>customer_capital</th>\n",
       "      <th>customer_region</th>\n",
       "    </tr>\n",
       "  </thead>\n",
       "  <tbody>\n",
       "    <tr>\n",
       "      <th>0</th>\n",
       "      <td>4.0</td>\n",
       "      <td>29.99</td>\n",
       "      <td>8.72</td>\n",
       "      <td>utilidades_domesticas</td>\n",
       "      <td>40.0</td>\n",
       "      <td>268.0</td>\n",
       "      <td>4.0</td>\n",
       "      <td>0.0</td>\n",
       "      <td>1.0</td>\n",
       "      <td>0.0</td>\n",
       "      <td>0.0</td>\n",
       "      <td>2.0</td>\n",
       "      <td>0.007431</td>\n",
       "      <td>2.373924</td>\n",
       "      <td>8.436574</td>\n",
       "      <td>15.544063</td>\n",
       "      <td>7.107488</td>\n",
       "      <td>1</td>\n",
       "      <td>sudeste</td>\n",
       "    </tr>\n",
       "    <tr>\n",
       "      <th>1</th>\n",
       "      <td>4.0</td>\n",
       "      <td>118.70</td>\n",
       "      <td>22.76</td>\n",
       "      <td>perfumaria</td>\n",
       "      <td>29.0</td>\n",
       "      <td>178.0</td>\n",
       "      <td>1.0</td>\n",
       "      <td>1.0</td>\n",
       "      <td>0.0</td>\n",
       "      <td>0.0</td>\n",
       "      <td>0.0</td>\n",
       "      <td>0.0</td>\n",
       "      <td>1.279745</td>\n",
       "      <td>1.742627</td>\n",
       "      <td>13.782037</td>\n",
       "      <td>19.137766</td>\n",
       "      <td>5.355729</td>\n",
       "      <td>0</td>\n",
       "      <td>nordeste</td>\n",
       "    </tr>\n",
       "    <tr>\n",
       "      <th>2</th>\n",
       "      <td>5.0</td>\n",
       "      <td>159.90</td>\n",
       "      <td>19.22</td>\n",
       "      <td>automotivo</td>\n",
       "      <td>46.0</td>\n",
       "      <td>232.0</td>\n",
       "      <td>1.0</td>\n",
       "      <td>0.0</td>\n",
       "      <td>3.0</td>\n",
       "      <td>0.0</td>\n",
       "      <td>0.0</td>\n",
       "      <td>0.0</td>\n",
       "      <td>0.011505</td>\n",
       "      <td>0.216100</td>\n",
       "      <td>9.394213</td>\n",
       "      <td>26.639711</td>\n",
       "      <td>17.245498</td>\n",
       "      <td>0</td>\n",
       "      <td>centro_oeste</td>\n",
       "    </tr>\n",
       "    <tr>\n",
       "      <th>3</th>\n",
       "      <td>5.0</td>\n",
       "      <td>45.00</td>\n",
       "      <td>27.20</td>\n",
       "      <td>pet_shop</td>\n",
       "      <td>59.0</td>\n",
       "      <td>468.0</td>\n",
       "      <td>3.0</td>\n",
       "      <td>0.0</td>\n",
       "      <td>1.0</td>\n",
       "      <td>0.0</td>\n",
       "      <td>0.0</td>\n",
       "      <td>0.0</td>\n",
       "      <td>0.012419</td>\n",
       "      <td>3.758252</td>\n",
       "      <td>13.208750</td>\n",
       "      <td>26.188819</td>\n",
       "      <td>12.980069</td>\n",
       "      <td>0</td>\n",
       "      <td>nordeste</td>\n",
       "    </tr>\n",
       "    <tr>\n",
       "      <th>4</th>\n",
       "      <td>5.0</td>\n",
       "      <td>19.90</td>\n",
       "      <td>8.72</td>\n",
       "      <td>papelaria</td>\n",
       "      <td>38.0</td>\n",
       "      <td>316.0</td>\n",
       "      <td>4.0</td>\n",
       "      <td>0.0</td>\n",
       "      <td>1.0</td>\n",
       "      <td>0.0</td>\n",
       "      <td>0.0</td>\n",
       "      <td>0.0</td>\n",
       "      <td>0.042940</td>\n",
       "      <td>0.936053</td>\n",
       "      <td>2.873877</td>\n",
       "      <td>12.112049</td>\n",
       "      <td>9.238171</td>\n",
       "      <td>0</td>\n",
       "      <td>sudeste</td>\n",
       "    </tr>\n",
       "  </tbody>\n",
       "</table>\n",
       "</div>"
      ],
      "text/plain": [
       "   review_score   price  freight_value  product_category_name  product_name_lenght  product_description_lenght  product_photos_qty  boleto  credit_card  debit_card  not_defined  voucher  diff_approved  diff_carrier  diff_customer  diff_estimate  diff_est_del  customer_capital customer_region\n",
       "0           4.0   29.99           8.72  utilidades_domesticas                 40.0                       268.0                 4.0     0.0          1.0         0.0          0.0      2.0       0.007431      2.373924       8.436574      15.544063      7.107488                 1         sudeste\n",
       "1           4.0  118.70          22.76             perfumaria                 29.0                       178.0                 1.0     1.0          0.0         0.0          0.0      0.0       1.279745      1.742627      13.782037      19.137766      5.355729                 0        nordeste\n",
       "2           5.0  159.90          19.22             automotivo                 46.0                       232.0                 1.0     0.0          3.0         0.0          0.0      0.0       0.011505      0.216100       9.394213      26.639711     17.245498                 0    centro_oeste\n",
       "3           5.0   45.00          27.20               pet_shop                 59.0                       468.0                 3.0     0.0          1.0         0.0          0.0      0.0       0.012419      3.758252      13.208750      26.188819     12.980069                 0        nordeste\n",
       "4           5.0   19.90           8.72              papelaria                 38.0                       316.0                 4.0     0.0          1.0         0.0          0.0      0.0       0.042940      0.936053       2.873877      12.112049      9.238171                 0         sudeste"
      ]
     },
     "execution_count": 17,
     "metadata": {},
     "output_type": "execute_result"
    }
   ],
   "source": [
    "#drop the customer_state colum\n",
    "df.drop(columns = 'customer_state', axis = 1, inplace = True)\n",
    "df.head()"
   ]
  },
  {
   "cell_type": "code",
   "execution_count": 18,
   "metadata": {},
   "outputs": [
    {
     "name": "stdout",
     "output_type": "stream",
     "text": [
      "<class 'pandas.core.frame.DataFrame'>\n",
      "RangeIndex: 92309 entries, 0 to 92308\n",
      "Data columns (total 19 columns):\n",
      " #   Column                      Non-Null Count  Dtype  \n",
      "---  ------                      --------------  -----  \n",
      " 0   review_score                92309 non-null  float64\n",
      " 1   price                       92309 non-null  float64\n",
      " 2   freight_value               92309 non-null  float64\n",
      " 3   product_category_name       92309 non-null  object \n",
      " 4   product_name_lenght         92309 non-null  float64\n",
      " 5   product_description_lenght  92309 non-null  float64\n",
      " 6   product_photos_qty          92309 non-null  float64\n",
      " 7   boleto                      92309 non-null  float64\n",
      " 8   credit_card                 92309 non-null  float64\n",
      " 9   debit_card                  92309 non-null  float64\n",
      " 10  not_defined                 92309 non-null  float64\n",
      " 11  voucher                     92309 non-null  float64\n",
      " 12  diff_approved               92309 non-null  float64\n",
      " 13  diff_carrier                92309 non-null  float64\n",
      " 14  diff_customer               92309 non-null  float64\n",
      " 15  diff_estimate               92309 non-null  float64\n",
      " 16  diff_est_del                92309 non-null  float64\n",
      " 17  customer_capital            92309 non-null  int64  \n",
      " 18  customer_region             92309 non-null  object \n",
      "dtypes: float64(16), int64(1), object(2)\n",
      "memory usage: 13.4+ MB\n"
     ]
    }
   ],
   "source": [
    "df.info()"
   ]
  },
  {
   "cell_type": "markdown",
   "metadata": {},
   "source": [
    "## Product category"
   ]
  },
  {
   "cell_type": "code",
   "execution_count": 19,
   "metadata": {},
   "outputs": [],
   "source": [
    "product_percent = df['product_category_name'].value_counts(normalize=True) * 100"
   ]
  },
  {
   "cell_type": "code",
   "execution_count": 20,
   "metadata": {},
   "outputs": [
    {
     "data": {
      "text/plain": [
       "['casa_construcao',\n",
       " 'alimentos',\n",
       " 'moveis_sala',\n",
       " 'casa_conforto',\n",
       " 'audio',\n",
       " 'bebidas',\n",
       " 'livros_tecnicos',\n",
       " 'market_place',\n",
       " 'fashion_calcados',\n",
       " 'climatizacao',\n",
       " 'industria_comercio_e_negocios',\n",
       " 'construcao_ferramentas_iluminacao',\n",
       " 'moveis_cozinha_area_de_servico_jantar_e_jardim',\n",
       " 'eletrodomesticos_2',\n",
       " 'alimentos_bebidas',\n",
       " 'construcao_ferramentas_jardim',\n",
       " 'telefonia_fixa',\n",
       " 'artes',\n",
       " 'pcs',\n",
       " 'agro_industria_e_comercio',\n",
       " 'construcao_ferramentas_seguranca',\n",
       " 'sinalizacao_e_seguranca',\n",
       " 'artigos_de_natal',\n",
       " 'fashion_underwear_e_moda_praia',\n",
       " 'fashion_roupa_masculina',\n",
       " 'construcao_ferramentas_ferramentas',\n",
       " 'moveis_quarto',\n",
       " 'tablets_impressao_imagem',\n",
       " 'portateis_casa_forno_e_cafe',\n",
       " 'cine_foto',\n",
       " 'dvds_blu_ray',\n",
       " 'livros_importados',\n",
       " 'musica',\n",
       " 'moveis_colchao_e_estofado',\n",
       " 'artigos_de_festas',\n",
       " 'fashion_roupa_feminina',\n",
       " 'flores',\n",
       " 'fashion_esporte',\n",
       " 'casa_conforto_2',\n",
       " 'fraldas_higiene',\n",
       " 'artes_e_artesanato',\n",
       " 'la_cuisine',\n",
       " 'cds_dvds_musicais',\n",
       " 'portateis_cozinha_e_preparadores_de_alimentos',\n",
       " 'fashion_roupa_infanto_juvenil',\n",
       " 'pc_gamer',\n",
       " 'seguros_e_servicos']"
      ]
     },
     "execution_count": 20,
     "metadata": {},
     "output_type": "execute_result"
    }
   ],
   "source": [
    "products = product_percent[product_percent < 0.5]\n",
    "products = products.index.tolist()\n",
    "products"
   ]
  },
  {
   "cell_type": "code",
   "execution_count": 21,
   "metadata": {},
   "outputs": [
    {
     "name": "stdout",
     "output_type": "stream",
     "text": [
      "<class 'pandas.core.frame.DataFrame'>\n",
      "Int64Index: 85769 entries, 0 to 92308\n",
      "Data columns (total 19 columns):\n",
      " #   Column                      Non-Null Count  Dtype  \n",
      "---  ------                      --------------  -----  \n",
      " 0   review_score                85769 non-null  float64\n",
      " 1   price                       85769 non-null  float64\n",
      " 2   freight_value               85769 non-null  float64\n",
      " 3   product_category_name       85769 non-null  object \n",
      " 4   product_name_lenght         85769 non-null  float64\n",
      " 5   product_description_lenght  85769 non-null  float64\n",
      " 6   product_photos_qty          85769 non-null  float64\n",
      " 7   boleto                      85769 non-null  float64\n",
      " 8   credit_card                 85769 non-null  float64\n",
      " 9   debit_card                  85769 non-null  float64\n",
      " 10  not_defined                 85769 non-null  float64\n",
      " 11  voucher                     85769 non-null  float64\n",
      " 12  diff_approved               85769 non-null  float64\n",
      " 13  diff_carrier                85769 non-null  float64\n",
      " 14  diff_customer               85769 non-null  float64\n",
      " 15  diff_estimate               85769 non-null  float64\n",
      " 16  diff_est_del                85769 non-null  float64\n",
      " 17  customer_capital            85769 non-null  int64  \n",
      " 18  customer_region             85769 non-null  object \n",
      "dtypes: float64(16), int64(1), object(2)\n",
      "memory usage: 13.1+ MB\n"
     ]
    }
   ],
   "source": [
    "df = df[~df.product_category_name.isin(products)]\n",
    "df.info()"
   ]
  },
  {
   "cell_type": "code",
   "execution_count": 22,
   "metadata": {},
   "outputs": [
    {
     "data": {
      "text/plain": [
       "cama_mesa_banho                      9116\n",
       "beleza_saude                         8188\n",
       "esporte_lazer                        7147\n",
       "informatica_acessorios               6220\n",
       "moveis_decoracao                     6090\n",
       "utilidades_domesticas                5393\n",
       "relogios_presentes                   5179\n",
       "telefonia                            3758\n",
       "automotivo                           3621\n",
       "brinquedos                           3606\n",
       "cool_stuff                           3298\n",
       "ferramentas_jardim                   3259\n",
       "perfumaria                           2963\n",
       "bebes                                2616\n",
       "eletronicos                          2331\n",
       "papelaria                            2186\n",
       "fashion_bolsas_e_acessorios          1789\n",
       "pet_shop                             1624\n",
       "no info                              1323\n",
       "moveis_escritorio                    1103\n",
       "malas_acessorios                      966\n",
       "consoles_games                        926\n",
       "eletrodomesticos                      721\n",
       "construcao_ferramentas_construcao     696\n",
       "eletroportateis                       578\n",
       "instrumentos_musicais                 577\n",
       "livros_interesse_geral                495\n",
       "Name: product_category_name, dtype: int64"
      ]
     },
     "execution_count": 22,
     "metadata": {},
     "output_type": "execute_result"
    }
   ],
   "source": [
    "df.product_category_name.value_counts()"
   ]
  },
  {
   "cell_type": "markdown",
   "metadata": {},
   "source": [
    "# Transforming Categorical Values"
   ]
  },
  {
   "cell_type": "markdown",
   "metadata": {},
   "source": [
    "### Encoding Independent variables"
   ]
  },
  {
   "cell_type": "code",
   "execution_count": 23,
   "metadata": {},
   "outputs": [
    {
     "name": "stdout",
     "output_type": "stream",
     "text": [
      "Categorical variables:\n",
      "['product_category_name', 'customer_region']\n"
     ]
    }
   ],
   "source": [
    "# Get list of categorical variables\n",
    "datatype = df.dtypes\n",
    "object_cols = datatype[(datatype == 'object') | (datatype == 'category')].index.tolist()\n",
    "#object_cols = list(s[s].index)\n",
    "\n",
    "print(\"Categorical variables:\")\n",
    "print(object_cols)"
   ]
  },
  {
   "cell_type": "code",
   "execution_count": 24,
   "metadata": {},
   "outputs": [
    {
     "data": {
      "text/html": [
       "<div>\n",
       "<style scoped>\n",
       "    .dataframe tbody tr th:only-of-type {\n",
       "        vertical-align: middle;\n",
       "    }\n",
       "\n",
       "    .dataframe tbody tr th {\n",
       "        vertical-align: top;\n",
       "    }\n",
       "\n",
       "    .dataframe thead th {\n",
       "        text-align: right;\n",
       "    }\n",
       "</style>\n",
       "<table border=\"1\" class=\"dataframe\">\n",
       "  <thead>\n",
       "    <tr style=\"text-align: right;\">\n",
       "      <th></th>\n",
       "      <th>review_score</th>\n",
       "      <th>price</th>\n",
       "      <th>freight_value</th>\n",
       "      <th>product_name_lenght</th>\n",
       "      <th>product_description_lenght</th>\n",
       "      <th>product_photos_qty</th>\n",
       "      <th>boleto</th>\n",
       "      <th>credit_card</th>\n",
       "      <th>debit_card</th>\n",
       "      <th>not_defined</th>\n",
       "      <th>voucher</th>\n",
       "      <th>diff_approved</th>\n",
       "      <th>diff_carrier</th>\n",
       "      <th>diff_customer</th>\n",
       "      <th>diff_estimate</th>\n",
       "      <th>diff_est_del</th>\n",
       "      <th>customer_capital</th>\n",
       "      <th>customer_region_centro_oeste</th>\n",
       "      <th>customer_region_nordeste</th>\n",
       "      <th>customer_region_norte</th>\n",
       "      <th>customer_region_sudeste</th>\n",
       "      <th>customer_region_sul</th>\n",
       "      <th>product_category_name_bebes</th>\n",
       "      <th>product_category_name_beleza_saude</th>\n",
       "      <th>product_category_name_brinquedos</th>\n",
       "      <th>product_category_name_cama_mesa_banho</th>\n",
       "      <th>product_category_name_consoles_games</th>\n",
       "      <th>product_category_name_construcao_ferramentas_construcao</th>\n",
       "      <th>product_category_name_cool_stuff</th>\n",
       "      <th>product_category_name_eletrodomesticos</th>\n",
       "      <th>product_category_name_eletronicos</th>\n",
       "      <th>product_category_name_eletroportateis</th>\n",
       "      <th>product_category_name_esporte_lazer</th>\n",
       "      <th>product_category_name_fashion_bolsas_e_acessorios</th>\n",
       "      <th>product_category_name_ferramentas_jardim</th>\n",
       "      <th>product_category_name_informatica_acessorios</th>\n",
       "      <th>product_category_name_instrumentos_musicais</th>\n",
       "      <th>product_category_name_livros_interesse_geral</th>\n",
       "      <th>product_category_name_malas_acessorios</th>\n",
       "      <th>product_category_name_moveis_decoracao</th>\n",
       "      <th>product_category_name_moveis_escritorio</th>\n",
       "      <th>product_category_name_no info</th>\n",
       "      <th>product_category_name_papelaria</th>\n",
       "      <th>product_category_name_perfumaria</th>\n",
       "      <th>product_category_name_pet_shop</th>\n",
       "      <th>product_category_name_relogios_presentes</th>\n",
       "      <th>product_category_name_telefonia</th>\n",
       "      <th>product_category_name_utilidades_domesticas</th>\n",
       "    </tr>\n",
       "  </thead>\n",
       "  <tbody>\n",
       "    <tr>\n",
       "      <th>0</th>\n",
       "      <td>4.0</td>\n",
       "      <td>29.99</td>\n",
       "      <td>8.72</td>\n",
       "      <td>40.0</td>\n",
       "      <td>268.0</td>\n",
       "      <td>4.0</td>\n",
       "      <td>0.0</td>\n",
       "      <td>1.0</td>\n",
       "      <td>0.0</td>\n",
       "      <td>0.0</td>\n",
       "      <td>2.0</td>\n",
       "      <td>0.007431</td>\n",
       "      <td>2.373924</td>\n",
       "      <td>8.436574</td>\n",
       "      <td>15.544063</td>\n",
       "      <td>7.107488</td>\n",
       "      <td>1</td>\n",
       "      <td>0</td>\n",
       "      <td>0</td>\n",
       "      <td>0</td>\n",
       "      <td>1</td>\n",
       "      <td>0</td>\n",
       "      <td>0</td>\n",
       "      <td>0</td>\n",
       "      <td>0</td>\n",
       "      <td>0</td>\n",
       "      <td>0</td>\n",
       "      <td>0</td>\n",
       "      <td>0</td>\n",
       "      <td>0</td>\n",
       "      <td>0</td>\n",
       "      <td>0</td>\n",
       "      <td>0</td>\n",
       "      <td>0</td>\n",
       "      <td>0</td>\n",
       "      <td>0</td>\n",
       "      <td>0</td>\n",
       "      <td>0</td>\n",
       "      <td>0</td>\n",
       "      <td>0</td>\n",
       "      <td>0</td>\n",
       "      <td>0</td>\n",
       "      <td>0</td>\n",
       "      <td>0</td>\n",
       "      <td>0</td>\n",
       "      <td>0</td>\n",
       "      <td>0</td>\n",
       "      <td>1</td>\n",
       "    </tr>\n",
       "    <tr>\n",
       "      <th>1</th>\n",
       "      <td>4.0</td>\n",
       "      <td>118.70</td>\n",
       "      <td>22.76</td>\n",
       "      <td>29.0</td>\n",
       "      <td>178.0</td>\n",
       "      <td>1.0</td>\n",
       "      <td>1.0</td>\n",
       "      <td>0.0</td>\n",
       "      <td>0.0</td>\n",
       "      <td>0.0</td>\n",
       "      <td>0.0</td>\n",
       "      <td>1.279745</td>\n",
       "      <td>1.742627</td>\n",
       "      <td>13.782037</td>\n",
       "      <td>19.137766</td>\n",
       "      <td>5.355729</td>\n",
       "      <td>0</td>\n",
       "      <td>0</td>\n",
       "      <td>1</td>\n",
       "      <td>0</td>\n",
       "      <td>0</td>\n",
       "      <td>0</td>\n",
       "      <td>0</td>\n",
       "      <td>0</td>\n",
       "      <td>0</td>\n",
       "      <td>0</td>\n",
       "      <td>0</td>\n",
       "      <td>0</td>\n",
       "      <td>0</td>\n",
       "      <td>0</td>\n",
       "      <td>0</td>\n",
       "      <td>0</td>\n",
       "      <td>0</td>\n",
       "      <td>0</td>\n",
       "      <td>0</td>\n",
       "      <td>0</td>\n",
       "      <td>0</td>\n",
       "      <td>0</td>\n",
       "      <td>0</td>\n",
       "      <td>0</td>\n",
       "      <td>0</td>\n",
       "      <td>0</td>\n",
       "      <td>0</td>\n",
       "      <td>1</td>\n",
       "      <td>0</td>\n",
       "      <td>0</td>\n",
       "      <td>0</td>\n",
       "      <td>0</td>\n",
       "    </tr>\n",
       "    <tr>\n",
       "      <th>2</th>\n",
       "      <td>5.0</td>\n",
       "      <td>159.90</td>\n",
       "      <td>19.22</td>\n",
       "      <td>46.0</td>\n",
       "      <td>232.0</td>\n",
       "      <td>1.0</td>\n",
       "      <td>0.0</td>\n",
       "      <td>3.0</td>\n",
       "      <td>0.0</td>\n",
       "      <td>0.0</td>\n",
       "      <td>0.0</td>\n",
       "      <td>0.011505</td>\n",
       "      <td>0.216100</td>\n",
       "      <td>9.394213</td>\n",
       "      <td>26.639711</td>\n",
       "      <td>17.245498</td>\n",
       "      <td>0</td>\n",
       "      <td>1</td>\n",
       "      <td>0</td>\n",
       "      <td>0</td>\n",
       "      <td>0</td>\n",
       "      <td>0</td>\n",
       "      <td>0</td>\n",
       "      <td>0</td>\n",
       "      <td>0</td>\n",
       "      <td>0</td>\n",
       "      <td>0</td>\n",
       "      <td>0</td>\n",
       "      <td>0</td>\n",
       "      <td>0</td>\n",
       "      <td>0</td>\n",
       "      <td>0</td>\n",
       "      <td>0</td>\n",
       "      <td>0</td>\n",
       "      <td>0</td>\n",
       "      <td>0</td>\n",
       "      <td>0</td>\n",
       "      <td>0</td>\n",
       "      <td>0</td>\n",
       "      <td>0</td>\n",
       "      <td>0</td>\n",
       "      <td>0</td>\n",
       "      <td>0</td>\n",
       "      <td>0</td>\n",
       "      <td>0</td>\n",
       "      <td>0</td>\n",
       "      <td>0</td>\n",
       "      <td>0</td>\n",
       "    </tr>\n",
       "    <tr>\n",
       "      <th>3</th>\n",
       "      <td>5.0</td>\n",
       "      <td>45.00</td>\n",
       "      <td>27.20</td>\n",
       "      <td>59.0</td>\n",
       "      <td>468.0</td>\n",
       "      <td>3.0</td>\n",
       "      <td>0.0</td>\n",
       "      <td>1.0</td>\n",
       "      <td>0.0</td>\n",
       "      <td>0.0</td>\n",
       "      <td>0.0</td>\n",
       "      <td>0.012419</td>\n",
       "      <td>3.758252</td>\n",
       "      <td>13.208750</td>\n",
       "      <td>26.188819</td>\n",
       "      <td>12.980069</td>\n",
       "      <td>0</td>\n",
       "      <td>0</td>\n",
       "      <td>1</td>\n",
       "      <td>0</td>\n",
       "      <td>0</td>\n",
       "      <td>0</td>\n",
       "      <td>0</td>\n",
       "      <td>0</td>\n",
       "      <td>0</td>\n",
       "      <td>0</td>\n",
       "      <td>0</td>\n",
       "      <td>0</td>\n",
       "      <td>0</td>\n",
       "      <td>0</td>\n",
       "      <td>0</td>\n",
       "      <td>0</td>\n",
       "      <td>0</td>\n",
       "      <td>0</td>\n",
       "      <td>0</td>\n",
       "      <td>0</td>\n",
       "      <td>0</td>\n",
       "      <td>0</td>\n",
       "      <td>0</td>\n",
       "      <td>0</td>\n",
       "      <td>0</td>\n",
       "      <td>0</td>\n",
       "      <td>0</td>\n",
       "      <td>0</td>\n",
       "      <td>1</td>\n",
       "      <td>0</td>\n",
       "      <td>0</td>\n",
       "      <td>0</td>\n",
       "    </tr>\n",
       "    <tr>\n",
       "      <th>4</th>\n",
       "      <td>5.0</td>\n",
       "      <td>19.90</td>\n",
       "      <td>8.72</td>\n",
       "      <td>38.0</td>\n",
       "      <td>316.0</td>\n",
       "      <td>4.0</td>\n",
       "      <td>0.0</td>\n",
       "      <td>1.0</td>\n",
       "      <td>0.0</td>\n",
       "      <td>0.0</td>\n",
       "      <td>0.0</td>\n",
       "      <td>0.042940</td>\n",
       "      <td>0.936053</td>\n",
       "      <td>2.873877</td>\n",
       "      <td>12.112049</td>\n",
       "      <td>9.238171</td>\n",
       "      <td>0</td>\n",
       "      <td>0</td>\n",
       "      <td>0</td>\n",
       "      <td>0</td>\n",
       "      <td>1</td>\n",
       "      <td>0</td>\n",
       "      <td>0</td>\n",
       "      <td>0</td>\n",
       "      <td>0</td>\n",
       "      <td>0</td>\n",
       "      <td>0</td>\n",
       "      <td>0</td>\n",
       "      <td>0</td>\n",
       "      <td>0</td>\n",
       "      <td>0</td>\n",
       "      <td>0</td>\n",
       "      <td>0</td>\n",
       "      <td>0</td>\n",
       "      <td>0</td>\n",
       "      <td>0</td>\n",
       "      <td>0</td>\n",
       "      <td>0</td>\n",
       "      <td>0</td>\n",
       "      <td>0</td>\n",
       "      <td>0</td>\n",
       "      <td>0</td>\n",
       "      <td>1</td>\n",
       "      <td>0</td>\n",
       "      <td>0</td>\n",
       "      <td>0</td>\n",
       "      <td>0</td>\n",
       "      <td>0</td>\n",
       "    </tr>\n",
       "  </tbody>\n",
       "</table>\n",
       "</div>"
      ],
      "text/plain": [
       "   review_score   price  freight_value  product_name_lenght  product_description_lenght  product_photos_qty  boleto  credit_card  debit_card  not_defined  voucher  diff_approved  diff_carrier  diff_customer  diff_estimate  diff_est_del  customer_capital  customer_region_centro_oeste  customer_region_nordeste  customer_region_norte  customer_region_sudeste  customer_region_sul  product_category_name_bebes  product_category_name_beleza_saude  product_category_name_brinquedos  product_category_name_cama_mesa_banho  product_category_name_consoles_games  product_category_name_construcao_ferramentas_construcao  product_category_name_cool_stuff  product_category_name_eletrodomesticos  product_category_name_eletronicos  product_category_name_eletroportateis  product_category_name_esporte_lazer  product_category_name_fashion_bolsas_e_acessorios  product_category_name_ferramentas_jardim  product_category_name_informatica_acessorios  product_category_name_instrumentos_musicais  product_category_name_livros_interesse_geral  product_category_name_malas_acessorios  product_category_name_moveis_decoracao  product_category_name_moveis_escritorio  product_category_name_no info  product_category_name_papelaria  product_category_name_perfumaria  product_category_name_pet_shop  product_category_name_relogios_presentes  product_category_name_telefonia  product_category_name_utilidades_domesticas\n",
       "0           4.0   29.99           8.72                 40.0                       268.0                 4.0     0.0          1.0         0.0          0.0      2.0       0.007431      2.373924       8.436574      15.544063      7.107488                 1                             0                         0                      0                        1                    0                            0                                   0                                 0                                      0                                     0                                                  0                                       0                                       0                                  0                                      0                                    0                                                  0                                         0                                             0                                            0                                             0                                       0                                       0                                        0                              0                                0                                 0                               0                                         0                                0                                            1\n",
       "1           4.0  118.70          22.76                 29.0                       178.0                 1.0     1.0          0.0         0.0          0.0      0.0       1.279745      1.742627      13.782037      19.137766      5.355729                 0                             0                         1                      0                        0                    0                            0                                   0                                 0                                      0                                     0                                                  0                                       0                                       0                                  0                                      0                                    0                                                  0                                         0                                             0                                            0                                             0                                       0                                       0                                        0                              0                                0                                 1                               0                                         0                                0                                            0\n",
       "2           5.0  159.90          19.22                 46.0                       232.0                 1.0     0.0          3.0         0.0          0.0      0.0       0.011505      0.216100       9.394213      26.639711     17.245498                 0                             1                         0                      0                        0                    0                            0                                   0                                 0                                      0                                     0                                                  0                                       0                                       0                                  0                                      0                                    0                                                  0                                         0                                             0                                            0                                             0                                       0                                       0                                        0                              0                                0                                 0                               0                                         0                                0                                            0\n",
       "3           5.0   45.00          27.20                 59.0                       468.0                 3.0     0.0          1.0         0.0          0.0      0.0       0.012419      3.758252      13.208750      26.188819     12.980069                 0                             0                         1                      0                        0                    0                            0                                   0                                 0                                      0                                     0                                                  0                                       0                                       0                                  0                                      0                                    0                                                  0                                         0                                             0                                            0                                             0                                       0                                       0                                        0                              0                                0                                 0                               1                                         0                                0                                            0\n",
       "4           5.0   19.90           8.72                 38.0                       316.0                 4.0     0.0          1.0         0.0          0.0      0.0       0.042940      0.936053       2.873877      12.112049      9.238171                 0                             0                         0                      0                        1                    0                            0                                   0                                 0                                      0                                     0                                                  0                                       0                                       0                                  0                                      0                                    0                                                  0                                         0                                             0                                            0                                             0                                       0                                       0                                        0                              0                                1                                 0                               0                                         0                                0                                            0"
      ]
     },
     "execution_count": 24,
     "metadata": {},
     "output_type": "execute_result"
    }
   ],
   "source": [
    "#get dummies\n",
    "dummy = pd.get_dummies(df[['customer_region', 'product_category_name']], drop_first=True)\n",
    "\n",
    "#concat dataframe\n",
    "df = pd.concat([df, dummy], axis = 1)\n",
    "\n",
    "#drop the columns:\n",
    "df.drop(columns = object_cols, axis= 1, inplace = True)\n",
    "\n",
    "#check\n",
    "df.head()"
   ]
  },
  {
   "cell_type": "markdown",
   "metadata": {},
   "source": [
    "### Transforming the dependent variable"
   ]
  },
  {
   "cell_type": "code",
   "execution_count": 25,
   "metadata": {},
   "outputs": [
    {
     "data": {
      "text/plain": [
       "5.0    54561\n",
       "4.0    18118\n",
       "1.0    10019\n",
       "2.0     3071\n",
       "Name: review_score, dtype: int64"
      ]
     },
     "execution_count": 25,
     "metadata": {},
     "output_type": "execute_result"
    }
   ],
   "source": [
    "df['review_score'].value_counts()"
   ]
  },
  {
   "cell_type": "code",
   "execution_count": 26,
   "metadata": {},
   "outputs": [
    {
     "data": {
      "text/html": [
       "<div>\n",
       "<style scoped>\n",
       "    .dataframe tbody tr th:only-of-type {\n",
       "        vertical-align: middle;\n",
       "    }\n",
       "\n",
       "    .dataframe tbody tr th {\n",
       "        vertical-align: top;\n",
       "    }\n",
       "\n",
       "    .dataframe thead th {\n",
       "        text-align: right;\n",
       "    }\n",
       "</style>\n",
       "<table border=\"1\" class=\"dataframe\">\n",
       "  <thead>\n",
       "    <tr style=\"text-align: right;\">\n",
       "      <th></th>\n",
       "      <th>review_score</th>\n",
       "      <th>price</th>\n",
       "      <th>freight_value</th>\n",
       "      <th>product_name_lenght</th>\n",
       "      <th>product_description_lenght</th>\n",
       "      <th>product_photos_qty</th>\n",
       "      <th>boleto</th>\n",
       "      <th>credit_card</th>\n",
       "      <th>debit_card</th>\n",
       "      <th>not_defined</th>\n",
       "      <th>voucher</th>\n",
       "      <th>diff_approved</th>\n",
       "      <th>diff_carrier</th>\n",
       "      <th>diff_customer</th>\n",
       "      <th>diff_estimate</th>\n",
       "      <th>diff_est_del</th>\n",
       "      <th>customer_capital</th>\n",
       "      <th>customer_region_centro_oeste</th>\n",
       "      <th>customer_region_nordeste</th>\n",
       "      <th>customer_region_norte</th>\n",
       "      <th>customer_region_sudeste</th>\n",
       "      <th>customer_region_sul</th>\n",
       "      <th>product_category_name_bebes</th>\n",
       "      <th>product_category_name_beleza_saude</th>\n",
       "      <th>product_category_name_brinquedos</th>\n",
       "      <th>product_category_name_cama_mesa_banho</th>\n",
       "      <th>product_category_name_consoles_games</th>\n",
       "      <th>product_category_name_construcao_ferramentas_construcao</th>\n",
       "      <th>product_category_name_cool_stuff</th>\n",
       "      <th>product_category_name_eletrodomesticos</th>\n",
       "      <th>product_category_name_eletronicos</th>\n",
       "      <th>product_category_name_eletroportateis</th>\n",
       "      <th>product_category_name_esporte_lazer</th>\n",
       "      <th>product_category_name_fashion_bolsas_e_acessorios</th>\n",
       "      <th>product_category_name_ferramentas_jardim</th>\n",
       "      <th>product_category_name_informatica_acessorios</th>\n",
       "      <th>product_category_name_instrumentos_musicais</th>\n",
       "      <th>product_category_name_livros_interesse_geral</th>\n",
       "      <th>product_category_name_malas_acessorios</th>\n",
       "      <th>product_category_name_moveis_decoracao</th>\n",
       "      <th>product_category_name_moveis_escritorio</th>\n",
       "      <th>product_category_name_no info</th>\n",
       "      <th>product_category_name_papelaria</th>\n",
       "      <th>product_category_name_perfumaria</th>\n",
       "      <th>product_category_name_pet_shop</th>\n",
       "      <th>product_category_name_relogios_presentes</th>\n",
       "      <th>product_category_name_telefonia</th>\n",
       "      <th>product_category_name_utilidades_domesticas</th>\n",
       "    </tr>\n",
       "  </thead>\n",
       "  <tbody>\n",
       "    <tr>\n",
       "      <th>0</th>\n",
       "      <td>1.0</td>\n",
       "      <td>29.99</td>\n",
       "      <td>8.72</td>\n",
       "      <td>40.0</td>\n",
       "      <td>268.0</td>\n",
       "      <td>4.0</td>\n",
       "      <td>0.0</td>\n",
       "      <td>1.0</td>\n",
       "      <td>0.0</td>\n",
       "      <td>0.0</td>\n",
       "      <td>2.0</td>\n",
       "      <td>0.007431</td>\n",
       "      <td>2.373924</td>\n",
       "      <td>8.436574</td>\n",
       "      <td>15.544063</td>\n",
       "      <td>7.107488</td>\n",
       "      <td>1</td>\n",
       "      <td>0</td>\n",
       "      <td>0</td>\n",
       "      <td>0</td>\n",
       "      <td>1</td>\n",
       "      <td>0</td>\n",
       "      <td>0</td>\n",
       "      <td>0</td>\n",
       "      <td>0</td>\n",
       "      <td>0</td>\n",
       "      <td>0</td>\n",
       "      <td>0</td>\n",
       "      <td>0</td>\n",
       "      <td>0</td>\n",
       "      <td>0</td>\n",
       "      <td>0</td>\n",
       "      <td>0</td>\n",
       "      <td>0</td>\n",
       "      <td>0</td>\n",
       "      <td>0</td>\n",
       "      <td>0</td>\n",
       "      <td>0</td>\n",
       "      <td>0</td>\n",
       "      <td>0</td>\n",
       "      <td>0</td>\n",
       "      <td>0</td>\n",
       "      <td>0</td>\n",
       "      <td>0</td>\n",
       "      <td>0</td>\n",
       "      <td>0</td>\n",
       "      <td>0</td>\n",
       "      <td>1</td>\n",
       "    </tr>\n",
       "    <tr>\n",
       "      <th>1</th>\n",
       "      <td>1.0</td>\n",
       "      <td>118.70</td>\n",
       "      <td>22.76</td>\n",
       "      <td>29.0</td>\n",
       "      <td>178.0</td>\n",
       "      <td>1.0</td>\n",
       "      <td>1.0</td>\n",
       "      <td>0.0</td>\n",
       "      <td>0.0</td>\n",
       "      <td>0.0</td>\n",
       "      <td>0.0</td>\n",
       "      <td>1.279745</td>\n",
       "      <td>1.742627</td>\n",
       "      <td>13.782037</td>\n",
       "      <td>19.137766</td>\n",
       "      <td>5.355729</td>\n",
       "      <td>0</td>\n",
       "      <td>0</td>\n",
       "      <td>1</td>\n",
       "      <td>0</td>\n",
       "      <td>0</td>\n",
       "      <td>0</td>\n",
       "      <td>0</td>\n",
       "      <td>0</td>\n",
       "      <td>0</td>\n",
       "      <td>0</td>\n",
       "      <td>0</td>\n",
       "      <td>0</td>\n",
       "      <td>0</td>\n",
       "      <td>0</td>\n",
       "      <td>0</td>\n",
       "      <td>0</td>\n",
       "      <td>0</td>\n",
       "      <td>0</td>\n",
       "      <td>0</td>\n",
       "      <td>0</td>\n",
       "      <td>0</td>\n",
       "      <td>0</td>\n",
       "      <td>0</td>\n",
       "      <td>0</td>\n",
       "      <td>0</td>\n",
       "      <td>0</td>\n",
       "      <td>0</td>\n",
       "      <td>1</td>\n",
       "      <td>0</td>\n",
       "      <td>0</td>\n",
       "      <td>0</td>\n",
       "      <td>0</td>\n",
       "    </tr>\n",
       "    <tr>\n",
       "      <th>2</th>\n",
       "      <td>1.0</td>\n",
       "      <td>159.90</td>\n",
       "      <td>19.22</td>\n",
       "      <td>46.0</td>\n",
       "      <td>232.0</td>\n",
       "      <td>1.0</td>\n",
       "      <td>0.0</td>\n",
       "      <td>3.0</td>\n",
       "      <td>0.0</td>\n",
       "      <td>0.0</td>\n",
       "      <td>0.0</td>\n",
       "      <td>0.011505</td>\n",
       "      <td>0.216100</td>\n",
       "      <td>9.394213</td>\n",
       "      <td>26.639711</td>\n",
       "      <td>17.245498</td>\n",
       "      <td>0</td>\n",
       "      <td>1</td>\n",
       "      <td>0</td>\n",
       "      <td>0</td>\n",
       "      <td>0</td>\n",
       "      <td>0</td>\n",
       "      <td>0</td>\n",
       "      <td>0</td>\n",
       "      <td>0</td>\n",
       "      <td>0</td>\n",
       "      <td>0</td>\n",
       "      <td>0</td>\n",
       "      <td>0</td>\n",
       "      <td>0</td>\n",
       "      <td>0</td>\n",
       "      <td>0</td>\n",
       "      <td>0</td>\n",
       "      <td>0</td>\n",
       "      <td>0</td>\n",
       "      <td>0</td>\n",
       "      <td>0</td>\n",
       "      <td>0</td>\n",
       "      <td>0</td>\n",
       "      <td>0</td>\n",
       "      <td>0</td>\n",
       "      <td>0</td>\n",
       "      <td>0</td>\n",
       "      <td>0</td>\n",
       "      <td>0</td>\n",
       "      <td>0</td>\n",
       "      <td>0</td>\n",
       "      <td>0</td>\n",
       "    </tr>\n",
       "    <tr>\n",
       "      <th>3</th>\n",
       "      <td>1.0</td>\n",
       "      <td>45.00</td>\n",
       "      <td>27.20</td>\n",
       "      <td>59.0</td>\n",
       "      <td>468.0</td>\n",
       "      <td>3.0</td>\n",
       "      <td>0.0</td>\n",
       "      <td>1.0</td>\n",
       "      <td>0.0</td>\n",
       "      <td>0.0</td>\n",
       "      <td>0.0</td>\n",
       "      <td>0.012419</td>\n",
       "      <td>3.758252</td>\n",
       "      <td>13.208750</td>\n",
       "      <td>26.188819</td>\n",
       "      <td>12.980069</td>\n",
       "      <td>0</td>\n",
       "      <td>0</td>\n",
       "      <td>1</td>\n",
       "      <td>0</td>\n",
       "      <td>0</td>\n",
       "      <td>0</td>\n",
       "      <td>0</td>\n",
       "      <td>0</td>\n",
       "      <td>0</td>\n",
       "      <td>0</td>\n",
       "      <td>0</td>\n",
       "      <td>0</td>\n",
       "      <td>0</td>\n",
       "      <td>0</td>\n",
       "      <td>0</td>\n",
       "      <td>0</td>\n",
       "      <td>0</td>\n",
       "      <td>0</td>\n",
       "      <td>0</td>\n",
       "      <td>0</td>\n",
       "      <td>0</td>\n",
       "      <td>0</td>\n",
       "      <td>0</td>\n",
       "      <td>0</td>\n",
       "      <td>0</td>\n",
       "      <td>0</td>\n",
       "      <td>0</td>\n",
       "      <td>0</td>\n",
       "      <td>1</td>\n",
       "      <td>0</td>\n",
       "      <td>0</td>\n",
       "      <td>0</td>\n",
       "    </tr>\n",
       "    <tr>\n",
       "      <th>4</th>\n",
       "      <td>1.0</td>\n",
       "      <td>19.90</td>\n",
       "      <td>8.72</td>\n",
       "      <td>38.0</td>\n",
       "      <td>316.0</td>\n",
       "      <td>4.0</td>\n",
       "      <td>0.0</td>\n",
       "      <td>1.0</td>\n",
       "      <td>0.0</td>\n",
       "      <td>0.0</td>\n",
       "      <td>0.0</td>\n",
       "      <td>0.042940</td>\n",
       "      <td>0.936053</td>\n",
       "      <td>2.873877</td>\n",
       "      <td>12.112049</td>\n",
       "      <td>9.238171</td>\n",
       "      <td>0</td>\n",
       "      <td>0</td>\n",
       "      <td>0</td>\n",
       "      <td>0</td>\n",
       "      <td>1</td>\n",
       "      <td>0</td>\n",
       "      <td>0</td>\n",
       "      <td>0</td>\n",
       "      <td>0</td>\n",
       "      <td>0</td>\n",
       "      <td>0</td>\n",
       "      <td>0</td>\n",
       "      <td>0</td>\n",
       "      <td>0</td>\n",
       "      <td>0</td>\n",
       "      <td>0</td>\n",
       "      <td>0</td>\n",
       "      <td>0</td>\n",
       "      <td>0</td>\n",
       "      <td>0</td>\n",
       "      <td>0</td>\n",
       "      <td>0</td>\n",
       "      <td>0</td>\n",
       "      <td>0</td>\n",
       "      <td>0</td>\n",
       "      <td>0</td>\n",
       "      <td>1</td>\n",
       "      <td>0</td>\n",
       "      <td>0</td>\n",
       "      <td>0</td>\n",
       "      <td>0</td>\n",
       "      <td>0</td>\n",
       "    </tr>\n",
       "  </tbody>\n",
       "</table>\n",
       "</div>"
      ],
      "text/plain": [
       "   review_score   price  freight_value  product_name_lenght  product_description_lenght  product_photos_qty  boleto  credit_card  debit_card  not_defined  voucher  diff_approved  diff_carrier  diff_customer  diff_estimate  diff_est_del  customer_capital  customer_region_centro_oeste  customer_region_nordeste  customer_region_norte  customer_region_sudeste  customer_region_sul  product_category_name_bebes  product_category_name_beleza_saude  product_category_name_brinquedos  product_category_name_cama_mesa_banho  product_category_name_consoles_games  product_category_name_construcao_ferramentas_construcao  product_category_name_cool_stuff  product_category_name_eletrodomesticos  product_category_name_eletronicos  product_category_name_eletroportateis  product_category_name_esporte_lazer  product_category_name_fashion_bolsas_e_acessorios  product_category_name_ferramentas_jardim  product_category_name_informatica_acessorios  product_category_name_instrumentos_musicais  product_category_name_livros_interesse_geral  product_category_name_malas_acessorios  product_category_name_moveis_decoracao  product_category_name_moveis_escritorio  product_category_name_no info  product_category_name_papelaria  product_category_name_perfumaria  product_category_name_pet_shop  product_category_name_relogios_presentes  product_category_name_telefonia  product_category_name_utilidades_domesticas\n",
       "0           1.0   29.99           8.72                 40.0                       268.0                 4.0     0.0          1.0         0.0          0.0      2.0       0.007431      2.373924       8.436574      15.544063      7.107488                 1                             0                         0                      0                        1                    0                            0                                   0                                 0                                      0                                     0                                                  0                                       0                                       0                                  0                                      0                                    0                                                  0                                         0                                             0                                            0                                             0                                       0                                       0                                        0                              0                                0                                 0                               0                                         0                                0                                            1\n",
       "1           1.0  118.70          22.76                 29.0                       178.0                 1.0     1.0          0.0         0.0          0.0      0.0       1.279745      1.742627      13.782037      19.137766      5.355729                 0                             0                         1                      0                        0                    0                            0                                   0                                 0                                      0                                     0                                                  0                                       0                                       0                                  0                                      0                                    0                                                  0                                         0                                             0                                            0                                             0                                       0                                       0                                        0                              0                                0                                 1                               0                                         0                                0                                            0\n",
       "2           1.0  159.90          19.22                 46.0                       232.0                 1.0     0.0          3.0         0.0          0.0      0.0       0.011505      0.216100       9.394213      26.639711     17.245498                 0                             1                         0                      0                        0                    0                            0                                   0                                 0                                      0                                     0                                                  0                                       0                                       0                                  0                                      0                                    0                                                  0                                         0                                             0                                            0                                             0                                       0                                       0                                        0                              0                                0                                 0                               0                                         0                                0                                            0\n",
       "3           1.0   45.00          27.20                 59.0                       468.0                 3.0     0.0          1.0         0.0          0.0      0.0       0.012419      3.758252      13.208750      26.188819     12.980069                 0                             0                         1                      0                        0                    0                            0                                   0                                 0                                      0                                     0                                                  0                                       0                                       0                                  0                                      0                                    0                                                  0                                         0                                             0                                            0                                             0                                       0                                       0                                        0                              0                                0                                 0                               1                                         0                                0                                            0\n",
       "4           1.0   19.90           8.72                 38.0                       316.0                 4.0     0.0          1.0         0.0          0.0      0.0       0.042940      0.936053       2.873877      12.112049      9.238171                 0                             0                         0                      0                        1                    0                            0                                   0                                 0                                      0                                     0                                                  0                                       0                                       0                                  0                                      0                                    0                                                  0                                         0                                             0                                            0                                             0                                       0                                       0                                        0                              0                                1                                 0                               0                                         0                                0                                            0"
      ]
     },
     "execution_count": 26,
     "metadata": {},
     "output_type": "execute_result"
    }
   ],
   "source": [
    "# creating two labels to satisfaction\n",
    "\n",
    "df.loc[df['review_score'] < 3, 'review_score'] = 0\n",
    "df.loc[df['review_score'] > 3, 'review_score'] = 1\n",
    "\n",
    "df.head()"
   ]
  },
  {
   "cell_type": "code",
   "execution_count": 27,
   "metadata": {},
   "outputs": [
    {
     "data": {
      "text/plain": [
       "1.0    72679\n",
       "0.0    13090\n",
       "Name: review_score, dtype: int64"
      ]
     },
     "execution_count": 27,
     "metadata": {},
     "output_type": "execute_result"
    }
   ],
   "source": [
    "df['review_score'].value_counts()"
   ]
  },
  {
   "cell_type": "code",
   "execution_count": 28,
   "metadata": {},
   "outputs": [
    {
     "name": "stdout",
     "output_type": "stream",
     "text": [
      "<class 'pandas.core.frame.DataFrame'>\n",
      "Int64Index: 85769 entries, 0 to 92308\n",
      "Data columns (total 48 columns):\n",
      " #   Column                                                   Non-Null Count  Dtype  \n",
      "---  ------                                                   --------------  -----  \n",
      " 0   review_score                                             85769 non-null  float64\n",
      " 1   price                                                    85769 non-null  float64\n",
      " 2   freight_value                                            85769 non-null  float64\n",
      " 3   product_name_lenght                                      85769 non-null  float64\n",
      " 4   product_description_lenght                               85769 non-null  float64\n",
      " 5   product_photos_qty                                       85769 non-null  float64\n",
      " 6   boleto                                                   85769 non-null  float64\n",
      " 7   credit_card                                              85769 non-null  float64\n",
      " 8   debit_card                                               85769 non-null  float64\n",
      " 9   not_defined                                              85769 non-null  float64\n",
      " 10  voucher                                                  85769 non-null  float64\n",
      " 11  diff_approved                                            85769 non-null  float64\n",
      " 12  diff_carrier                                             85769 non-null  float64\n",
      " 13  diff_customer                                            85769 non-null  float64\n",
      " 14  diff_estimate                                            85769 non-null  float64\n",
      " 15  diff_est_del                                             85769 non-null  float64\n",
      " 16  customer_capital                                         85769 non-null  int64  \n",
      " 17  customer_region_centro_oeste                             85769 non-null  uint8  \n",
      " 18  customer_region_nordeste                                 85769 non-null  uint8  \n",
      " 19  customer_region_norte                                    85769 non-null  uint8  \n",
      " 20  customer_region_sudeste                                  85769 non-null  uint8  \n",
      " 21  customer_region_sul                                      85769 non-null  uint8  \n",
      " 22  product_category_name_bebes                              85769 non-null  uint8  \n",
      " 23  product_category_name_beleza_saude                       85769 non-null  uint8  \n",
      " 24  product_category_name_brinquedos                         85769 non-null  uint8  \n",
      " 25  product_category_name_cama_mesa_banho                    85769 non-null  uint8  \n",
      " 26  product_category_name_consoles_games                     85769 non-null  uint8  \n",
      " 27  product_category_name_construcao_ferramentas_construcao  85769 non-null  uint8  \n",
      " 28  product_category_name_cool_stuff                         85769 non-null  uint8  \n",
      " 29  product_category_name_eletrodomesticos                   85769 non-null  uint8  \n",
      " 30  product_category_name_eletronicos                        85769 non-null  uint8  \n",
      " 31  product_category_name_eletroportateis                    85769 non-null  uint8  \n",
      " 32  product_category_name_esporte_lazer                      85769 non-null  uint8  \n",
      " 33  product_category_name_fashion_bolsas_e_acessorios        85769 non-null  uint8  \n",
      " 34  product_category_name_ferramentas_jardim                 85769 non-null  uint8  \n",
      " 35  product_category_name_informatica_acessorios             85769 non-null  uint8  \n",
      " 36  product_category_name_instrumentos_musicais              85769 non-null  uint8  \n",
      " 37  product_category_name_livros_interesse_geral             85769 non-null  uint8  \n",
      " 38  product_category_name_malas_acessorios                   85769 non-null  uint8  \n",
      " 39  product_category_name_moveis_decoracao                   85769 non-null  uint8  \n",
      " 40  product_category_name_moveis_escritorio                  85769 non-null  uint8  \n",
      " 41  product_category_name_no info                            85769 non-null  uint8  \n",
      " 42  product_category_name_papelaria                          85769 non-null  uint8  \n",
      " 43  product_category_name_perfumaria                         85769 non-null  uint8  \n",
      " 44  product_category_name_pet_shop                           85769 non-null  uint8  \n",
      " 45  product_category_name_relogios_presentes                 85769 non-null  uint8  \n",
      " 46  product_category_name_telefonia                          85769 non-null  uint8  \n",
      " 47  product_category_name_utilidades_domesticas              85769 non-null  uint8  \n",
      "dtypes: float64(16), int64(1), uint8(31)\n",
      "memory usage: 14.3 MB\n"
     ]
    }
   ],
   "source": [
    "df.info()"
   ]
  },
  {
   "cell_type": "markdown",
   "metadata": {},
   "source": [
    "## Building the models"
   ]
  },
  {
   "cell_type": "markdown",
   "metadata": {},
   "source": [
    "### Training test split"
   ]
  },
  {
   "cell_type": "code",
   "execution_count": 29,
   "metadata": {},
   "outputs": [],
   "source": [
    "#create features and labels\n",
    "X = df.drop(\"review_score\",axis = 1)\n",
    "y = df[\"review_score\"]"
   ]
  },
  {
   "cell_type": "code",
   "execution_count": 30,
   "metadata": {},
   "outputs": [],
   "source": [
    "# split dataset\n",
    "\n",
    "X_train, X_test, y_train, y_test = train_test_split(X, y, test_size = 0.2)"
   ]
  },
  {
   "cell_type": "markdown",
   "metadata": {},
   "source": [
    "### Resample"
   ]
  },
  {
   "cell_type": "code",
   "execution_count": 31,
   "metadata": {},
   "outputs": [
    {
     "data": {
      "text/plain": [
       "<matplotlib.axes._subplots.AxesSubplot at 0x2a34a8652c8>"
      ]
     },
     "execution_count": 31,
     "metadata": {},
     "output_type": "execute_result"
    },
    {
     "data": {
      "image/png": "[encoded data removed]",
      "text/plain": [
       "<Figure size 921.6x633.6 with 1 Axes>"
      ]
     },
     "metadata": {},
     "output_type": "display_data"
    }
   ],
   "source": [
    "sns.countplot(y_train)"
   ]
  },
  {
   "cell_type": "code",
   "execution_count": 32,
   "metadata": {},
   "outputs": [
    {
     "data": {
      "text/plain": [
       "<matplotlib.axes._subplots.AxesSubplot at 0x2a3426a7bc8>"
      ]
     },
     "execution_count": 32,
     "metadata": {},
     "output_type": "execute_result"
    },
    {
     "data": {
      "image/png": "[encoded data removed]",
      "text/plain": [
       "<Figure size 921.6x633.6 with 1 Axes>"
      ]
     },
     "metadata": {},
     "output_type": "display_data"
    }
   ],
   "source": [
    "#oversample rebalanced data\n",
    "\n",
    "sm = SMOTE()\n",
    "X_train, y_train = sm.fit_resample(X_train, y_train)\n",
    "\n",
    "sns.countplot(y_train)"
   ]
  },
  {
   "cell_type": "markdown",
   "metadata": {},
   "source": [
    "### Feature Scaling"
   ]
  },
  {
   "cell_type": "code",
   "execution_count": 33,
   "metadata": {},
   "outputs": [
    {
     "name": "stderr",
     "output_type": "stream",
     "text": [
      "C:\\Users\\Fabio\\anaconda3\\lib\\site-packages\\pandas\\core\\indexing.py:965: SettingWithCopyWarning: \n",
      "A value is trying to be set on a copy of a slice from a DataFrame.\n",
      "Try using .loc[row_indexer,col_indexer] = value instead\n",
      "\n",
      "See the caveats in the documentation: https://pandas.pydata.org/pandas-docs/stable/user_guide/indexing.html#returning-a-view-versus-a-copy\n",
      "  self.obj[item] = s\n"
     ]
    }
   ],
   "source": [
    "sc = StandardScaler()\n",
    "X_train.iloc[:,0:15] = sc.fit_transform(X_train.iloc[:,0:15])\n",
    "X_test.iloc[:,0:15] = sc.fit_transform(X_test.iloc[:,0:15])"
   ]
  },
  {
   "cell_type": "code",
   "execution_count": 34,
   "metadata": {},
   "outputs": [
    {
     "data": {
      "text/html": [
       "<div>\n",
       "<style scoped>\n",
       "    .dataframe tbody tr th:only-of-type {\n",
       "        vertical-align: middle;\n",
       "    }\n",
       "\n",
       "    .dataframe tbody tr th {\n",
       "        vertical-align: top;\n",
       "    }\n",
       "\n",
       "    .dataframe thead th {\n",
       "        text-align: right;\n",
       "    }\n",
       "</style>\n",
       "<table border=\"1\" class=\"dataframe\">\n",
       "  <thead>\n",
       "    <tr style=\"text-align: right;\">\n",
       "      <th></th>\n",
       "      <th>price</th>\n",
       "      <th>freight_value</th>\n",
       "      <th>product_name_lenght</th>\n",
       "      <th>product_description_lenght</th>\n",
       "      <th>product_photos_qty</th>\n",
       "      <th>boleto</th>\n",
       "      <th>credit_card</th>\n",
       "      <th>debit_card</th>\n",
       "      <th>not_defined</th>\n",
       "      <th>voucher</th>\n",
       "      <th>diff_approved</th>\n",
       "      <th>diff_carrier</th>\n",
       "      <th>diff_customer</th>\n",
       "      <th>diff_estimate</th>\n",
       "      <th>diff_est_del</th>\n",
       "      <th>customer_capital</th>\n",
       "      <th>customer_region_centro_oeste</th>\n",
       "      <th>customer_region_nordeste</th>\n",
       "      <th>customer_region_norte</th>\n",
       "      <th>customer_region_sudeste</th>\n",
       "      <th>customer_region_sul</th>\n",
       "      <th>product_category_name_bebes</th>\n",
       "      <th>product_category_name_beleza_saude</th>\n",
       "      <th>product_category_name_brinquedos</th>\n",
       "      <th>product_category_name_cama_mesa_banho</th>\n",
       "      <th>product_category_name_consoles_games</th>\n",
       "      <th>product_category_name_construcao_ferramentas_construcao</th>\n",
       "      <th>product_category_name_cool_stuff</th>\n",
       "      <th>product_category_name_eletrodomesticos</th>\n",
       "      <th>product_category_name_eletronicos</th>\n",
       "      <th>product_category_name_eletroportateis</th>\n",
       "      <th>product_category_name_esporte_lazer</th>\n",
       "      <th>product_category_name_fashion_bolsas_e_acessorios</th>\n",
       "      <th>product_category_name_ferramentas_jardim</th>\n",
       "      <th>product_category_name_informatica_acessorios</th>\n",
       "      <th>product_category_name_instrumentos_musicais</th>\n",
       "      <th>product_category_name_livros_interesse_geral</th>\n",
       "      <th>product_category_name_malas_acessorios</th>\n",
       "      <th>product_category_name_moveis_decoracao</th>\n",
       "      <th>product_category_name_moveis_escritorio</th>\n",
       "      <th>product_category_name_no info</th>\n",
       "      <th>product_category_name_papelaria</th>\n",
       "      <th>product_category_name_perfumaria</th>\n",
       "      <th>product_category_name_pet_shop</th>\n",
       "      <th>product_category_name_relogios_presentes</th>\n",
       "      <th>product_category_name_telefonia</th>\n",
       "      <th>product_category_name_utilidades_domesticas</th>\n",
       "    </tr>\n",
       "  </thead>\n",
       "  <tbody>\n",
       "    <tr>\n",
       "      <th>0</th>\n",
       "      <td>-0.393128</td>\n",
       "      <td>-0.366137</td>\n",
       "      <td>0.850080</td>\n",
       "      <td>-0.008569</td>\n",
       "      <td>1.750407</td>\n",
       "      <td>2.196004</td>\n",
       "      <td>-1.009638</td>\n",
       "      <td>-0.130469</td>\n",
       "      <td>0.0</td>\n",
       "      <td>-0.153069</td>\n",
       "      <td>0.376525</td>\n",
       "      <td>-0.348677</td>\n",
       "      <td>-0.458216</td>\n",
       "      <td>1.406224</td>\n",
       "      <td>1.404076</td>\n",
       "      <td>0</td>\n",
       "      <td>0</td>\n",
       "      <td>0</td>\n",
       "      <td>0</td>\n",
       "      <td>1</td>\n",
       "      <td>0</td>\n",
       "      <td>0</td>\n",
       "      <td>0</td>\n",
       "      <td>1</td>\n",
       "      <td>0</td>\n",
       "      <td>0</td>\n",
       "      <td>0</td>\n",
       "      <td>0</td>\n",
       "      <td>0</td>\n",
       "      <td>0</td>\n",
       "      <td>0</td>\n",
       "      <td>0</td>\n",
       "      <td>0</td>\n",
       "      <td>0</td>\n",
       "      <td>0</td>\n",
       "      <td>0</td>\n",
       "      <td>0</td>\n",
       "      <td>0</td>\n",
       "      <td>0</td>\n",
       "      <td>0</td>\n",
       "      <td>0</td>\n",
       "      <td>0</td>\n",
       "      <td>0</td>\n",
       "      <td>0</td>\n",
       "      <td>0</td>\n",
       "      <td>0</td>\n",
       "      <td>0</td>\n",
       "    </tr>\n",
       "    <tr>\n",
       "      <th>1</th>\n",
       "      <td>-0.119081</td>\n",
       "      <td>0.082998</td>\n",
       "      <td>0.850080</td>\n",
       "      <td>-0.880707</td>\n",
       "      <td>-0.696049</td>\n",
       "      <td>-0.523613</td>\n",
       "      <td>2.503014</td>\n",
       "      <td>-0.130469</td>\n",
       "      <td>0.0</td>\n",
       "      <td>-0.153069</td>\n",
       "      <td>-0.522413</td>\n",
       "      <td>-0.056837</td>\n",
       "      <td>0.779686</td>\n",
       "      <td>-0.455306</td>\n",
       "      <td>-1.074010</td>\n",
       "      <td>0</td>\n",
       "      <td>0</td>\n",
       "      <td>0</td>\n",
       "      <td>0</td>\n",
       "      <td>1</td>\n",
       "      <td>0</td>\n",
       "      <td>0</td>\n",
       "      <td>0</td>\n",
       "      <td>0</td>\n",
       "      <td>1</td>\n",
       "      <td>0</td>\n",
       "      <td>0</td>\n",
       "      <td>0</td>\n",
       "      <td>0</td>\n",
       "      <td>0</td>\n",
       "      <td>0</td>\n",
       "      <td>0</td>\n",
       "      <td>0</td>\n",
       "      <td>0</td>\n",
       "      <td>0</td>\n",
       "      <td>0</td>\n",
       "      <td>0</td>\n",
       "      <td>0</td>\n",
       "      <td>0</td>\n",
       "      <td>0</td>\n",
       "      <td>0</td>\n",
       "      <td>0</td>\n",
       "      <td>0</td>\n",
       "      <td>0</td>\n",
       "      <td>0</td>\n",
       "      <td>0</td>\n",
       "      <td>0</td>\n",
       "    </tr>\n",
       "    <tr>\n",
       "      <th>2</th>\n",
       "      <td>-0.220749</td>\n",
       "      <td>0.136588</td>\n",
       "      <td>0.498729</td>\n",
       "      <td>-0.793649</td>\n",
       "      <td>-0.696049</td>\n",
       "      <td>-0.523613</td>\n",
       "      <td>1.449218</td>\n",
       "      <td>-0.130469</td>\n",
       "      <td>0.0</td>\n",
       "      <td>-0.153069</td>\n",
       "      <td>-0.523257</td>\n",
       "      <td>-0.716989</td>\n",
       "      <td>-0.037582</td>\n",
       "      <td>1.218479</td>\n",
       "      <td>0.863950</td>\n",
       "      <td>0</td>\n",
       "      <td>0</td>\n",
       "      <td>1</td>\n",
       "      <td>0</td>\n",
       "      <td>0</td>\n",
       "      <td>0</td>\n",
       "      <td>0</td>\n",
       "      <td>0</td>\n",
       "      <td>0</td>\n",
       "      <td>1</td>\n",
       "      <td>0</td>\n",
       "      <td>0</td>\n",
       "      <td>0</td>\n",
       "      <td>0</td>\n",
       "      <td>0</td>\n",
       "      <td>0</td>\n",
       "      <td>0</td>\n",
       "      <td>0</td>\n",
       "      <td>0</td>\n",
       "      <td>0</td>\n",
       "      <td>0</td>\n",
       "      <td>0</td>\n",
       "      <td>0</td>\n",
       "      <td>0</td>\n",
       "      <td>0</td>\n",
       "      <td>0</td>\n",
       "      <td>0</td>\n",
       "      <td>0</td>\n",
       "      <td>0</td>\n",
       "      <td>0</td>\n",
       "      <td>0</td>\n",
       "      <td>0</td>\n",
       "    </tr>\n",
       "    <tr>\n",
       "      <th>3</th>\n",
       "      <td>0.054263</td>\n",
       "      <td>-0.181379</td>\n",
       "      <td>-1.170186</td>\n",
       "      <td>-0.375458</td>\n",
       "      <td>-0.084435</td>\n",
       "      <td>-0.523613</td>\n",
       "      <td>-1.009638</td>\n",
       "      <td>-0.130469</td>\n",
       "      <td>0.0</td>\n",
       "      <td>2.428013</td>\n",
       "      <td>0.255819</td>\n",
       "      <td>-0.493891</td>\n",
       "      <td>-0.570439</td>\n",
       "      <td>0.025122</td>\n",
       "      <td>0.576716</td>\n",
       "      <td>0</td>\n",
       "      <td>0</td>\n",
       "      <td>0</td>\n",
       "      <td>0</td>\n",
       "      <td>1</td>\n",
       "      <td>0</td>\n",
       "      <td>0</td>\n",
       "      <td>0</td>\n",
       "      <td>0</td>\n",
       "      <td>0</td>\n",
       "      <td>0</td>\n",
       "      <td>0</td>\n",
       "      <td>0</td>\n",
       "      <td>0</td>\n",
       "      <td>0</td>\n",
       "      <td>0</td>\n",
       "      <td>0</td>\n",
       "      <td>0</td>\n",
       "      <td>0</td>\n",
       "      <td>0</td>\n",
       "      <td>0</td>\n",
       "      <td>0</td>\n",
       "      <td>0</td>\n",
       "      <td>0</td>\n",
       "      <td>0</td>\n",
       "      <td>0</td>\n",
       "      <td>0</td>\n",
       "      <td>0</td>\n",
       "      <td>0</td>\n",
       "      <td>1</td>\n",
       "      <td>0</td>\n",
       "      <td>0</td>\n",
       "    </tr>\n",
       "    <tr>\n",
       "      <th>4</th>\n",
       "      <td>0.236758</td>\n",
       "      <td>-0.494243</td>\n",
       "      <td>0.762242</td>\n",
       "      <td>-0.397222</td>\n",
       "      <td>-0.696049</td>\n",
       "      <td>-0.523613</td>\n",
       "      <td>2.503014</td>\n",
       "      <td>-0.130469</td>\n",
       "      <td>0.0</td>\n",
       "      <td>-0.153069</td>\n",
       "      <td>-0.464184</td>\n",
       "      <td>-0.337120</td>\n",
       "      <td>-0.420582</td>\n",
       "      <td>-0.800380</td>\n",
       "      <td>-0.130644</td>\n",
       "      <td>0</td>\n",
       "      <td>0</td>\n",
       "      <td>0</td>\n",
       "      <td>0</td>\n",
       "      <td>1</td>\n",
       "      <td>0</td>\n",
       "      <td>0</td>\n",
       "      <td>0</td>\n",
       "      <td>0</td>\n",
       "      <td>0</td>\n",
       "      <td>0</td>\n",
       "      <td>0</td>\n",
       "      <td>0</td>\n",
       "      <td>0</td>\n",
       "      <td>0</td>\n",
       "      <td>0</td>\n",
       "      <td>0</td>\n",
       "      <td>0</td>\n",
       "      <td>0</td>\n",
       "      <td>0</td>\n",
       "      <td>0</td>\n",
       "      <td>0</td>\n",
       "      <td>0</td>\n",
       "      <td>0</td>\n",
       "      <td>0</td>\n",
       "      <td>0</td>\n",
       "      <td>0</td>\n",
       "      <td>0</td>\n",
       "      <td>0</td>\n",
       "      <td>1</td>\n",
       "      <td>0</td>\n",
       "      <td>0</td>\n",
       "    </tr>\n",
       "    <tr>\n",
       "      <th>...</th>\n",
       "      <td>...</td>\n",
       "      <td>...</td>\n",
       "      <td>...</td>\n",
       "      <td>...</td>\n",
       "      <td>...</td>\n",
       "      <td>...</td>\n",
       "      <td>...</td>\n",
       "      <td>...</td>\n",
       "      <td>...</td>\n",
       "      <td>...</td>\n",
       "      <td>...</td>\n",
       "      <td>...</td>\n",
       "      <td>...</td>\n",
       "      <td>...</td>\n",
       "      <td>...</td>\n",
       "      <td>...</td>\n",
       "      <td>...</td>\n",
       "      <td>...</td>\n",
       "      <td>...</td>\n",
       "      <td>...</td>\n",
       "      <td>...</td>\n",
       "      <td>...</td>\n",
       "      <td>...</td>\n",
       "      <td>...</td>\n",
       "      <td>...</td>\n",
       "      <td>...</td>\n",
       "      <td>...</td>\n",
       "      <td>...</td>\n",
       "      <td>...</td>\n",
       "      <td>...</td>\n",
       "      <td>...</td>\n",
       "      <td>...</td>\n",
       "      <td>...</td>\n",
       "      <td>...</td>\n",
       "      <td>...</td>\n",
       "      <td>...</td>\n",
       "      <td>...</td>\n",
       "      <td>...</td>\n",
       "      <td>...</td>\n",
       "      <td>...</td>\n",
       "      <td>...</td>\n",
       "      <td>...</td>\n",
       "      <td>...</td>\n",
       "      <td>...</td>\n",
       "      <td>...</td>\n",
       "      <td>...</td>\n",
       "      <td>...</td>\n",
       "    </tr>\n",
       "    <tr>\n",
       "      <th>116381</th>\n",
       "      <td>1.609356</td>\n",
       "      <td>0.795826</td>\n",
       "      <td>1.051382</td>\n",
       "      <td>-0.026274</td>\n",
       "      <td>0.862726</td>\n",
       "      <td>-0.523613</td>\n",
       "      <td>1.184965</td>\n",
       "      <td>-0.130469</td>\n",
       "      <td>0.0</td>\n",
       "      <td>-0.153069</td>\n",
       "      <td>0.525382</td>\n",
       "      <td>-0.281840</td>\n",
       "      <td>0.010074</td>\n",
       "      <td>1.281533</td>\n",
       "      <td>0.859993</td>\n",
       "      <td>0</td>\n",
       "      <td>0</td>\n",
       "      <td>0</td>\n",
       "      <td>0</td>\n",
       "      <td>0</td>\n",
       "      <td>0</td>\n",
       "      <td>0</td>\n",
       "      <td>0</td>\n",
       "      <td>0</td>\n",
       "      <td>0</td>\n",
       "      <td>0</td>\n",
       "      <td>0</td>\n",
       "      <td>0</td>\n",
       "      <td>0</td>\n",
       "      <td>0</td>\n",
       "      <td>0</td>\n",
       "      <td>0</td>\n",
       "      <td>0</td>\n",
       "      <td>0</td>\n",
       "      <td>0</td>\n",
       "      <td>0</td>\n",
       "      <td>0</td>\n",
       "      <td>0</td>\n",
       "      <td>0</td>\n",
       "      <td>0</td>\n",
       "      <td>0</td>\n",
       "      <td>0</td>\n",
       "      <td>0</td>\n",
       "      <td>0</td>\n",
       "      <td>0</td>\n",
       "      <td>0</td>\n",
       "      <td>0</td>\n",
       "    </tr>\n",
       "    <tr>\n",
       "      <th>116382</th>\n",
       "      <td>0.183257</td>\n",
       "      <td>-0.134586</td>\n",
       "      <td>0.411313</td>\n",
       "      <td>-0.534154</td>\n",
       "      <td>0.373542</td>\n",
       "      <td>-0.523613</td>\n",
       "      <td>-0.365371</td>\n",
       "      <td>-0.130469</td>\n",
       "      <td>0.0</td>\n",
       "      <td>1.351530</td>\n",
       "      <td>0.179587</td>\n",
       "      <td>0.175378</td>\n",
       "      <td>-0.264849</td>\n",
       "      <td>0.300986</td>\n",
       "      <td>0.464149</td>\n",
       "      <td>0</td>\n",
       "      <td>0</td>\n",
       "      <td>0</td>\n",
       "      <td>0</td>\n",
       "      <td>1</td>\n",
       "      <td>0</td>\n",
       "      <td>0</td>\n",
       "      <td>0</td>\n",
       "      <td>0</td>\n",
       "      <td>0</td>\n",
       "      <td>0</td>\n",
       "      <td>0</td>\n",
       "      <td>0</td>\n",
       "      <td>0</td>\n",
       "      <td>0</td>\n",
       "      <td>0</td>\n",
       "      <td>0</td>\n",
       "      <td>0</td>\n",
       "      <td>0</td>\n",
       "      <td>0</td>\n",
       "      <td>0</td>\n",
       "      <td>0</td>\n",
       "      <td>0</td>\n",
       "      <td>0</td>\n",
       "      <td>0</td>\n",
       "      <td>0</td>\n",
       "      <td>0</td>\n",
       "      <td>0</td>\n",
       "      <td>0</td>\n",
       "      <td>0</td>\n",
       "      <td>0</td>\n",
       "      <td>0</td>\n",
       "    </tr>\n",
       "    <tr>\n",
       "      <th>116383</th>\n",
       "      <td>-0.530329</td>\n",
       "      <td>-0.365824</td>\n",
       "      <td>0.876062</td>\n",
       "      <td>-0.914909</td>\n",
       "      <td>-0.084435</td>\n",
       "      <td>2.196004</td>\n",
       "      <td>-1.009638</td>\n",
       "      <td>-0.130469</td>\n",
       "      <td>0.0</td>\n",
       "      <td>-0.153069</td>\n",
       "      <td>1.600115</td>\n",
       "      <td>-0.225592</td>\n",
       "      <td>-0.338286</td>\n",
       "      <td>0.348309</td>\n",
       "      <td>0.568321</td>\n",
       "      <td>0</td>\n",
       "      <td>0</td>\n",
       "      <td>0</td>\n",
       "      <td>0</td>\n",
       "      <td>0</td>\n",
       "      <td>0</td>\n",
       "      <td>0</td>\n",
       "      <td>0</td>\n",
       "      <td>0</td>\n",
       "      <td>0</td>\n",
       "      <td>0</td>\n",
       "      <td>0</td>\n",
       "      <td>0</td>\n",
       "      <td>0</td>\n",
       "      <td>0</td>\n",
       "      <td>0</td>\n",
       "      <td>0</td>\n",
       "      <td>0</td>\n",
       "      <td>0</td>\n",
       "      <td>0</td>\n",
       "      <td>0</td>\n",
       "      <td>0</td>\n",
       "      <td>0</td>\n",
       "      <td>0</td>\n",
       "      <td>0</td>\n",
       "      <td>0</td>\n",
       "      <td>0</td>\n",
       "      <td>0</td>\n",
       "      <td>0</td>\n",
       "      <td>1</td>\n",
       "      <td>0</td>\n",
       "      <td>0</td>\n",
       "    </tr>\n",
       "    <tr>\n",
       "      <th>116384</th>\n",
       "      <td>-0.536651</td>\n",
       "      <td>-0.263249</td>\n",
       "      <td>0.323054</td>\n",
       "      <td>-0.084328</td>\n",
       "      <td>-0.181393</td>\n",
       "      <td>-0.523613</td>\n",
       "      <td>-0.362793</td>\n",
       "      <td>-0.130469</td>\n",
       "      <td>0.0</td>\n",
       "      <td>-0.153069</td>\n",
       "      <td>-0.527151</td>\n",
       "      <td>3.321273</td>\n",
       "      <td>0.863140</td>\n",
       "      <td>-0.251309</td>\n",
       "      <td>-1.017419</td>\n",
       "      <td>0</td>\n",
       "      <td>0</td>\n",
       "      <td>0</td>\n",
       "      <td>0</td>\n",
       "      <td>0</td>\n",
       "      <td>0</td>\n",
       "      <td>0</td>\n",
       "      <td>0</td>\n",
       "      <td>0</td>\n",
       "      <td>0</td>\n",
       "      <td>0</td>\n",
       "      <td>0</td>\n",
       "      <td>0</td>\n",
       "      <td>0</td>\n",
       "      <td>0</td>\n",
       "      <td>0</td>\n",
       "      <td>0</td>\n",
       "      <td>0</td>\n",
       "      <td>0</td>\n",
       "      <td>0</td>\n",
       "      <td>0</td>\n",
       "      <td>0</td>\n",
       "      <td>0</td>\n",
       "      <td>0</td>\n",
       "      <td>0</td>\n",
       "      <td>0</td>\n",
       "      <td>0</td>\n",
       "      <td>0</td>\n",
       "      <td>0</td>\n",
       "      <td>0</td>\n",
       "      <td>0</td>\n",
       "      <td>0</td>\n",
       "    </tr>\n",
       "    <tr>\n",
       "      <th>116385</th>\n",
       "      <td>-0.220503</td>\n",
       "      <td>-0.333367</td>\n",
       "      <td>0.663330</td>\n",
       "      <td>0.145899</td>\n",
       "      <td>1.441945</td>\n",
       "      <td>-0.180710</td>\n",
       "      <td>-0.088711</td>\n",
       "      <td>-0.130469</td>\n",
       "      <td>0.0</td>\n",
       "      <td>-0.153069</td>\n",
       "      <td>-0.259972</td>\n",
       "      <td>-0.536021</td>\n",
       "      <td>2.954371</td>\n",
       "      <td>0.243153</td>\n",
       "      <td>-2.733517</td>\n",
       "      <td>0</td>\n",
       "      <td>0</td>\n",
       "      <td>0</td>\n",
       "      <td>0</td>\n",
       "      <td>0</td>\n",
       "      <td>0</td>\n",
       "      <td>0</td>\n",
       "      <td>0</td>\n",
       "      <td>0</td>\n",
       "      <td>0</td>\n",
       "      <td>0</td>\n",
       "      <td>0</td>\n",
       "      <td>0</td>\n",
       "      <td>0</td>\n",
       "      <td>0</td>\n",
       "      <td>0</td>\n",
       "      <td>0</td>\n",
       "      <td>0</td>\n",
       "      <td>0</td>\n",
       "      <td>0</td>\n",
       "      <td>0</td>\n",
       "      <td>0</td>\n",
       "      <td>0</td>\n",
       "      <td>0</td>\n",
       "      <td>0</td>\n",
       "      <td>0</td>\n",
       "      <td>0</td>\n",
       "      <td>0</td>\n",
       "      <td>0</td>\n",
       "      <td>0</td>\n",
       "      <td>0</td>\n",
       "      <td>0</td>\n",
       "    </tr>\n",
       "  </tbody>\n",
       "</table>\n",
       "<p>116386 rows × 47 columns</p>\n",
       "</div>"
      ],
      "text/plain": [
       "           price  freight_value  product_name_lenght  product_description_lenght  product_photos_qty    boleto  credit_card  debit_card  not_defined   voucher  diff_approved  diff_carrier  diff_customer  diff_estimate  diff_est_del  customer_capital  customer_region_centro_oeste  customer_region_nordeste  customer_region_norte  customer_region_sudeste  customer_region_sul  product_category_name_bebes  product_category_name_beleza_saude  product_category_name_brinquedos  product_category_name_cama_mesa_banho  product_category_name_consoles_games  product_category_name_construcao_ferramentas_construcao  product_category_name_cool_stuff  product_category_name_eletrodomesticos  product_category_name_eletronicos  product_category_name_eletroportateis  product_category_name_esporte_lazer  product_category_name_fashion_bolsas_e_acessorios  product_category_name_ferramentas_jardim  product_category_name_informatica_acessorios  product_category_name_instrumentos_musicais  product_category_name_livros_interesse_geral  product_category_name_malas_acessorios  product_category_name_moveis_decoracao  product_category_name_moveis_escritorio  product_category_name_no info  product_category_name_papelaria  product_category_name_perfumaria  product_category_name_pet_shop  product_category_name_relogios_presentes  product_category_name_telefonia  product_category_name_utilidades_domesticas\n",
       "0      -0.393128      -0.366137             0.850080                   -0.008569            1.750407  2.196004    -1.009638   -0.130469          0.0 -0.153069       0.376525     -0.348677      -0.458216       1.406224      1.404076                 0                             0                         0                      0                        1                    0                            0                                   0                                 1                                      0                                     0                                                  0                                       0                                       0                                  0                                      0                                    0                                                  0                                         0                                             0                                            0                                             0                                       0                                       0                                        0                              0                                0                                 0                               0                                         0                                0                                            0\n",
       "1      -0.119081       0.082998             0.850080                   -0.880707           -0.696049 -0.523613     2.503014   -0.130469          0.0 -0.153069      -0.522413     -0.056837       0.779686      -0.455306     -1.074010                 0                             0                         0                      0                        1                    0                            0                                   0                                 0                                      1                                     0                                                  0                                       0                                       0                                  0                                      0                                    0                                                  0                                         0                                             0                                            0                                             0                                       0                                       0                                        0                              0                                0                                 0                               0                                         0                                0                                            0\n",
       "2      -0.220749       0.136588             0.498729                   -0.793649           -0.696049 -0.523613     1.449218   -0.130469          0.0 -0.153069      -0.523257     -0.716989      -0.037582       1.218479      0.863950                 0                             0                         1                      0                        0                    0                            0                                   0                                 0                                      1                                     0                                                  0                                       0                                       0                                  0                                      0                                    0                                                  0                                         0                                             0                                            0                                             0                                       0                                       0                                        0                              0                                0                                 0                               0                                         0                                0                                            0\n",
       "3       0.054263      -0.181379            -1.170186                   -0.375458           -0.084435 -0.523613    -1.009638   -0.130469          0.0  2.428013       0.255819     -0.493891      -0.570439       0.025122      0.576716                 0                             0                         0                      0                        1                    0                            0                                   0                                 0                                      0                                     0                                                  0                                       0                                       0                                  0                                      0                                    0                                                  0                                         0                                             0                                            0                                             0                                       0                                       0                                        0                              0                                0                                 0                               0                                         1                                0                                            0\n",
       "4       0.236758      -0.494243             0.762242                   -0.397222           -0.696049 -0.523613     2.503014   -0.130469          0.0 -0.153069      -0.464184     -0.337120      -0.420582      -0.800380     -0.130644                 0                             0                         0                      0                        1                    0                            0                                   0                                 0                                      0                                     0                                                  0                                       0                                       0                                  0                                      0                                    0                                                  0                                         0                                             0                                            0                                             0                                       0                                       0                                        0                              0                                0                                 0                               0                                         1                                0                                            0\n",
       "...          ...            ...                  ...                         ...                 ...       ...          ...         ...          ...       ...            ...           ...            ...            ...           ...               ...                           ...                       ...                    ...                      ...                  ...                          ...                                 ...                               ...                                    ...                                   ...                                                ...                                     ...                                     ...                                ...                                    ...                                  ...                                                ...                                       ...                                           ...                                          ...                                           ...                                     ...                                     ...                                      ...                            ...                              ...                               ...                             ...                                       ...                              ...                                          ...\n",
       "116381  1.609356       0.795826             1.051382                   -0.026274            0.862726 -0.523613     1.184965   -0.130469          0.0 -0.153069       0.525382     -0.281840       0.010074       1.281533      0.859993                 0                             0                         0                      0                        0                    0                            0                                   0                                 0                                      0                                     0                                                  0                                       0                                       0                                  0                                      0                                    0                                                  0                                         0                                             0                                            0                                             0                                       0                                       0                                        0                              0                                0                                 0                               0                                         0                                0                                            0\n",
       "116382  0.183257      -0.134586             0.411313                   -0.534154            0.373542 -0.523613    -0.365371   -0.130469          0.0  1.351530       0.179587      0.175378      -0.264849       0.300986      0.464149                 0                             0                         0                      0                        1                    0                            0                                   0                                 0                                      0                                     0                                                  0                                       0                                       0                                  0                                      0                                    0                                                  0                                         0                                             0                                            0                                             0                                       0                                       0                                        0                              0                                0                                 0                               0                                         0                                0                                            0\n",
       "116383 -0.530329      -0.365824             0.876062                   -0.914909           -0.084435  2.196004    -1.009638   -0.130469          0.0 -0.153069       1.600115     -0.225592      -0.338286       0.348309      0.568321                 0                             0                         0                      0                        0                    0                            0                                   0                                 0                                      0                                     0                                                  0                                       0                                       0                                  0                                      0                                    0                                                  0                                         0                                             0                                            0                                             0                                       0                                       0                                        0                              0                                0                                 0                               0                                         1                                0                                            0\n",
       "116384 -0.536651      -0.263249             0.323054                   -0.084328           -0.181393 -0.523613    -0.362793   -0.130469          0.0 -0.153069      -0.527151      3.321273       0.863140      -0.251309     -1.017419                 0                             0                         0                      0                        0                    0                            0                                   0                                 0                                      0                                     0                                                  0                                       0                                       0                                  0                                      0                                    0                                                  0                                         0                                             0                                            0                                             0                                       0                                       0                                        0                              0                                0                                 0                               0                                         0                                0                                            0\n",
       "116385 -0.220503      -0.333367             0.663330                    0.145899            1.441945 -0.180710    -0.088711   -0.130469          0.0 -0.153069      -0.259972     -0.536021       2.954371       0.243153     -2.733517                 0                             0                         0                      0                        0                    0                            0                                   0                                 0                                      0                                     0                                                  0                                       0                                       0                                  0                                      0                                    0                                                  0                                         0                                             0                                            0                                             0                                       0                                       0                                        0                              0                                0                                 0                               0                                         0                                0                                            0\n",
       "\n",
       "[116386 rows x 47 columns]"
      ]
     },
     "execution_count": 34,
     "metadata": {},
     "output_type": "execute_result"
    }
   ],
   "source": [
    "X_train"
   ]
  },
  {
   "cell_type": "markdown",
   "metadata": {},
   "source": [
    "# Models"
   ]
  },
  {
   "cell_type": "markdown",
   "metadata": {},
   "source": [
    "## Dummy classifier"
   ]
  },
  {
   "cell_type": "code",
   "execution_count": 35,
   "metadata": {},
   "outputs": [],
   "source": [
    "#create the classifier\n",
    "dummy_clf = DummyClassifier(strategy = 'uniform', random_state = 0)\n",
    "\n",
    "#training\n",
    "dummy_clf.fit(X_train, y_train)\n",
    "\n",
    "#predict\n",
    "dummy_pred = dummy_clf.predict(X_test)"
   ]
  },
  {
   "cell_type": "code",
   "execution_count": 36,
   "metadata": {},
   "outputs": [
    {
     "data": {
      "text/plain": [
       "0.5040806808907543"
      ]
     },
     "execution_count": 36,
     "metadata": {},
     "output_type": "execute_result"
    }
   ],
   "source": [
    "# Accuracy\n",
    "accuracy_score(y_test, dummy_pred)"
   ]
  },
  {
   "cell_type": "code",
   "execution_count": 37,
   "metadata": {},
   "outputs": [
    {
     "data": {
      "image/png": "[encoded data removed]",
      "text/plain": [
       "<Figure size 576x576 with 1 Axes>"
      ]
     },
     "metadata": {},
     "output_type": "display_data"
    }
   ],
   "source": [
    "#Confusion Matrix\n",
    "cm = confusion_matrix(y_test, dummy_pred)\n",
    "\n",
    "fig, ax = plt.subplots(figsize=(8, 8))\n",
    "ax.imshow(cm)\n",
    "ax.grid(False)\n",
    "ax.xaxis.set(ticks=(0, 1), ticklabels=('Predicted 0s', 'Predicted 1s'))\n",
    "ax.yaxis.set(ticks=(0, 1), ticklabels=('Actual 0s', 'Actual 1s'))\n",
    "ax.set_ylim(1.5, -0.5)\n",
    "for i in range(2):\n",
    "    for j in range(2):\n",
    "        ax.text(j, i, cm[i, j], ha='center', va='center', color='red')\n",
    "plt.show()"
   ]
  },
  {
   "cell_type": "code",
   "execution_count": 38,
   "metadata": {},
   "outputs": [
    {
     "name": "stdout",
     "output_type": "stream",
     "text": [
      "Dummy: ROC AUC=0.500\n"
     ]
    }
   ],
   "source": [
    "# - AUC\n",
    "\n",
    "dummy_probs = dummy_clf.predict_proba(X_test)\n",
    "\n",
    "dummy_probs = dummy_probs[:, 1]\n",
    "\n",
    "dummy_auc = roc_auc_score(y_test, dummy_probs)\n",
    "\n",
    "print('Dummy: ROC AUC=%.3f' % (dummy_auc))"
   ]
  },
  {
   "cell_type": "markdown",
   "metadata": {},
   "source": [
    "## Logistic Regression"
   ]
  },
  {
   "cell_type": "markdown",
   "metadata": {},
   "source": [
    "### Training"
   ]
  },
  {
   "cell_type": "code",
   "execution_count": 39,
   "metadata": {},
   "outputs": [
    {
     "name": "stdout",
     "output_type": "stream",
     "text": [
      "Wall time: 2.05 s\n"
     ]
    },
    {
     "name": "stderr",
     "output_type": "stream",
     "text": [
      "C:\\Users\\Fabio\\anaconda3\\lib\\site-packages\\sklearn\\linear_model\\_logistic.py:764: ConvergenceWarning: lbfgs failed to converge (status=1):\n",
      "STOP: TOTAL NO. of ITERATIONS REACHED LIMIT.\n",
      "\n",
      "Increase the number of iterations (max_iter) or scale the data as shown in:\n",
      "    https://scikit-learn.org/stable/modules/preprocessing.html\n",
      "Please also refer to the documentation for alternative solver options:\n",
      "    https://scikit-learn.org/stable/modules/linear_model.html#logistic-regression\n",
      "  extra_warning_msg=_LOGISTIC_SOLVER_CONVERGENCE_MSG)\n"
     ]
    },
    {
     "data": {
      "text/plain": [
       "LogisticRegression()"
      ]
     },
     "execution_count": 39,
     "metadata": {},
     "output_type": "execute_result"
    }
   ],
   "source": [
    "%%time\n",
    "logreg = LogisticRegression()\n",
    "logreg.fit(X_train, y_train)\n"
   ]
  },
  {
   "cell_type": "code",
   "execution_count": 40,
   "metadata": {},
   "outputs": [
    {
     "name": "stdout",
     "output_type": "stream",
     "text": [
      "Logistic Training Accuracy = 0.838\n",
      "Logistic Training AUC = 0.897\n"
     ]
    }
   ],
   "source": [
    "#Metrics\n",
    "logpred_train = logreg.predict(X_train)\n",
    "\n",
    "#ACC\n",
    "acc_train = accuracy_score(y_train, logpred_train)\n",
    "\n",
    "#AUC\n",
    "train_proba = logreg.predict_proba(X_train)\n",
    "train_proba = train_proba[:, 1]\n",
    "\n",
    "train_auc = roc_auc_score(y_train, train_proba)\n",
    "\n",
    "print('Logistic Training Accuracy = %.3f' % (acc_train))\n",
    "print('Logistic Training AUC = %.3f' % (train_auc))"
   ]
  },
  {
   "cell_type": "markdown",
   "metadata": {},
   "source": [
    "###  Prediction on Test"
   ]
  },
  {
   "cell_type": "code",
   "execution_count": 41,
   "metadata": {},
   "outputs": [],
   "source": [
    "logreg_pred = logreg.predict(X_test)"
   ]
  },
  {
   "cell_type": "code",
   "execution_count": 42,
   "metadata": {},
   "outputs": [
    {
     "name": "stdout",
     "output_type": "stream",
     "text": [
      "Logistic Test: ACCURACY = 0.790\n",
      "Logistic Test: ROC AUC = 0.674\n"
     ]
    }
   ],
   "source": [
    "## Metrics on test\n",
    "\n",
    "#ACCURACY\n",
    "logreg_acc = accuracy_score(y_test, logreg_pred)\n",
    "\n",
    "# AUC\n",
    "logreg_prob = logreg.predict_proba(X_test)\n",
    "logreg_prob = logreg_prob[:, 1]\n",
    "logreg_auc = roc_auc_score(y_test, logreg_prob)\n",
    "\n",
    "print('Logistic Test: ACCURACY = %.3f' % (logreg_acc))\n",
    "print('Logistic Test: ROC AUC = %.3f' % (logreg_auc))"
   ]
  },
  {
   "cell_type": "code",
   "execution_count": 43,
   "metadata": {},
   "outputs": [
    {
     "data": {
      "image/png": "[encoded data removed]",
      "text/plain": [
       "<Figure size 576x576 with 1 Axes>"
      ]
     },
     "metadata": {},
     "output_type": "display_data"
    }
   ],
   "source": [
    "#confusion matrix\n",
    "cm = confusion_matrix(y_test, logreg_pred)\n",
    "\n",
    "fig, ax = plt.subplots(figsize=(8, 8))\n",
    "ax.imshow(cm)\n",
    "ax.grid(False)\n",
    "ax.xaxis.set(ticks=(0, 1), ticklabels=('Predicted 0s', 'Predicted 1s'))\n",
    "ax.yaxis.set(ticks=(0, 1), ticklabels=('Actual 0s', 'Actual 1s'))\n",
    "ax.set_ylim(1.5, -0.5)\n",
    "for i in range(2):\n",
    "    for j in range(2):\n",
    "        ax.text(j, i, cm[i, j], ha='center', va='center', color='red')\n",
    "plt.show()"
   ]
  },
  {
   "cell_type": "code",
   "execution_count": 44,
   "metadata": {},
   "outputs": [
    {
     "data": {
      "text/plain": [
       "Text(0.5, 0, 'False Positive Rate')"
      ]
     },
     "execution_count": 44,
     "metadata": {},
     "output_type": "execute_result"
    },
    {
     "data": {
      "image/png": "[encoded data removed]",
      "text/plain": [
       "<Figure size 921.6x633.6 with 1 Axes>"
      ]
     },
     "metadata": {},
     "output_type": "display_data"
    }
   ],
   "source": [
    "# AUC plot\n",
    "lr_fpr, lr_tpr, threshold = roc_curve(y_test, logreg_prob)\n",
    "lr_roc_auc = metrics.auc(lr_fpr, lr_tpr)\n",
    "\n",
    "# method I: plt\n",
    "plt.title('Receiver Operating Characteristic')\n",
    "plt.plot(lr_fpr, lr_tpr, 'b', label = 'Logistic AUC = %0.2f' % lr_roc_auc)\n",
    "plt.legend(loc = 'lower right')\n",
    "plt.plot([0, 1], [0, 1],'r--')\n",
    "plt.xlim([0, 1])\n",
    "plt.ylim([0, 1])\n",
    "plt.ylabel('True Positive Rate')\n",
    "plt.xlabel('False Positive Rate')"
   ]
  },
  {
   "cell_type": "code",
   "execution_count": 45,
   "metadata": {},
   "outputs": [
    {
     "data": {
      "text/html": [
       "<div>\n",
       "<style scoped>\n",
       "    .dataframe tbody tr th:only-of-type {\n",
       "        vertical-align: middle;\n",
       "    }\n",
       "\n",
       "    .dataframe tbody tr th {\n",
       "        vertical-align: top;\n",
       "    }\n",
       "\n",
       "    .dataframe thead th {\n",
       "        text-align: right;\n",
       "    }\n",
       "</style>\n",
       "<table border=\"1\" class=\"dataframe\">\n",
       "  <thead>\n",
       "    <tr style=\"text-align: right;\">\n",
       "      <th></th>\n",
       "      <th>model</th>\n",
       "      <th>Train Accuracy</th>\n",
       "      <th>Train AUC</th>\n",
       "      <th>Test Accuracy</th>\n",
       "      <th>Test AUC</th>\n",
       "      <th>AUC_diff</th>\n",
       "    </tr>\n",
       "  </thead>\n",
       "  <tbody>\n",
       "    <tr>\n",
       "      <th>0</th>\n",
       "      <td>Logistic Regression</td>\n",
       "      <td>0.838133</td>\n",
       "      <td>0.897128</td>\n",
       "      <td>0.78967</td>\n",
       "      <td>0.67381</td>\n",
       "      <td>0.223318</td>\n",
       "    </tr>\n",
       "  </tbody>\n",
       "</table>\n",
       "</div>"
      ],
      "text/plain": [
       "                 model  Train Accuracy  Train AUC  Test Accuracy  Test AUC  AUC_diff\n",
       "0  Logistic Regression        0.838133   0.897128        0.78967   0.67381  0.223318"
      ]
     },
     "execution_count": 45,
     "metadata": {},
     "output_type": "execute_result"
    }
   ],
   "source": [
    "# build the models dataframe\n",
    "d = {'model': ['Logistic Regression'], 'Train Accuracy': [acc_train], 'Train AUC': [train_auc],\n",
    "     'Test Accuracy': [logreg_acc], 'Test AUC': [logreg_auc], 'AUC_diff': [train_auc - logreg_auc]\n",
    "    \n",
    "    }\n",
    "\n",
    "df_models = pd.DataFrame(data = d)\n",
    "df_models.head()"
   ]
  },
  {
   "cell_type": "markdown",
   "metadata": {},
   "source": [
    "## Random Forest"
   ]
  },
  {
   "cell_type": "markdown",
   "metadata": {},
   "source": [
    "### Training"
   ]
  },
  {
   "cell_type": "code",
   "execution_count": 46,
   "metadata": {},
   "outputs": [],
   "source": [
    "rf = RandomForestClassifier()\n",
    "rf.fit(X_train, y_train)\n",
    "\n",
    "#predict on training\n",
    "rf_pred_train = rf.predict(X_train)"
   ]
  },
  {
   "cell_type": "code",
   "execution_count": 47,
   "metadata": {},
   "outputs": [
    {
     "name": "stdout",
     "output_type": "stream",
     "text": [
      "Random Forest Training Accuracy = 1.000\n",
      "Random Forest Training AUC = 1.000\n"
     ]
    }
   ],
   "source": [
    "## Metrics\n",
    "\n",
    "# ACCURACY\n",
    "rf_train_acc = accuracy_score(y_train, rf_pred_train)\n",
    "\n",
    "# AUC\n",
    "rf_train_prob = rf.predict_proba(X_train)\n",
    "rf_train_prob = rf_train_prob[:, 1]\n",
    "rf_train_auc = roc_auc_score(y_train, rf_train_prob)\n",
    "\n",
    "print('Random Forest Training Accuracy = %.3f' % (rf_train_acc))\n",
    "print('Random Forest Training AUC = %.3f' % (rf_train_auc))"
   ]
  },
  {
   "cell_type": "markdown",
   "metadata": {},
   "source": [
    "### Test"
   ]
  },
  {
   "cell_type": "code",
   "execution_count": 48,
   "metadata": {},
   "outputs": [],
   "source": [
    "#predict on test\n",
    "rf_pred = rf.predict(X_test)"
   ]
  },
  {
   "cell_type": "code",
   "execution_count": 49,
   "metadata": {},
   "outputs": [
    {
     "name": "stdout",
     "output_type": "stream",
     "text": [
      "Random Forest Test Accuracy = 0.176\n",
      "Random Forest Test AUC = 0.636\n"
     ]
    }
   ],
   "source": [
    "## Metrics\n",
    "\n",
    "# ACCURACY\n",
    "rf_acc = accuracy_score(y_test, rf_pred)\n",
    "\n",
    "# AUC\n",
    "\n",
    "rf_prob = rf.predict_proba(X_test)\n",
    "rf_prob = rf_prob[:, 1]\n",
    "rf_auc = roc_auc_score(y_test, rf_prob)\n",
    "\n",
    "print('Random Forest Test Accuracy = %.3f' % (rf_acc))\n",
    "print('Random Forest Test AUC = %.3f' % (rf_auc))"
   ]
  },
  {
   "cell_type": "code",
   "execution_count": 50,
   "metadata": {},
   "outputs": [
    {
     "data": {
      "image/png": "[encoded data removed]",
      "text/plain": [
       "<Figure size 576x576 with 1 Axes>"
      ]
     },
     "metadata": {},
     "output_type": "display_data"
    }
   ],
   "source": [
    "#confusion matrix\n",
    "cm = confusion_matrix(y_test, rf_pred)\n",
    "\n",
    "fig, ax = plt.subplots(figsize=(8, 8))\n",
    "ax.imshow(cm)\n",
    "ax.grid(False)\n",
    "ax.xaxis.set(ticks=(0, 1), ticklabels=('Predicted 0s', 'Predicted 1s'))\n",
    "ax.yaxis.set(ticks=(0, 1), ticklabels=('Actual 0s', 'Actual 1s'))\n",
    "ax.set_ylim(1.5, -0.5)\n",
    "for i in range(2):\n",
    "    for j in range(2):\n",
    "        ax.text(j, i, cm[i, j], ha='center', va='center', color='red')\n",
    "plt.show()"
   ]
  },
  {
   "cell_type": "code",
   "execution_count": 51,
   "metadata": {},
   "outputs": [
    {
     "data": {
      "text/plain": [
       "Text(0.5, 0, 'False Positive Rate')"
      ]
     },
     "execution_count": 51,
     "metadata": {},
     "output_type": "execute_result"
    },
    {
     "data": {
      "image/png": "[encoded data removed]",
      "text/plain": [
       "<Figure size 921.6x633.6 with 1 Axes>"
      ]
     },
     "metadata": {},
     "output_type": "display_data"
    }
   ],
   "source": [
    "## AUC plot\n",
    "rf_fpr, rf_tpr, threshold = roc_curve(y_test, rf_prob)\n",
    "rf_roc_auc = metrics.auc(rf_fpr, rf_tpr)\n",
    "\n",
    "# method I: plt\n",
    "plt.title('Receiver Operating Characteristic')\n",
    "plt.plot(rf_fpr, rf_tpr, label = 'Random Forest AUC = %0.2f' % rf_roc_auc)\n",
    "plt.plot(lr_fpr, lr_tpr, label = 'Logistic Regression AUC = %0.2f' % lr_roc_auc)\n",
    "plt.legend(loc = 'lower right')\n",
    "plt.plot([0, 1], [0, 1],'r--')\n",
    "plt.xlim([0, 1])\n",
    "plt.ylim([0, 1])\n",
    "plt.ylabel('True Positive Rate')\n",
    "plt.xlabel('False Positive Rate')"
   ]
  },
  {
   "cell_type": "code",
   "execution_count": 52,
   "metadata": {},
   "outputs": [
    {
     "data": {
      "text/html": [
       "<div>\n",
       "<style scoped>\n",
       "    .dataframe tbody tr th:only-of-type {\n",
       "        vertical-align: middle;\n",
       "    }\n",
       "\n",
       "    .dataframe tbody tr th {\n",
       "        vertical-align: top;\n",
       "    }\n",
       "\n",
       "    .dataframe thead th {\n",
       "        text-align: right;\n",
       "    }\n",
       "</style>\n",
       "<table border=\"1\" class=\"dataframe\">\n",
       "  <thead>\n",
       "    <tr style=\"text-align: right;\">\n",
       "      <th></th>\n",
       "      <th>model</th>\n",
       "      <th>Train Accuracy</th>\n",
       "      <th>Train AUC</th>\n",
       "      <th>Test Accuracy</th>\n",
       "      <th>Test AUC</th>\n",
       "      <th>AUC_diff</th>\n",
       "    </tr>\n",
       "  </thead>\n",
       "  <tbody>\n",
       "    <tr>\n",
       "      <th>0</th>\n",
       "      <td>Logistic Regression</td>\n",
       "      <td>0.838133</td>\n",
       "      <td>0.897128</td>\n",
       "      <td>0.789670</td>\n",
       "      <td>0.673810</td>\n",
       "      <td>0.223318</td>\n",
       "    </tr>\n",
       "    <tr>\n",
       "      <th>1</th>\n",
       "      <td>Random Forest</td>\n",
       "      <td>0.999579</td>\n",
       "      <td>1.000000</td>\n",
       "      <td>0.175761</td>\n",
       "      <td>0.636324</td>\n",
       "      <td>0.363676</td>\n",
       "    </tr>\n",
       "  </tbody>\n",
       "</table>\n",
       "</div>"
      ],
      "text/plain": [
       "                 model  Train Accuracy  Train AUC  Test Accuracy  Test AUC  AUC_diff\n",
       "0  Logistic Regression        0.838133   0.897128       0.789670  0.673810  0.223318\n",
       "1        Random Forest        0.999579   1.000000       0.175761  0.636324  0.363676"
      ]
     },
     "execution_count": 52,
     "metadata": {},
     "output_type": "execute_result"
    }
   ],
   "source": [
    "# add model values in dataframe\n",
    "\n",
    "df_models.loc[1] = ['Random Forest', rf_train_acc, rf_train_auc,\n",
    "                    rf_acc, rf_auc, (rf_train_auc - rf_auc) ]\n",
    "\n",
    "df_models.head()"
   ]
  },
  {
   "cell_type": "markdown",
   "metadata": {},
   "source": [
    "## XGBOOST\n",
    "\n",
    "### Train"
   ]
  },
  {
   "cell_type": "code",
   "execution_count": 53,
   "metadata": {},
   "outputs": [
    {
     "name": "stdout",
     "output_type": "stream",
     "text": [
      "Wall time: 26.4 s\n"
     ]
    },
    {
     "data": {
      "text/plain": [
       "XGBClassifier(base_score=0.5, booster='gbtree', colsample_bylevel=1,\n",
       "              colsample_bynode=1, colsample_bytree=1, gamma=0, gpu_id=-1,\n",
       "              importance_type='gain', interaction_constraints='',\n",
       "              learning_rate=0.300000012, max_delta_step=0, max_depth=6,\n",
       "              min_child_weight=1, missing=nan, monotone_constraints='()',\n",
       "              n_estimators=100, n_jobs=0, num_parallel_tree=1, random_state=0,\n",
       "              reg_alpha=0, reg_lambda=1, scale_pos_weight=1, subsample=1,\n",
       "              tree_method='exact', validate_parameters=1, verbosity=None)"
      ]
     },
     "execution_count": 53,
     "metadata": {},
     "output_type": "execute_result"
    }
   ],
   "source": [
    "%%time\n",
    "xgbd = xgb.XGBClassifier()\n",
    "xgbd.fit(X_train, y_train)"
   ]
  },
  {
   "cell_type": "code",
   "execution_count": 54,
   "metadata": {},
   "outputs": [],
   "source": [
    "#predict\n",
    "xgbd_train_pred = xgbd.predict(X_train)"
   ]
  },
  {
   "cell_type": "code",
   "execution_count": 55,
   "metadata": {},
   "outputs": [
    {
     "name": "stdout",
     "output_type": "stream",
     "text": [
      "XGBoost Training Accuracy = 0.929\n",
      "XGBoost Training AUC = 0.973\n"
     ]
    }
   ],
   "source": [
    "## Metrics\n",
    "\n",
    "#ACCURACY\n",
    "xgbd_train_acc = accuracy_score(y_train, xgbd_train_pred)\n",
    "\n",
    "#AUC\n",
    "xgbd_train_prob = xgbd.predict_proba(X_train)\n",
    "xgbd_train_prob = xgbd_train_prob[:, 1]\n",
    "\n",
    "xgbd_train_auc = roc_auc_score(y_train, xgbd_train_prob)\n",
    "\n",
    "print('XGBoost Training Accuracy = %.3f' % (xgbd_train_acc))\n",
    "print('XGBoost Training AUC = %.3f' % (xgbd_train_auc))"
   ]
  },
  {
   "cell_type": "markdown",
   "metadata": {},
   "source": [
    "### Test"
   ]
  },
  {
   "cell_type": "code",
   "execution_count": 56,
   "metadata": {},
   "outputs": [],
   "source": [
    "#predict\n",
    "xgbd_pred = xgbd.predict(X_test)"
   ]
  },
  {
   "cell_type": "code",
   "execution_count": 57,
   "metadata": {},
   "outputs": [
    {
     "name": "stdout",
     "output_type": "stream",
     "text": [
      "XGBoost Test Accuracy = 0.156\n",
      "XGBoost Test AUC = 0.575\n"
     ]
    }
   ],
   "source": [
    "## Metrics\n",
    "\n",
    "#ACCURACY\n",
    "xgbd_acc = accuracy_score(y_test, xgbd_pred)\n",
    "\n",
    "#AUC\n",
    "xgbd_prob = xgbd.predict_proba(X_test)\n",
    "xgbd_prob = xgbd_prob[:, 1]\n",
    "\n",
    "xgbd_auc = roc_auc_score(y_test, xgbd_prob)\n",
    "\n",
    "print('XGBoost Test Accuracy = %.3f' % (xgbd_acc))\n",
    "print('XGBoost Test AUC = %.3f' % (xgbd_auc))"
   ]
  },
  {
   "cell_type": "code",
   "execution_count": 58,
   "metadata": {},
   "outputs": [
    {
     "data": {
      "image/png": "[encoded data removed]",
      "text/plain": [
       "<Figure size 576x576 with 1 Axes>"
      ]
     },
     "metadata": {},
     "output_type": "display_data"
    }
   ],
   "source": [
    "#confusion matrix\n",
    "cm = confusion_matrix(y_test, xgbd_pred)\n",
    "\n",
    "fig, ax = plt.subplots(figsize=(8, 8))\n",
    "ax.imshow(cm)\n",
    "ax.grid(False)\n",
    "ax.xaxis.set(ticks=(0, 1), ticklabels=('Predicted 0s', 'Predicted 1s'))\n",
    "ax.yaxis.set(ticks=(0, 1), ticklabels=('Actual 0s', 'Actual 1s'))\n",
    "ax.set_ylim(1.5, -0.5)\n",
    "for i in range(2):\n",
    "    for j in range(2):\n",
    "        ax.text(j, i, cm[i, j], ha='center', va='center', color='red')\n",
    "plt.show()"
   ]
  },
  {
   "cell_type": "code",
   "execution_count": 59,
   "metadata": {},
   "outputs": [
    {
     "data": {
      "text/plain": [
       "Text(0.5, 0, 'False Positive Rate')"
      ]
     },
     "execution_count": 59,
     "metadata": {},
     "output_type": "execute_result"
    },
    {
     "data": {
      "image/png": "[encoded data removed]",
      "text/plain": [
       "<Figure size 921.6x633.6 with 1 Axes>"
      ]
     },
     "metadata": {},
     "output_type": "display_data"
    }
   ],
   "source": [
    "## AUC plot\n",
    "xgbd_fpr, xgbd_tpr, threshold = roc_curve(y_test, xgbd_prob)\n",
    "xgbd_roc_auc = metrics.auc(xgbd_fpr, xgbd_tpr)\n",
    "\n",
    "# method I: plt\n",
    "plt.title('Receiver Operating Characteristic')\n",
    "plt.plot(xgbd_fpr, xgbd_tpr, 'b', label = 'XGBoost AUC = %0.2f' % xgbd_roc_auc)\n",
    "plt.plot(rf_fpr, rf_tpr, label = 'Random Forest AUC = %0.2f' % rf_roc_auc)\n",
    "plt.plot(lr_fpr, lr_tpr, label = 'Logistic Regression AUC = %0.2f' % lr_roc_auc)\n",
    "plt.legend(loc = 'lower right')\n",
    "plt.plot([0, 1], [0, 1],'r--')\n",
    "plt.xlim([0, 1])\n",
    "plt.ylim([0, 1])\n",
    "plt.ylabel('True Positive Rate')\n",
    "plt.xlabel('False Positive Rate')"
   ]
  },
  {
   "cell_type": "code",
   "execution_count": 60,
   "metadata": {},
   "outputs": [
    {
     "data": {
      "text/html": [
       "<div>\n",
       "<style scoped>\n",
       "    .dataframe tbody tr th:only-of-type {\n",
       "        vertical-align: middle;\n",
       "    }\n",
       "\n",
       "    .dataframe tbody tr th {\n",
       "        vertical-align: top;\n",
       "    }\n",
       "\n",
       "    .dataframe thead th {\n",
       "        text-align: right;\n",
       "    }\n",
       "</style>\n",
       "<table border=\"1\" class=\"dataframe\">\n",
       "  <thead>\n",
       "    <tr style=\"text-align: right;\">\n",
       "      <th></th>\n",
       "      <th>model</th>\n",
       "      <th>Train Accuracy</th>\n",
       "      <th>Train AUC</th>\n",
       "      <th>Test Accuracy</th>\n",
       "      <th>Test AUC</th>\n",
       "      <th>AUC_diff</th>\n",
       "    </tr>\n",
       "  </thead>\n",
       "  <tbody>\n",
       "    <tr>\n",
       "      <th>0</th>\n",
       "      <td>Logistic Regression</td>\n",
       "      <td>0.838133</td>\n",
       "      <td>0.897128</td>\n",
       "      <td>0.789670</td>\n",
       "      <td>0.673810</td>\n",
       "      <td>0.223318</td>\n",
       "    </tr>\n",
       "    <tr>\n",
       "      <th>1</th>\n",
       "      <td>Random Forest</td>\n",
       "      <td>0.999579</td>\n",
       "      <td>1.000000</td>\n",
       "      <td>0.175761</td>\n",
       "      <td>0.636324</td>\n",
       "      <td>0.363676</td>\n",
       "    </tr>\n",
       "    <tr>\n",
       "      <th>2</th>\n",
       "      <td>XGBoost</td>\n",
       "      <td>0.928995</td>\n",
       "      <td>0.973281</td>\n",
       "      <td>0.155532</td>\n",
       "      <td>0.574641</td>\n",
       "      <td>0.398640</td>\n",
       "    </tr>\n",
       "  </tbody>\n",
       "</table>\n",
       "</div>"
      ],
      "text/plain": [
       "                 model  Train Accuracy  Train AUC  Test Accuracy  Test AUC  AUC_diff\n",
       "0  Logistic Regression        0.838133   0.897128       0.789670  0.673810  0.223318\n",
       "1        Random Forest        0.999579   1.000000       0.175761  0.636324  0.363676\n",
       "2              XGBoost        0.928995   0.973281       0.155532  0.574641  0.398640"
      ]
     },
     "execution_count": 60,
     "metadata": {},
     "output_type": "execute_result"
    }
   ],
   "source": [
    "# add model values in dataframe\n",
    "\n",
    "df_models.loc[2] = ['XGBoost', xgbd_train_acc, xgbd_train_auc,\n",
    "                    xgbd_acc, xgbd_auc, (xgbd_train_auc - xgbd_auc) ]\n",
    "\n",
    "df_models.head()"
   ]
  },
  {
   "cell_type": "code",
   "execution_count": 61,
   "metadata": {},
   "outputs": [],
   "source": [
    "# save models df to csv\n",
    "df_models.to_csv('models.csv')"
   ]
  },
  {
   "cell_type": "markdown",
   "metadata": {},
   "source": [
    "## Tuning Hyperparameter"
   ]
  },
  {
   "cell_type": "markdown",
   "metadata": {},
   "source": [
    "## Logistic Regression"
   ]
  },
  {
   "cell_type": "code",
   "execution_count": 62,
   "metadata": {},
   "outputs": [
    {
     "data": {
      "text/plain": [
       "GridSearchCV(cv=RepeatedStratifiedKFold(n_repeats=2, n_splits=5, random_state=1),\n",
       "             error_score=0, estimator=LogisticRegression(), n_jobs=-1,\n",
       "             param_grid={'C': [0.001, 0.01, 0.1, 1, 10, 100, 1000],\n",
       "                         'fit_intercept': ['True'], 'max_iter': [5000],\n",
       "                         'penalty': ['l2'],\n",
       "                         'solver': ['newton-cg', 'lbfgs', 'liblinear']},\n",
       "             scoring='roc_auc')"
      ]
     },
     "execution_count": 62,
     "metadata": {},
     "output_type": "execute_result"
    }
   ],
   "source": [
    "# define models and parameters\n",
    "model = LogisticRegression()\n",
    "solvers = ['newton-cg', 'lbfgs', 'liblinear']\n",
    "penalty = ['l2']\n",
    "c_values = [0.001, 0.01, 0.1, 1, 10, 100, 1000]\n",
    "fit_intercept = ['True']\n",
    "max_iter = [5000]\n",
    "# define grid search\n",
    "grid = dict(solver=solvers, penalty=penalty, C=c_values, fit_intercept=fit_intercept, max_iter=max_iter)\n",
    "cv = RepeatedStratifiedKFold(n_splits=5, n_repeats=2, random_state=1)\n",
    "logreg = GridSearchCV(estimator=model, param_grid=grid, n_jobs=-1, cv=cv, scoring='roc_auc',error_score=0)\n",
    "logreg.fit(X_train, y_train)"
   ]
  },
  {
   "cell_type": "code",
   "execution_count": 63,
   "metadata": {},
   "outputs": [
    {
     "name": "stdout",
     "output_type": "stream",
     "text": [
      "Best: 0.896847 using {'C': 10, 'fit_intercept': 'True', 'max_iter': 5000, 'penalty': 'l2', 'solver': 'liblinear'}\n"
     ]
    }
   ],
   "source": [
    "print(\"Best: %f using %s\" % (logreg.best_score_, logreg.best_params_))"
   ]
  },
  {
   "cell_type": "markdown",
   "metadata": {},
   "source": [
    "### Train"
   ]
  },
  {
   "cell_type": "code",
   "execution_count": 64,
   "metadata": {},
   "outputs": [
    {
     "name": "stdout",
     "output_type": "stream",
     "text": [
      "Logistic Training Accuracy = 0.838\n",
      "Logistic Training AUC = 0.897\n"
     ]
    }
   ],
   "source": [
    "#Metrics\n",
    "logpred_train = logreg.predict(X_train)\n",
    "\n",
    "#ACC\n",
    "acc_train = accuracy_score(y_train, logpred_train)\n",
    "\n",
    "#AUC\n",
    "train_proba = logreg.predict_proba(X_train)\n",
    "train_proba = train_proba[:, 1]\n",
    "\n",
    "train_auc = roc_auc_score(y_train, train_proba)\n",
    "\n",
    "print('Logistic Training Accuracy = %.3f' % (acc_train))\n",
    "print('Logistic Training AUC = %.3f' % (train_auc))"
   ]
  },
  {
   "cell_type": "code",
   "execution_count": 65,
   "metadata": {},
   "outputs": [
    {
     "data": {
      "text/plain": [
       "0.8971329006589273"
      ]
     },
     "execution_count": 65,
     "metadata": {},
     "output_type": "execute_result"
    }
   ],
   "source": [
    "# - Prediction score on training\n",
    "logreg.score(X_train, y_train)"
   ]
  },
  {
   "cell_type": "markdown",
   "metadata": {},
   "source": [
    "### Test"
   ]
  },
  {
   "cell_type": "code",
   "execution_count": 66,
   "metadata": {},
   "outputs": [],
   "source": [
    "logreg_pred = logreg.predict(X_test)"
   ]
  },
  {
   "cell_type": "code",
   "execution_count": 67,
   "metadata": {},
   "outputs": [
    {
     "name": "stdout",
     "output_type": "stream",
     "text": [
      "Logistic Test: ACCURACY = 0.790\n",
      "Logistic Test: ROC AUC = 0.674\n"
     ]
    }
   ],
   "source": [
    "## Metrics on test\n",
    "\n",
    "#ACCURACY\n",
    "logreg_acc = accuracy_score(y_test, logreg_pred)\n",
    "\n",
    "# AUC\n",
    "logreg_prob = logreg.predict_proba(X_test)\n",
    "logreg_prob = logreg_prob[:, 1]\n",
    "logreg_auc = roc_auc_score(y_test, logreg_prob)\n",
    "\n",
    "print('Logistic Test: ACCURACY = %.3f' % (logreg_acc))\n",
    "print('Logistic Test: ROC AUC = %.3f' % (logreg_auc))"
   ]
  },
  {
   "cell_type": "code",
   "execution_count": 68,
   "metadata": {},
   "outputs": [
    {
     "data": {
      "text/plain": [
       "0.6737820298396984"
      ]
     },
     "execution_count": 68,
     "metadata": {},
     "output_type": "execute_result"
    }
   ],
   "source": [
    "# prediction score on test\n",
    "logreg.score(X_test, y_test)"
   ]
  },
  {
   "cell_type": "code",
   "execution_count": 69,
   "metadata": {},
   "outputs": [
    {
     "data": {
      "image/png": "[encoded data removed]",
      "text/plain": [
       "<Figure size 576x576 with 1 Axes>"
      ]
     },
     "metadata": {},
     "output_type": "display_data"
    }
   ],
   "source": [
    "cm = confusion_matrix(y_test, logreg_pred)\n",
    "\n",
    "fig, ax = plt.subplots(figsize=(8, 8))\n",
    "ax.imshow(cm)\n",
    "ax.grid(False)\n",
    "ax.xaxis.set(ticks=(0, 1), ticklabels=('Predicted 0s', 'Predicted 1s'))\n",
    "ax.yaxis.set(ticks=(0, 1), ticklabels=('Actual 0s', 'Actual 1s'))\n",
    "ax.set_ylim(1.5, -0.5)\n",
    "for i in range(2):\n",
    "    for j in range(2):\n",
    "        ax.text(j, i, cm[i, j], ha='center', va='center', color='red')\n",
    "plt.show()"
   ]
  },
  {
   "cell_type": "code",
   "execution_count": 136,
   "metadata": {},
   "outputs": [
    {
     "data": {
      "text/plain": [
       "Text(0.5, 0, 'False Positive Rate')"
      ]
     },
     "execution_count": 136,
     "metadata": {},
     "output_type": "execute_result"
    },
    {
     "data": {
      "image/png": "[encoded data removed]",
      "text/plain": [
       "<Figure size 921.6x633.6 with 1 Axes>"
      ]
     },
     "metadata": {},
     "output_type": "display_data"
    }
   ],
   "source": [
    "# AUC plot\n",
    "lr_fpr, lr_tpr, threshold = roc_curve(y_test, logreg_prob)\n",
    "lr_roc_auc = metrics.auc(lr_fpr, lr_tpr)\n",
    "\n",
    "# method I: plt\n",
    "plt.title('Receiver Operating Characteristic')\n",
    "plt.plot(lr_fpr, lr_tpr, 'b', label = 'Logistic AUC = %0.2f' % lr_roc_auc)\n",
    "plt.legend(loc = 'lower right')\n",
    "plt.plot([0, 1], [0, 1],'r--')\n",
    "plt.xlim([0, 1])\n",
    "plt.ylim([0, 1])\n",
    "plt.ylabel('True Positive Rate')\n",
    "plt.xlabel('False Positive Rate')"
   ]
  },
  {
   "cell_type": "markdown",
   "metadata": {},
   "source": [
    "## Random Forest"
   ]
  },
  {
   "cell_type": "markdown",
   "metadata": {},
   "source": [
    "### Train"
   ]
  },
  {
   "cell_type": "code",
   "execution_count": 78,
   "metadata": {},
   "outputs": [
    {
     "data": {
      "text/plain": [
       "GridSearchCV(cv=5, estimator=RandomForestClassifier(),\n",
       "             param_grid=[{'bootstrap': [True, False],\n",
       "                          'max_depth': [5, 10, 50, 100, None],\n",
       "                          'min_samples_split': [5, 10],\n",
       "                          'n_estimators': [100, 150, 200]}],\n",
       "             scoring='roc_auc')"
      ]
     },
     "execution_count": 78,
     "metadata": {},
     "output_type": "execute_result"
    }
   ],
   "source": [
    "model = RandomForestClassifier()\n",
    "\n",
    "param_grid = [\n",
    "{'n_estimators': [100, 150, 200], \n",
    " 'max_depth': [5, 10, 50, 100, None], 'bootstrap': [True, False],\n",
    " 'min_samples_split': [5, 10]}\n",
    "]\n",
    "\n",
    "grid_search_forest = GridSearchCV(estimator = model, param_grid = param_grid, cv=5, scoring='roc_auc')\n",
    "grid_search_forest.fit(X_train, y_train)"
   ]
  },
  {
   "cell_type": "code",
   "execution_count": 81,
   "metadata": {},
   "outputs": [
    {
     "data": {
      "text/plain": [
       "{'bootstrap': False,\n",
       " 'max_depth': 100,\n",
       " 'min_samples_split': 5,\n",
       " 'n_estimators': 200}"
      ]
     },
     "execution_count": 81,
     "metadata": {},
     "output_type": "execute_result"
    }
   ],
   "source": [
    "grid_search_forest.best_params_"
   ]
  },
  {
   "cell_type": "code",
   "execution_count": 79,
   "metadata": {},
   "outputs": [
    {
     "data": {
      "text/plain": [
       "0.9999996395904498"
      ]
     },
     "execution_count": 79,
     "metadata": {},
     "output_type": "execute_result"
    }
   ],
   "source": [
    "# - Prediction score on training\n",
    "grid_search_forest.score(X_train, y_train)"
   ]
  },
  {
   "cell_type": "markdown",
   "metadata": {},
   "source": [
    "### Test"
   ]
  },
  {
   "cell_type": "code",
   "execution_count": 80,
   "metadata": {},
   "outputs": [
    {
     "data": {
      "text/plain": [
       "0.6243491363527128"
      ]
     },
     "execution_count": 80,
     "metadata": {},
     "output_type": "execute_result"
    }
   ],
   "source": [
    "grid_search_forest.score(X_test, y_test)"
   ]
  },
  {
   "cell_type": "code",
   "execution_count": 131,
   "metadata": {},
   "outputs": [],
   "source": [
    "gsf = grid_search_forest.predict(X_test)"
   ]
  },
  {
   "cell_type": "code",
   "execution_count": 132,
   "metadata": {},
   "outputs": [
    {
     "name": "stdout",
     "output_type": "stream",
     "text": [
      "Random Forest Test Accuracy = 0.168\n",
      "Random Forest Test AUC = 0.624\n"
     ]
    }
   ],
   "source": [
    "## Metrics\n",
    "\n",
    "# ACCURACY\n",
    "gsf_acc = accuracy_score(y_test, gsf)\n",
    "\n",
    "# AUC\n",
    "\n",
    "gsf_prob = grid_search_forest.predict_proba(X_test)\n",
    "gsf_prob = gsf_prob[:, 1]\n",
    "gsf_auc = roc_auc_score(y_test, gsf_prob)\n",
    "\n",
    "print('Random Forest Test Accuracy = %.3f' % (gsf_acc))\n",
    "print('Random Forest Test AUC = %.3f' % (gsf_auc))"
   ]
  },
  {
   "cell_type": "code",
   "execution_count": 138,
   "metadata": {},
   "outputs": [
    {
     "data": {
      "text/plain": [
       "Text(0.5, 0, 'False Positive Rate')"
      ]
     },
     "execution_count": 138,
     "metadata": {},
     "output_type": "execute_result"
    },
    {
     "data": {
      "image/png": "[encoded data removed]",
      "text/plain": [
       "<Figure size 921.6x633.6 with 1 Axes>"
      ]
     },
     "metadata": {},
     "output_type": "display_data"
    }
   ],
   "source": [
    "## AUC plot\n",
    "rf_fpr, rf_tpr, threshold = roc_curve(y_test, gsf_prob)\n",
    "rf_roc_auc = metrics.auc(rf_fpr, rf_tpr)\n",
    "\n",
    "# method I: plt\n",
    "plt.title('Receiver Operating Characteristic')\n",
    "plt.plot(rf_fpr, rf_tpr, label = 'Random Forest AUC = %0.2f' % rf_roc_auc)\n",
    "plt.plot(lr_fpr, lr_tpr, label = 'Logistic Regression AUC = %0.2f' % lr_roc_auc)\n",
    "plt.legend(loc = 'lower right')\n",
    "plt.plot([0, 1], [0, 1],'r--')\n",
    "plt.xlim([0, 1])\n",
    "plt.ylim([0, 1])\n",
    "plt.ylabel('True Positive Rate')\n",
    "plt.xlabel('False Positive Rate')"
   ]
  },
  {
   "cell_type": "markdown",
   "metadata": {},
   "source": [
    "### XGBoost"
   ]
  },
  {
   "cell_type": "code",
   "execution_count": 83,
   "metadata": {},
   "outputs": [],
   "source": [
    "xgb1 = xgb.XGBClassifier(\n",
    " learning_rate =0.1,\n",
    " n_estimators=1000,\n",
    " max_depth=5,\n",
    " min_child_weight=1,\n",
    " gamma=0,\n",
    " subsample=0.8,\n",
    " colsample_bytree=0.8,\n",
    " objective= 'binary:logistic',\n",
    " nthread=4,\n",
    " scale_pos_weight=1)"
   ]
  },
  {
   "cell_type": "markdown",
   "metadata": {},
   "source": [
    "### Train"
   ]
  },
  {
   "cell_type": "code",
   "execution_count": 84,
   "metadata": {},
   "outputs": [
    {
     "data": {
      "text/plain": [
       "XGBClassifier(base_score=0.5, booster='gbtree', colsample_bylevel=1,\n",
       "              colsample_bynode=1, colsample_bytree=0.8, gamma=0, gpu_id=-1,\n",
       "              importance_type='gain', interaction_constraints='',\n",
       "              learning_rate=0.1, max_delta_step=0, max_depth=5,\n",
       "              min_child_weight=1, missing=nan, monotone_constraints='()',\n",
       "              n_estimators=1000, n_jobs=4, nthread=4, num_parallel_tree=1,\n",
       "              random_state=0, reg_alpha=0, reg_lambda=1, scale_pos_weight=1,\n",
       "              subsample=0.8, tree_method='exact', validate_parameters=1,\n",
       "              verbosity=None)"
      ]
     },
     "execution_count": 84,
     "metadata": {},
     "output_type": "execute_result"
    }
   ],
   "source": [
    "xgb1.fit(X_train, y_train)"
   ]
  },
  {
   "cell_type": "code",
   "execution_count": 85,
   "metadata": {},
   "outputs": [],
   "source": [
    "#predict\n",
    "xgb1_train_pred = xgb1.predict(X_train)"
   ]
  },
  {
   "cell_type": "code",
   "execution_count": 86,
   "metadata": {},
   "outputs": [
    {
     "name": "stdout",
     "output_type": "stream",
     "text": [
      "XGBoost Training Accuracy = 0.929\n",
      "XGBoost Training AUC = 0.987\n"
     ]
    }
   ],
   "source": [
    "## Metrics\n",
    "\n",
    "#ACCURACY\n",
    "xgb1_train_acc = accuracy_score(y_train, xgb1_train_pred)\n",
    "\n",
    "#AUC\n",
    "xgb1_train_prob = xgb1.predict_proba(X_train)\n",
    "xgb1_train_prob = xgb1_train_prob[:, 1]\n",
    "\n",
    "xgb1_train_auc = roc_auc_score(y_train, xgb1_train_prob)\n",
    "\n",
    "print('XGBoost Training Accuracy = %.3f' % (xgb1_train_acc))\n",
    "print('XGBoost Training AUC = %.3f' % (xgb1_train_auc))"
   ]
  },
  {
   "cell_type": "code",
   "execution_count": 87,
   "metadata": {},
   "outputs": [],
   "source": [
    "#predict\n",
    "xgb1_pred = xgb1.predict(X_test)"
   ]
  },
  {
   "cell_type": "code",
   "execution_count": 88,
   "metadata": {},
   "outputs": [
    {
     "name": "stdout",
     "output_type": "stream",
     "text": [
      "XGBoost Test Accuracy = 0.156\n",
      "XGBoost Test AUC = 0.626\n"
     ]
    }
   ],
   "source": [
    "## Metrics\n",
    "\n",
    "#ACCURACY\n",
    "xgb1_acc = accuracy_score(y_test, xgb1_pred)\n",
    "\n",
    "#AUC\n",
    "xgb1_prob = xgb1.predict_proba(X_test)\n",
    "xgb1_prob = xgb1_prob[:, 1]\n",
    "\n",
    "xgb1_auc = roc_auc_score(y_test, xgb1_prob)\n",
    "\n",
    "print('XGBoost Test Accuracy = %.3f' % (xgb1_acc))\n",
    "print('XGBoost Test AUC = %.3f' % (xgb1_auc))"
   ]
  },
  {
   "cell_type": "markdown",
   "metadata": {},
   "source": [
    "#### Tunning #2"
   ]
  },
  {
   "cell_type": "code",
   "execution_count": 95,
   "metadata": {},
   "outputs": [],
   "source": [
    "param_test1 = {\n",
    " 'max_depth':range(3,10,2),\n",
    " 'min_child_weight':range(1,6,2)\n",
    "}"
   ]
  },
  {
   "cell_type": "code",
   "execution_count": 96,
   "metadata": {},
   "outputs": [],
   "source": [
    "gsearch1 = GridSearchCV(estimator = xgb.XGBClassifier( learning_rate =0.1, n_estimators=140, \n",
    "                        gamma=0, subsample=0.8, colsample_bytree=0.8, objective= 'binary:logistic',\n",
    "                                                  nthread=4, scale_pos_weight=1), \n",
    " param_grid = param_test1, scoring='roc_auc',n_jobs=-1, cv=5)"
   ]
  },
  {
   "cell_type": "code",
   "execution_count": 97,
   "metadata": {},
   "outputs": [
    {
     "name": "stderr",
     "output_type": "stream",
     "text": [
      "C:\\Users\\Fabio\\anaconda3\\lib\\site-packages\\sklearn\\model_selection\\_search.py:849: FutureWarning: The parameter 'iid' is deprecated in 0.22 and will be removed in 0.24.\n",
      "  \"removed in 0.24.\", FutureWarning\n"
     ]
    },
    {
     "data": {
      "text/plain": [
       "GridSearchCV(cv=5,\n",
       "             estimator=XGBClassifier(base_score=None, booster=None,\n",
       "                                     colsample_bylevel=None,\n",
       "                                     colsample_bynode=None,\n",
       "                                     colsample_bytree=0.8, gamma=0, gpu_id=None,\n",
       "                                     importance_type='gain',\n",
       "                                     interaction_constraints=None,\n",
       "                                     learning_rate=0.1, max_delta_step=None,\n",
       "                                     max_depth=None, min_child_weight=None,\n",
       "                                     missing=nan, monotone_constraints=None,\n",
       "                                     n_estimators=140, n_jobs=None, nthread=4,\n",
       "                                     num_parallel_tree=None, random_state=None,\n",
       "                                     reg_alpha=None, reg_lambda=None,\n",
       "                                     scale_pos_weight=1, subsample=0.8,\n",
       "                                     tree_method=None, validate_parameters=None,\n",
       "                                     verbosity=None),\n",
       "             iid=False, n_jobs=-1,\n",
       "             param_grid={'max_depth': range(3, 10, 2),\n",
       "                         'min_child_weight': range(1, 6, 2)},\n",
       "             scoring='roc_auc')"
      ]
     },
     "execution_count": 97,
     "metadata": {},
     "output_type": "execute_result"
    }
   ],
   "source": [
    "gsearch1.fit(X_train, y_train)"
   ]
  },
  {
   "cell_type": "code",
   "execution_count": 99,
   "metadata": {},
   "outputs": [
    {
     "data": {
      "text/plain": [
       "0.9849689961368464"
      ]
     },
     "execution_count": 99,
     "metadata": {},
     "output_type": "execute_result"
    }
   ],
   "source": [
    "gsearch1.score(X_train, y_train)"
   ]
  },
  {
   "cell_type": "code",
   "execution_count": 100,
   "metadata": {},
   "outputs": [
    {
     "data": {
      "text/plain": [
       "0.6584397725891991"
      ]
     },
     "execution_count": 100,
     "metadata": {},
     "output_type": "execute_result"
    }
   ],
   "source": [
    "gsearch1.score(X_test, y_test)"
   ]
  },
  {
   "cell_type": "code",
   "execution_count": 101,
   "metadata": {},
   "outputs": [
    {
     "data": {
      "text/plain": [
       "{'max_depth': 9, 'min_child_weight': 1}"
      ]
     },
     "execution_count": 101,
     "metadata": {},
     "output_type": "execute_result"
    }
   ],
   "source": [
    "gsearch1.best_params_"
   ]
  },
  {
   "cell_type": "markdown",
   "metadata": {},
   "source": [
    "### Tuning #3    \n",
    "\n",
    "reg_alpha"
   ]
  },
  {
   "cell_type": "code",
   "execution_count": 102,
   "metadata": {},
   "outputs": [],
   "source": [
    "param_test2 = {\n",
    " 'reg_alpha':[1e-5, 1e-2, 0.1, 1, 100]\n",
    "}"
   ]
  },
  {
   "cell_type": "code",
   "execution_count": 104,
   "metadata": {},
   "outputs": [],
   "source": [
    "gsearch2 = GridSearchCV(estimator = xgb.XGBClassifier( learning_rate =0.1, n_estimators=140, \n",
    "                        gamma=0, subsample=0.8, colsample_bytree=0.8, objective= 'binary:logistic',\n",
    "                                                  nthread=4, scale_pos_weight=1,\n",
    "                                                    max_depth = 9, min_child_weight = 1), \n",
    " param_grid = param_test2, scoring='roc_auc',n_jobs=-1, cv=5)"
   ]
  },
  {
   "cell_type": "code",
   "execution_count": 105,
   "metadata": {},
   "outputs": [
    {
     "data": {
      "text/plain": [
       "GridSearchCV(cv=5,\n",
       "             estimator=XGBClassifier(base_score=None, booster=None,\n",
       "                                     colsample_bylevel=None,\n",
       "                                     colsample_bynode=None,\n",
       "                                     colsample_bytree=0.8, gamma=0, gpu_id=None,\n",
       "                                     importance_type='gain',\n",
       "                                     interaction_constraints=None,\n",
       "                                     learning_rate=0.1, max_delta_step=None,\n",
       "                                     max_depth=9, min_child_weight=1,\n",
       "                                     missing=nan, monotone_constraints=None,\n",
       "                                     n_estimators=140, n_jobs=None, nthread=4,\n",
       "                                     num_parallel_tree=None, random_state=None,\n",
       "                                     reg_alpha=None, reg_lambda=None,\n",
       "                                     scale_pos_weight=1, subsample=0.8,\n",
       "                                     tree_method=None, validate_parameters=None,\n",
       "                                     verbosity=None),\n",
       "             n_jobs=-1, param_grid={'reg_alpha': [1e-05, 0.01, 0.1, 1, 100]},\n",
       "             scoring='roc_auc')"
      ]
     },
     "execution_count": 105,
     "metadata": {},
     "output_type": "execute_result"
    }
   ],
   "source": [
    "gsearch2.fit(X_train, y_train)"
   ]
  },
  {
   "cell_type": "code",
   "execution_count": 106,
   "metadata": {},
   "outputs": [
    {
     "data": {
      "text/plain": [
       "0.9843107588110237"
      ]
     },
     "execution_count": 106,
     "metadata": {},
     "output_type": "execute_result"
    }
   ],
   "source": [
    "gsearch2.score(X_train, y_train)"
   ]
  },
  {
   "cell_type": "code",
   "execution_count": 107,
   "metadata": {},
   "outputs": [
    {
     "data": {
      "text/plain": [
       "0.6511474347045723"
      ]
     },
     "execution_count": 107,
     "metadata": {},
     "output_type": "execute_result"
    }
   ],
   "source": [
    "gsearch2.score(X_test, y_test)"
   ]
  },
  {
   "cell_type": "code",
   "execution_count": 111,
   "metadata": {},
   "outputs": [
    {
     "data": {
      "text/plain": [
       "({'reg_alpha': 0.01}, 0.9476914949566098)"
      ]
     },
     "execution_count": 111,
     "metadata": {},
     "output_type": "execute_result"
    }
   ],
   "source": [
    "gsearch2.best_params_, gsearch2.best_score_"
   ]
  },
  {
   "cell_type": "code",
   "execution_count": 112,
   "metadata": {},
   "outputs": [
    {
     "data": {
      "text/plain": [
       "{'mean_fit_time': array([147.40257134, 144.51745391, 144.01844654, 138.92019906,\n",
       "        112.20783596]),\n",
       " 'std_fit_time': array([ 3.32350315,  3.77039877,  2.34599054,  2.82854099, 36.15722523]),\n",
       " 'mean_score_time': array([0.45343685, 0.5048944 , 0.40127492, 0.52533293, 0.36064134]),\n",
       " 'std_score_time': array([0.05895877, 0.05439036, 0.05214636, 0.1275887 , 0.103275  ]),\n",
       " 'param_reg_alpha': masked_array(data=[1e-05, 0.01, 0.1, 1, 100],\n",
       "              mask=[False, False, False, False, False],\n",
       "        fill_value='?',\n",
       "             dtype=object),\n",
       " 'params': [{'reg_alpha': 1e-05},\n",
       "  {'reg_alpha': 0.01},\n",
       "  {'reg_alpha': 0.1},\n",
       "  {'reg_alpha': 1},\n",
       "  {'reg_alpha': 100}],\n",
       " 'split0_test_score': array([0.75023414, 0.75148919, 0.75138089, 0.7488955 , 0.71997141]),\n",
       " 'split1_test_score': array([0.99692546, 0.99695911, 0.99677901, 0.9968749 , 0.98720991]),\n",
       " 'split2_test_score': array([0.99659658, 0.99664874, 0.99673147, 0.99670438, 0.9879583 ]),\n",
       " 'split3_test_score': array([0.99656013, 0.99660771, 0.99630227, 0.99679453, 0.98642985]),\n",
       " 'split4_test_score': array([0.99665346, 0.99675272, 0.99683094, 0.99682355, 0.98719517]),\n",
       " 'mean_test_score': array([0.94739395, 0.94769149, 0.94760492, 0.94721857, 0.93375293]),\n",
       " 'std_test_score': array([0.09857999, 0.09810123, 0.09811219, 0.09916155, 0.10689185]),\n",
       " 'rank_test_score': array([3, 1, 2, 4, 5])}"
      ]
     },
     "execution_count": 112,
     "metadata": {},
     "output_type": "execute_result"
    }
   ],
   "source": [
    "gsearch2.cv_results_"
   ]
  },
  {
   "cell_type": "markdown",
   "metadata": {},
   "source": [
    "try again with values around 0.01"
   ]
  },
  {
   "cell_type": "code",
   "execution_count": 113,
   "metadata": {},
   "outputs": [],
   "source": [
    "param_test3 = {\n",
    "    'reg_alpha':[0, 0.001, 0.005, 0.01, 0.05]\n",
    "}"
   ]
  },
  {
   "cell_type": "code",
   "execution_count": 114,
   "metadata": {},
   "outputs": [],
   "source": [
    "gsearch3 = GridSearchCV(estimator = xgb.XGBClassifier( learning_rate =0.1, n_estimators=140, \n",
    "                        gamma=0, subsample=0.8, colsample_bytree=0.8, objective= 'binary:logistic',\n",
    "                                                  nthread=4, scale_pos_weight=1,\n",
    "                                                    max_depth = 9, min_child_weight = 1), \n",
    " param_grid = param_test3, scoring='roc_auc',n_jobs=-1, cv=5)"
   ]
  },
  {
   "cell_type": "code",
   "execution_count": 115,
   "metadata": {},
   "outputs": [
    {
     "data": {
      "text/plain": [
       "GridSearchCV(cv=5,\n",
       "             estimator=XGBClassifier(base_score=None, booster=None,\n",
       "                                     colsample_bylevel=None,\n",
       "                                     colsample_bynode=None,\n",
       "                                     colsample_bytree=0.8, gamma=0, gpu_id=None,\n",
       "                                     importance_type='gain',\n",
       "                                     interaction_constraints=None,\n",
       "                                     learning_rate=0.1, max_delta_step=None,\n",
       "                                     max_depth=9, min_child_weight=1,\n",
       "                                     missing=nan, monotone_constraints=None,\n",
       "                                     n_estimators=140, n_jobs=None, nthread=4,\n",
       "                                     num_parallel_tree=None, random_state=None,\n",
       "                                     reg_alpha=None, reg_lambda=None,\n",
       "                                     scale_pos_weight=1, subsample=0.8,\n",
       "                                     tree_method=None, validate_parameters=None,\n",
       "                                     verbosity=None),\n",
       "             n_jobs=-1, param_grid={'reg_alpha': [0, 0.001, 0.005, 0.01, 0.05]},\n",
       "             scoring='roc_auc')"
      ]
     },
     "execution_count": 115,
     "metadata": {},
     "output_type": "execute_result"
    }
   ],
   "source": [
    "gsearch3.fit(X_train, y_train)"
   ]
  },
  {
   "cell_type": "code",
   "execution_count": 116,
   "metadata": {},
   "outputs": [
    {
     "data": {
      "text/plain": [
       "0.984669710481479"
      ]
     },
     "execution_count": 116,
     "metadata": {},
     "output_type": "execute_result"
    }
   ],
   "source": [
    "gsearch3.score(X_train, y_train)"
   ]
  },
  {
   "cell_type": "code",
   "execution_count": 117,
   "metadata": {},
   "outputs": [
    {
     "data": {
      "text/plain": [
       "0.6552522613468911"
      ]
     },
     "execution_count": 117,
     "metadata": {},
     "output_type": "execute_result"
    }
   ],
   "source": [
    "gsearch3.score(X_test, y_test)"
   ]
  },
  {
   "cell_type": "code",
   "execution_count": 118,
   "metadata": {},
   "outputs": [
    {
     "data": {
      "text/plain": [
       "({'reg_alpha': 0.05}, 0.9479816659269528)"
      ]
     },
     "execution_count": 118,
     "metadata": {},
     "output_type": "execute_result"
    }
   ],
   "source": [
    "gsearch3.best_params_, gsearch3.best_score_"
   ]
  },
  {
   "cell_type": "code",
   "execution_count": 119,
   "metadata": {},
   "outputs": [
    {
     "data": {
      "text/plain": [
       "{'mean_fit_time': array([147.31728044, 153.73210015, 166.10073843, 152.34956579,\n",
       "        133.42908516]),\n",
       " 'std_fit_time': array([ 3.58431793,  6.87094846,  6.97042887,  5.29837808, 43.20120498]),\n",
       " 'mean_score_time': array([0.41744285, 0.45572305, 0.46393061, 0.49952135, 0.32967272]),\n",
       " 'std_score_time': array([0.0403255 , 0.06561123, 0.12447747, 0.03645675, 0.05953477]),\n",
       " 'param_reg_alpha': masked_array(data=[0, 0.001, 0.005, 0.01, 0.05],\n",
       "              mask=[False, False, False, False, False],\n",
       "        fill_value='?',\n",
       "             dtype=object),\n",
       " 'params': [{'reg_alpha': 0},\n",
       "  {'reg_alpha': 0.001},\n",
       "  {'reg_alpha': 0.005},\n",
       "  {'reg_alpha': 0.01},\n",
       "  {'reg_alpha': 0.05}],\n",
       " 'split0_test_score': array([0.75023418, 0.7507038 , 0.75227319, 0.75148919, 0.75285679]),\n",
       " 'split1_test_score': array([0.99695174, 0.99685817, 0.99690946, 0.99695911, 0.99692846]),\n",
       " 'split2_test_score': array([0.99659657, 0.99679466, 0.99671112, 0.99664874, 0.99670813]),\n",
       " 'split3_test_score': array([0.99647396, 0.99670293, 0.99652149, 0.99660771, 0.99667481]),\n",
       " 'split4_test_score': array([0.99665346, 0.99667777, 0.99668374, 0.99675272, 0.99674013]),\n",
       " 'mean_test_score': array([0.94738198, 0.94754747, 0.9478198 , 0.94769149, 0.94798167]),\n",
       " 'std_test_score': array([0.09857402, 0.09842185, 0.09777338, 0.09810123, 0.09756248]),\n",
       " 'rank_test_score': array([5, 4, 2, 3, 1])}"
      ]
     },
     "execution_count": 119,
     "metadata": {},
     "output_type": "execute_result"
    }
   ],
   "source": [
    "gsearch3.cv_results_"
   ]
  },
  {
   "cell_type": "markdown",
   "metadata": {},
   "source": [
    "### Tuning #4\n",
    "\n",
    "Reducing learning rate and increasing n_estimators"
   ]
  },
  {
   "cell_type": "code",
   "execution_count": 124,
   "metadata": {},
   "outputs": [],
   "source": [
    "xgb2 = xgb.XGBClassifier(\n",
    "    learning_rate =0.01,\n",
    "    n_estimators=1000, \n",
    "    gamma=0,\n",
    "    subsample=0.8,\n",
    "    colsample_bytree=0.8,\n",
    "    objective= 'binary:logistic',\n",
    "    nthread=4,\n",
    "    scale_pos_weight=1,\n",
    "    max_depth = 9,\n",
    "    min_child_weight = 1,\n",
    "    reg_alpha = 0.05)"
   ]
  },
  {
   "cell_type": "code",
   "execution_count": 125,
   "metadata": {},
   "outputs": [
    {
     "data": {
      "text/plain": [
       "XGBClassifier(base_score=0.5, booster='gbtree', colsample_bylevel=1,\n",
       "              colsample_bynode=1, colsample_bytree=0.8, gamma=0, gpu_id=-1,\n",
       "              importance_type='gain', interaction_constraints='',\n",
       "              learning_rate=0.01, max_delta_step=0, max_depth=9,\n",
       "              min_child_weight=1, missing=nan, monotone_constraints='()',\n",
       "              n_estimators=1000, n_jobs=4, nthread=4, num_parallel_tree=1,\n",
       "              random_state=0, reg_alpha=0, reg_lambda=1, scale_pos_weight=1,\n",
       "              subsample=0.8, tree_method='exact', validate_parameters=1,\n",
       "              verbosity=None)"
      ]
     },
     "execution_count": 125,
     "metadata": {},
     "output_type": "execute_result"
    }
   ],
   "source": [
    "xgb2.fit(X_train, y_train)"
   ]
  },
  {
   "cell_type": "code",
   "execution_count": 126,
   "metadata": {},
   "outputs": [],
   "source": [
    "#predict\n",
    "xgb2_pred = xgb1.predict(X_test)"
   ]
  },
  {
   "cell_type": "code",
   "execution_count": 127,
   "metadata": {},
   "outputs": [
    {
     "name": "stdout",
     "output_type": "stream",
     "text": [
      "XGBoost Test Accuracy = 0.156\n",
      "XGBoost Test AUC = 0.640\n"
     ]
    }
   ],
   "source": [
    "## Metrics\n",
    "\n",
    "#ACCURACY\n",
    "xgb2_acc = accuracy_score(y_test, xgb2_pred)\n",
    "\n",
    "#AUC\n",
    "xgb2_prob = xgb2.predict_proba(X_test)\n",
    "xgb2_prob = xgb2_prob[:, 1]\n",
    "\n",
    "xgb2_auc = roc_auc_score(y_test, xgb2_prob)\n",
    "\n",
    "print('XGBoost Test Accuracy = %.3f' % (xgb2_acc))\n",
    "print('XGBoost Test AUC = %.3f' % (xgb2_auc))"
   ]
  },
  {
   "cell_type": "code",
   "execution_count": 139,
   "metadata": {},
   "outputs": [
    {
     "data": {
      "text/plain": [
       "Text(0.5, 0, 'False Positive Rate')"
      ]
     },
     "execution_count": 139,
     "metadata": {},
     "output_type": "execute_result"
    },
    {
     "data": {
      "image/png": "[encoded data removed]",
      "text/plain": [
       "<Figure size 921.6x633.6 with 1 Axes>"
      ]
     },
     "metadata": {},
     "output_type": "display_data"
    }
   ],
   "source": [
    "## AUC plot\n",
    "xgb2_fpr, xgb2_tpr, threshold = roc_curve(y_test, xgb2_prob)\n",
    "xgb2_roc_auc = metrics.auc(xgb2_fpr, xgb2_tpr)\n",
    "\n",
    "# method I: plt\n",
    "plt.title('Receiver Operating Characteristic')\n",
    "plt.plot(xgb2_fpr, xgb2_tpr, 'b', label = 'XGBoost AUC = %0.2f' % xgb2_roc_auc)\n",
    "plt.plot(rf_fpr, rf_tpr, label = 'Random Forest AUC = %0.2f' % rf_roc_auc)\n",
    "plt.plot(lr_fpr, lr_tpr, label = 'Logistic Regression AUC = %0.2f' % lr_roc_auc)\n",
    "plt.legend(loc = 'lower right')\n",
    "plt.plot([0, 1], [0, 1],'r--')\n",
    "plt.xlim([0, 1])\n",
    "plt.ylim([0, 1])\n",
    "plt.ylabel('True Positive Rate')\n",
    "plt.xlabel('False Positive Rate')"
   ]
  },
  {
   "cell_type": "markdown",
   "metadata": {},
   "source": [
    "The best model still Logistic Regression after hyperparameter tunning."
   ]
  },
  {
   "cell_type": "code",
   "execution_count": null,
   "metadata": {},
   "outputs": [],
   "source": []
  }
 ],
 "metadata": {
  "kernelspec": {
   "display_name": "Python 3",
   "language": "python",
   "name": "python3"
  },
  "language_info": {
   "codemirror_mode": {
    "name": "ipython",
    "version": 3
   },
   "file_extension": ".py",
   "mimetype": "text/x-python",
   "name": "python",
   "nbconvert_exporter": "python",
   "pygments_lexer": "ipython3",
   "version": "3.7.6"
  }
 },
 "nbformat": 4,
 "nbformat_minor": 4
}
